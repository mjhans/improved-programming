{
 "cells": [
  {
   "cell_type": "code",
   "execution_count": 1,
   "id": "88f73fa4-11fe-4eb3-b4a1-186df00d1de6",
   "metadata": {},
   "outputs": [],
   "source": [
    "f = open(\"new_file.txt\", \"w\")\n",
    "f.close()"
   ]
  },
  {
   "cell_type": "code",
   "execution_count": 7,
   "id": "19af8a40-af9c-4890-b43f-652ab0e14fea",
   "metadata": {},
   "outputs": [
    {
     "name": "stdout",
     "output_type": "stream",
     "text": [
      "total 48\n",
      "drwxr-xr-x 3 mjhans mjhans  4096 Nov  3 09:25 .\n",
      "drwxr-xr-x 8 mjhans mjhans  4096 Oct 13 10:03 ..\n",
      "-rw-r--r-- 1 mjhans mjhans    72 Nov  3 09:24 fileio.ipynb\n",
      "-rw-r--r-- 1 mjhans mjhans 30187 Oct 13 11:40 function.ipynb\n",
      "drwxr-xr-x 2 mjhans mjhans  4096 Nov  3 09:24 .ipynb_checkpoints\n",
      "-rw-r--r-- 1 mjhans mjhans     0 Nov  3 09:25 new_file.txt\n"
     ]
    }
   ],
   "source": [
    "%%sh\n",
    "ls -al\n"
   ]
  },
  {
   "cell_type": "code",
   "execution_count": 8,
   "id": "70ee2d2a-b21f-46f8-8fe2-7874b1368bff",
   "metadata": {},
   "outputs": [
    {
     "data": {
      "text/plain": [
       "<_io.TextIOWrapper name='new_file.txt' mode='w' encoding='UTF-8'>"
      ]
     },
     "execution_count": 8,
     "metadata": {},
     "output_type": "execute_result"
    }
   ],
   "source": [
    "f"
   ]
  },
  {
   "cell_type": "code",
   "execution_count": 9,
   "id": "4c9edf70-d580-449e-b554-10fd7eb6340b",
   "metadata": {},
   "outputs": [
    {
     "ename": "ValueError",
     "evalue": "I/O operation on closed file.",
     "output_type": "error",
     "traceback": [
      "\u001b[0;31m---------------------------------------------------------------------------\u001b[0m",
      "\u001b[0;31mValueError\u001b[0m                                Traceback (most recent call last)",
      "Cell \u001b[0;32mIn[9], line 1\u001b[0m\n\u001b[0;32m----> 1\u001b[0m \u001b[43mf\u001b[49m\u001b[38;5;241;43m.\u001b[39;49m\u001b[43mwrite\u001b[49m\u001b[43m(\u001b[49m\u001b[38;5;124;43m\"\u001b[39;49m\u001b[38;5;124;43mhello\u001b[39;49m\u001b[38;5;124;43m\"\u001b[39;49m\u001b[43m)\u001b[49m\n",
      "\u001b[0;31mValueError\u001b[0m: I/O operation on closed file."
     ]
    }
   ],
   "source": [
    "f.write(\"hello\")"
   ]
  },
  {
   "cell_type": "code",
   "execution_count": 11,
   "id": "293b0ffb-afcb-4a4a-b9c8-d9122aa02be5",
   "metadata": {},
   "outputs": [],
   "source": [
    "f = open(\"new_file.txt\", \"w\")\n",
    "f.write(\"hello \\n\")\n",
    "f.close()"
   ]
  },
  {
   "cell_type": "code",
   "execution_count": 12,
   "id": "cb2b47a9-b96b-4122-957b-e506930cc0b9",
   "metadata": {},
   "outputs": [],
   "source": [
    "f = open(\"new_file.txt\", \"w\")\n",
    "f.close()"
   ]
  },
  {
   "cell_type": "code",
   "execution_count": 13,
   "id": "2b85fe4a-36a9-4a63-a2cf-d31ba06b3cc8",
   "metadata": {},
   "outputs": [
    {
     "ename": "FileExistsError",
     "evalue": "[Errno 17] File exists: 'new_file.txt'",
     "output_type": "error",
     "traceback": [
      "\u001b[0;31m---------------------------------------------------------------------------\u001b[0m",
      "\u001b[0;31mFileExistsError\u001b[0m                           Traceback (most recent call last)",
      "Cell \u001b[0;32mIn[13], line 1\u001b[0m\n\u001b[0;32m----> 1\u001b[0m f \u001b[38;5;241m=\u001b[39m \u001b[38;5;28;43mopen\u001b[39;49m\u001b[43m(\u001b[49m\u001b[38;5;124;43m\"\u001b[39;49m\u001b[38;5;124;43mnew_file.txt\u001b[39;49m\u001b[38;5;124;43m\"\u001b[39;49m\u001b[43m,\u001b[49m\u001b[43m \u001b[49m\u001b[38;5;124;43m\"\u001b[39;49m\u001b[38;5;124;43mx\u001b[39;49m\u001b[38;5;124;43m\"\u001b[39;49m\u001b[43m)\u001b[49m\n\u001b[1;32m      2\u001b[0m f\u001b[38;5;241m.\u001b[39mclose()\n",
      "File \u001b[0;32m~/.pyenv/versions/3.11.5/envs/python-class/lib/python3.11/site-packages/IPython/core/interactiveshell.py:286\u001b[0m, in \u001b[0;36m_modified_open\u001b[0;34m(file, *args, **kwargs)\u001b[0m\n\u001b[1;32m    279\u001b[0m \u001b[38;5;28;01mif\u001b[39;00m file \u001b[38;5;129;01min\u001b[39;00m {\u001b[38;5;241m0\u001b[39m, \u001b[38;5;241m1\u001b[39m, \u001b[38;5;241m2\u001b[39m}:\n\u001b[1;32m    280\u001b[0m     \u001b[38;5;28;01mraise\u001b[39;00m \u001b[38;5;167;01mValueError\u001b[39;00m(\n\u001b[1;32m    281\u001b[0m         \u001b[38;5;124mf\u001b[39m\u001b[38;5;124m\"\u001b[39m\u001b[38;5;124mIPython won\u001b[39m\u001b[38;5;124m'\u001b[39m\u001b[38;5;124mt let you open fd=\u001b[39m\u001b[38;5;132;01m{\u001b[39;00mfile\u001b[38;5;132;01m}\u001b[39;00m\u001b[38;5;124m by default \u001b[39m\u001b[38;5;124m\"\u001b[39m\n\u001b[1;32m    282\u001b[0m         \u001b[38;5;124m\"\u001b[39m\u001b[38;5;124mas it is likely to crash IPython. If you know what you are doing, \u001b[39m\u001b[38;5;124m\"\u001b[39m\n\u001b[1;32m    283\u001b[0m         \u001b[38;5;124m\"\u001b[39m\u001b[38;5;124myou can use builtins\u001b[39m\u001b[38;5;124m'\u001b[39m\u001b[38;5;124m open.\u001b[39m\u001b[38;5;124m\"\u001b[39m\n\u001b[1;32m    284\u001b[0m     )\n\u001b[0;32m--> 286\u001b[0m \u001b[38;5;28;01mreturn\u001b[39;00m \u001b[43mio_open\u001b[49m\u001b[43m(\u001b[49m\u001b[43mfile\u001b[49m\u001b[43m,\u001b[49m\u001b[43m \u001b[49m\u001b[38;5;241;43m*\u001b[39;49m\u001b[43margs\u001b[49m\u001b[43m,\u001b[49m\u001b[43m \u001b[49m\u001b[38;5;241;43m*\u001b[39;49m\u001b[38;5;241;43m*\u001b[39;49m\u001b[43mkwargs\u001b[49m\u001b[43m)\u001b[49m\n",
      "\u001b[0;31mFileExistsError\u001b[0m: [Errno 17] File exists: 'new_file.txt'"
     ]
    }
   ],
   "source": [
    "f = open(\"new_file.txt\", \"x\")\n",
    "f.close()"
   ]
  },
  {
   "cell_type": "code",
   "execution_count": 14,
   "id": "394c5723-adfb-4349-ae17-c9d1bfbdd6e5",
   "metadata": {},
   "outputs": [
    {
     "name": "stdout",
     "output_type": "stream",
     "text": [
      "[Errno 17] File exists: 'new_file.txt'\n"
     ]
    }
   ],
   "source": [
    "try:\n",
    "    f = open(\"new_file.txt\", \"x\")\n",
    "    f.close()\n",
    "except Exception as e:\n",
    "    \n",
    "    print(e)"
   ]
  },
  {
   "cell_type": "markdown",
   "id": "70b5e8be-d217-4c0e-ba3b-cb18d255d5b5",
   "metadata": {},
   "source": [
    "# 리스트 값을 파일로 쓰기"
   ]
  },
  {
   "cell_type": "code",
   "execution_count": 19,
   "id": "907aba94-6521-41d5-9980-98fa52d14efc",
   "metadata": {},
   "outputs": [],
   "source": [
    "msg = [\n",
    "    \"hello,world1 \\n\",\n",
    "    \"hello,world2 \\n\",\n",
    "    \"hello,world3 \\n\",\n",
    "    \"hello1\",\n",
    "    \"hello2\"\n",
    "]\n",
    "f = open(\"new_file.txt\", \"w\")\n",
    "f.writelines(msg)\n",
    "f.close()"
   ]
  },
  {
   "cell_type": "code",
   "execution_count": 18,
   "id": "1880ea04-2f67-4894-a9fb-346d88ef97fb",
   "metadata": {},
   "outputs": [],
   "source": [
    "f = open(\"new_file.txt\", \"w\")\n",
    "f.write(\"hello, world\")\n",
    "f.close()"
   ]
  },
  {
   "cell_type": "markdown",
   "id": "f249e617-eb8a-4031-914f-d556ca962f5c",
   "metadata": {},
   "source": [
    "# 파일 읽기"
   ]
  },
  {
   "cell_type": "code",
   "execution_count": 20,
   "id": "e3542653-7534-4d8c-9035-658d99c5a2ef",
   "metadata": {},
   "outputs": [],
   "source": [
    "# 읽기를위해서\n",
    "msg = [\n",
    "    \"hello,world1 \\n\",\n",
    "    \"hello,world2 \\n\",\n",
    "    \"hello,world3 \\n\",\n",
    "    \"hello1\",\n",
    "    \"hello2\"\n",
    "]\n",
    "f = open(\"new_file.txt\", \"w\")\n",
    "f.writelines(msg)\n",
    "f.close()"
   ]
  },
  {
   "cell_type": "code",
   "execution_count": 22,
   "id": "6d1a3a3d-1997-469a-9d6c-dfdcd5af000d",
   "metadata": {},
   "outputs": [
    {
     "name": "stdout",
     "output_type": "stream",
     "text": [
      "hello,world1 \n",
      "hello,world2 \n",
      "hello,world3 \n",
      "hello1hello2\n"
     ]
    }
   ],
   "source": [
    "f = open(\"new_file.txt\", \"r\")\n",
    "data = f.read()\n",
    "f.close()\n",
    "print(data)\n"
   ]
  },
  {
   "cell_type": "code",
   "execution_count": 23,
   "id": "be07ca8c-054f-43d1-b259-ce2eb12a993a",
   "metadata": {},
   "outputs": [
    {
     "data": {
      "text/plain": [
       "<_io.TextIOWrapper name='new_file.txt' mode='r' encoding='UTF-8'>"
      ]
     },
     "execution_count": 23,
     "metadata": {},
     "output_type": "execute_result"
    }
   ],
   "source": [
    "f "
   ]
  },
  {
   "cell_type": "code",
   "execution_count": 24,
   "id": "31d05603-c690-4f16-ba57-0d545f64485b",
   "metadata": {},
   "outputs": [
    {
     "name": "stdout",
     "output_type": "stream",
     "text": [
      "hello,world1 \n",
      "\n",
      "hello,world2 \n",
      "\n",
      "hello,world3 \n",
      "\n",
      "hello1hello2\n"
     ]
    }
   ],
   "source": [
    "f = open(\"new_file.txt\", \"r\")\n",
    "for line in f:\n",
    "    print(line)\n",
    "f.close()\n"
   ]
  },
  {
   "cell_type": "code",
   "execution_count": 25,
   "id": "efe2befd-8799-482a-a5d8-05c45a8e557e",
   "metadata": {},
   "outputs": [
    {
     "name": "stdout",
     "output_type": "stream",
     "text": [
      "hello,world1 \n",
      "\n",
      "hello,world2 \n",
      "\n",
      "hello,world3 \n",
      "\n",
      "hello1hello2\n"
     ]
    }
   ],
   "source": [
    "f = open(\"new_file.txt\", \"r\")\n",
    "while line := f.readline():\n",
    "    print(line)\n",
    "f.close()\n"
   ]
  },
  {
   "cell_type": "code",
   "execution_count": 27,
   "id": "303db688-973a-45c3-9a75-4838f1cd485f",
   "metadata": {},
   "outputs": [
    {
     "name": "stdout",
     "output_type": "stream",
     "text": [
      "['hello,world1 \\n', 'hello,world2 \\n', 'hello,world3 \\n', 'hello1hello2']\n"
     ]
    }
   ],
   "source": [
    "f = open(\"new_file.txt\", \"r\")\n",
    "data = f.readlines()\n",
    "f.close()\n",
    "print(data)"
   ]
  },
  {
   "cell_type": "markdown",
   "id": "fa0978c3-7158-4361-9f1b-847f03a833d7",
   "metadata": {},
   "source": [
    "# append"
   ]
  },
  {
   "cell_type": "code",
   "execution_count": 31,
   "id": "a8048e43-bf55-4778-8535-370dc90f5756",
   "metadata": {},
   "outputs": [],
   "source": [
    "f = open(\"new_file.txt\", \"a\")\n",
    "f.write(\"append str \\n\")\n",
    "f.close()"
   ]
  },
  {
   "cell_type": "code",
   "execution_count": 32,
   "id": "558ce75b-8c5e-4c01-aeb6-88350781575d",
   "metadata": {},
   "outputs": [],
   "source": [
    "f = open(\"new_file2.txt\", \"a\")\n",
    "f.write(\"append str \\n\")\n",
    "f.close()"
   ]
  },
  {
   "cell_type": "code",
   "execution_count": null,
   "id": "da8ee9d9-1b4f-4b2a-aa27-7cf9dda89cda",
   "metadata": {},
   "outputs": [],
   "source": []
  },
  {
   "cell_type": "code",
   "execution_count": 34,
   "id": "8ac3e5c1-78ca-44e0-b858-ffeb3817c76d",
   "metadata": {},
   "outputs": [],
   "source": [
    "f = open(\"new_file.txt\", \"r+\")\n",
    "f.write(\"aaa\")\n",
    "f.close()"
   ]
  },
  {
   "cell_type": "code",
   "execution_count": null,
   "id": "82e003c7-8844-4ff1-aed0-7242b359d057",
   "metadata": {},
   "outputs": [],
   "source": []
  },
  {
   "cell_type": "code",
   "execution_count": 35,
   "id": "f8830ffc-5e60-40dc-9ba1-6d3a006c583c",
   "metadata": {},
   "outputs": [
    {
     "name": "stdout",
     "output_type": "stream",
     "text": [
      "aaaend str \n",
      "\n",
      " \n",
      "\n",
      "hello,world2 \n",
      "\n",
      "hello,world3 \n",
      "\n",
      "hello1hello2append str \n",
      "\n",
      "append str \n",
      "\n",
      "append str \n",
      "\n"
     ]
    }
   ],
   "source": [
    "with open(\"new_file.txt\", \"r\") as f:\n",
    "    for line in f:\n",
    "        print(line)\n"
   ]
  },
  {
   "cell_type": "code",
   "execution_count": null,
   "id": "d12bc863-58ea-4719-981a-223a5ee8f74e",
   "metadata": {},
   "outputs": [],
   "source": []
  },
  {
   "cell_type": "code",
   "execution_count": null,
   "id": "519bb717-2fa3-44aa-b1fa-e2817c0a9dca",
   "metadata": {},
   "outputs": [],
   "source": []
  },
  {
   "cell_type": "code",
   "execution_count": null,
   "id": "0188d8d7-f9e4-4d7d-ab36-722af02d55c1",
   "metadata": {},
   "outputs": [],
   "source": []
  },
  {
   "cell_type": "code",
   "execution_count": null,
   "id": "20794549-7d58-4035-9eec-2eb01b0dc9de",
   "metadata": {},
   "outputs": [],
   "source": []
  },
  {
   "cell_type": "code",
   "execution_count": null,
   "id": "b5b445b6-61c6-403d-ba4f-6a13b0d422da",
   "metadata": {},
   "outputs": [],
   "source": []
  },
  {
   "cell_type": "code",
   "execution_count": null,
   "id": "7c8ca239-b1c6-4468-8148-3bf97228d2de",
   "metadata": {},
   "outputs": [],
   "source": []
  },
  {
   "cell_type": "code",
   "execution_count": null,
   "id": "2ad0a560-5eb7-45f1-9e31-cf5190425922",
   "metadata": {},
   "outputs": [],
   "source": []
  },
  {
   "cell_type": "code",
   "execution_count": null,
   "id": "45d90717-f239-48be-a163-fa8591993555",
   "metadata": {},
   "outputs": [],
   "source": []
  },
  {
   "cell_type": "code",
   "execution_count": null,
   "id": "63a451b1-da6d-473b-9d7f-86fb05eb02ec",
   "metadata": {},
   "outputs": [],
   "source": []
  },
  {
   "cell_type": "code",
   "execution_count": null,
   "id": "f20ec768-fbb9-48f8-bd24-26e99083417e",
   "metadata": {},
   "outputs": [],
   "source": []
  },
  {
   "cell_type": "code",
   "execution_count": null,
   "id": "3b2d97c2-6c1c-4370-85d6-82e09c7ee401",
   "metadata": {},
   "outputs": [],
   "source": []
  },
  {
   "cell_type": "code",
   "execution_count": null,
   "id": "d2377ce7-79c7-43e9-9fa5-e64fa0e999af",
   "metadata": {},
   "outputs": [],
   "source": []
  },
  {
   "cell_type": "code",
   "execution_count": null,
   "id": "b1f7fa59-eea2-4aeb-8977-186154e17f1e",
   "metadata": {},
   "outputs": [],
   "source": []
  },
  {
   "cell_type": "code",
   "execution_count": null,
   "id": "5bfe503f-9658-4f56-a65d-e56c00c35ab6",
   "metadata": {},
   "outputs": [],
   "source": []
  },
  {
   "cell_type": "code",
   "execution_count": null,
   "id": "c18f8893-25d5-4b82-8926-78bb85fd9600",
   "metadata": {},
   "outputs": [],
   "source": []
  }
 ],
 "metadata": {
  "kernelspec": {
   "display_name": "Python 3 (ipykernel)",
   "language": "python",
   "name": "python3"
  },
  "language_info": {
   "codemirror_mode": {
    "name": "ipython",
    "version": 3
   },
   "file_extension": ".py",
   "mimetype": "text/x-python",
   "name": "python",
   "nbconvert_exporter": "python",
   "pygments_lexer": "ipython3",
   "version": "3.11.5"
  }
 },
 "nbformat": 4,
 "nbformat_minor": 5
}
