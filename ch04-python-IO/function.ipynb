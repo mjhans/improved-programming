{
 "cells": [
  {
   "cell_type": "code",
   "execution_count": 1,
   "id": "0cdb0a44-4a9f-4f07-94fd-c6153d958eaa",
   "metadata": {},
   "outputs": [],
   "source": [
    "def add(a, b):\n",
    "    return a + b"
   ]
  },
  {
   "cell_type": "code",
   "execution_count": 2,
   "id": "4a6d977e-348c-431d-a794-ad703a91b099",
   "metadata": {},
   "outputs": [
    {
     "name": "stdout",
     "output_type": "stream",
     "text": [
      "7\n"
     ]
    }
   ],
   "source": [
    "v = add(3, 4)\n",
    "print(v)"
   ]
  },
  {
   "cell_type": "code",
   "execution_count": 3,
   "id": "4d4af302-0458-4786-8bf2-2cd227817154",
   "metadata": {},
   "outputs": [
    {
     "name": "stdout",
     "output_type": "stream",
     "text": [
      "ab\n"
     ]
    }
   ],
   "source": [
    "s = add(\"a\", \"b\")\n",
    "print(s)"
   ]
  },
  {
   "cell_type": "code",
   "execution_count": 4,
   "id": "071877cc-bd81-4e19-ad39-1124f8e5b093",
   "metadata": {},
   "outputs": [
    {
     "ename": "TypeError",
     "evalue": "can only concatenate str (not \"int\") to str",
     "output_type": "error",
     "traceback": [
      "\u001b[0;31m---------------------------------------------------------------------------\u001b[0m",
      "\u001b[0;31mTypeError\u001b[0m                                 Traceback (most recent call last)",
      "Cell \u001b[0;32mIn[4], line 1\u001b[0m\n\u001b[0;32m----> 1\u001b[0m \u001b[38;5;28mprint\u001b[39m(\u001b[43madd\u001b[49m\u001b[43m(\u001b[49m\u001b[38;5;124;43m\"\u001b[39;49m\u001b[38;5;124;43ma\u001b[39;49m\u001b[38;5;124;43m\"\u001b[39;49m\u001b[43m,\u001b[49m\u001b[38;5;241;43m3\u001b[39;49m\u001b[43m)\u001b[49m)\n",
      "Cell \u001b[0;32mIn[1], line 2\u001b[0m, in \u001b[0;36madd\u001b[0;34m(a, b)\u001b[0m\n\u001b[1;32m      1\u001b[0m \u001b[38;5;28;01mdef\u001b[39;00m \u001b[38;5;21madd\u001b[39m(a, b):\n\u001b[0;32m----> 2\u001b[0m     \u001b[38;5;28;01mreturn\u001b[39;00m \u001b[43ma\u001b[49m\u001b[43m \u001b[49m\u001b[38;5;241;43m+\u001b[39;49m\u001b[43m \u001b[49m\u001b[43mb\u001b[49m\n",
      "\u001b[0;31mTypeError\u001b[0m: can only concatenate str (not \"int\") to str"
     ]
    }
   ],
   "source": [
    "print(add(\"a\",3))"
   ]
  },
  {
   "cell_type": "code",
   "execution_count": 5,
   "id": "7334745a-f430-4cdd-8c6d-f89105238321",
   "metadata": {},
   "outputs": [],
   "source": [
    "def show(message):\n",
    "    print(message)"
   ]
  },
  {
   "cell_type": "code",
   "execution_count": 6,
   "id": "b0cd2a0e-f1f2-4cf0-8282-74ba3cb146f8",
   "metadata": {},
   "outputs": [
    {
     "name": "stdout",
     "output_type": "stream",
     "text": [
      "print\n"
     ]
    }
   ],
   "source": [
    "show(\"print\")"
   ]
  },
  {
   "cell_type": "code",
   "execution_count": 8,
   "id": "f72d0f22-a494-4049-a56a-11596c705676",
   "metadata": {},
   "outputs": [
    {
     "name": "stdout",
     "output_type": "stream",
     "text": [
      "print\n",
      "None\n",
      "<class 'NoneType'>\n"
     ]
    }
   ],
   "source": [
    "r = show(\"print\")\n",
    "print(r)\n",
    "print(type(r))"
   ]
  },
  {
   "cell_type": "code",
   "execution_count": 9,
   "id": "dfbf2370-2f3a-45f4-a5bc-d47094fda9bb",
   "metadata": {},
   "outputs": [],
   "source": [
    "def sub(a, b):\n",
    "    return a - b"
   ]
  },
  {
   "cell_type": "code",
   "execution_count": 10,
   "id": "b48ebc9a-3ef5-43f3-9e7a-305d7ea1192a",
   "metadata": {},
   "outputs": [
    {
     "data": {
      "text/plain": [
       "-1"
      ]
     },
     "execution_count": 10,
     "metadata": {},
     "output_type": "execute_result"
    }
   ],
   "source": [
    "sub(1, 2)"
   ]
  },
  {
   "cell_type": "code",
   "execution_count": 11,
   "id": "ae235573-7342-4349-ab6e-4fa0232d7815",
   "metadata": {},
   "outputs": [
    {
     "data": {
      "text/plain": [
       "1"
      ]
     },
     "execution_count": 11,
     "metadata": {},
     "output_type": "execute_result"
    }
   ],
   "source": [
    "sub(a = 3, b = 2)"
   ]
  },
  {
   "cell_type": "code",
   "execution_count": 12,
   "id": "324b5f9e-80b2-43b6-add4-dd150b986f32",
   "metadata": {},
   "outputs": [
    {
     "data": {
      "text/plain": [
       "1"
      ]
     },
     "execution_count": 12,
     "metadata": {},
     "output_type": "execute_result"
    }
   ],
   "source": [
    "sub(b = 2, a = 3)"
   ]
  },
  {
   "cell_type": "code",
   "execution_count": 13,
   "id": "af0fbbc3-0719-44cc-94df-ee3d8c9d6bd6",
   "metadata": {},
   "outputs": [
    {
     "data": {
      "text/plain": [
       "1"
      ]
     },
     "execution_count": 13,
     "metadata": {},
     "output_type": "execute_result"
    }
   ],
   "source": [
    "sub(3, b = 2)"
   ]
  },
  {
   "cell_type": "code",
   "execution_count": 14,
   "id": "23f6e6bf-0893-4584-908a-5f943d0e5eeb",
   "metadata": {},
   "outputs": [
    {
     "ename": "SyntaxError",
     "evalue": "positional argument follows keyword argument (3518215392.py, line 1)",
     "output_type": "error",
     "traceback": [
      "\u001b[0;36m  Cell \u001b[0;32mIn[14], line 1\u001b[0;36m\u001b[0m\n\u001b[0;31m    sub(a = 3, 2)\u001b[0m\n\u001b[0m                ^\u001b[0m\n\u001b[0;31mSyntaxError\u001b[0m\u001b[0;31m:\u001b[0m positional argument follows keyword argument\n"
     ]
    }
   ],
   "source": [
    "sub(a = 3, 2)"
   ]
  },
  {
   "cell_type": "code",
   "execution_count": 18,
   "id": "e1c556ef-0bd7-4d30-aa7b-f439e86abc5c",
   "metadata": {},
   "outputs": [],
   "source": [
    "def add_many(*args):\n",
    "    print(f\"{type(args)=}\")\n",
    "    return sum(args)\n",
    "    "
   ]
  },
  {
   "cell_type": "code",
   "execution_count": 19,
   "id": "fd2359cb-5a2e-4e1d-bb51-99d87bb05bcd",
   "metadata": {},
   "outputs": [
    {
     "name": "stdout",
     "output_type": "stream",
     "text": [
      "type(args)=<class 'tuple'>\n"
     ]
    },
    {
     "data": {
      "text/plain": [
       "15"
      ]
     },
     "execution_count": 19,
     "metadata": {},
     "output_type": "execute_result"
    }
   ],
   "source": [
    "add_many(1,2,3,4,5)"
   ]
  },
  {
   "cell_type": "code",
   "execution_count": 20,
   "id": "4944c354-54bd-41e0-a138-90014babeead",
   "metadata": {},
   "outputs": [
    {
     "name": "stdout",
     "output_type": "stream",
     "text": [
      "type(args)=<class 'tuple'>\n"
     ]
    },
    {
     "data": {
      "text/plain": [
       "59"
      ]
     },
     "execution_count": 20,
     "metadata": {},
     "output_type": "execute_result"
    }
   ],
   "source": [
    "add_many(1,2,3,4,5,5,6,7,8,9,9)"
   ]
  },
  {
   "cell_type": "code",
   "execution_count": 22,
   "id": "0d3e2185-8fda-4437-a19d-c4513e9f7598",
   "metadata": {},
   "outputs": [
    {
     "name": "stdout",
     "output_type": "stream",
     "text": [
      "type(args)=<class 'tuple'>\n"
     ]
    },
    {
     "data": {
      "text/plain": [
       "56.0"
      ]
     },
     "execution_count": 22,
     "metadata": {},
     "output_type": "execute_result"
    }
   ],
   "source": [
    "add_many(1,2,3,4,5,5,6,7,5.0,9,9)"
   ]
  },
  {
   "cell_type": "code",
   "execution_count": 23,
   "id": "9fcb7b25-6bcc-414a-a3c4-167a88f14f23",
   "metadata": {},
   "outputs": [],
   "source": [
    "def add_mul(choice, *args):\n",
    "    total = 1\n",
    "    if choice == \"add\":\n",
    "        total =sum(args)\n",
    "    elif choice == \"mul\":\n",
    "        for elem in args:\n",
    "            total *= elem\n",
    "    else:\n",
    "        print(\"end\")\n",
    "    return total\n",
    "        "
   ]
  },
  {
   "cell_type": "code",
   "execution_count": 24,
   "id": "1e7e1d39-ec07-4d9c-8ab4-b20f3315387f",
   "metadata": {},
   "outputs": [
    {
     "data": {
      "text/plain": [
       "15"
      ]
     },
     "execution_count": 24,
     "metadata": {},
     "output_type": "execute_result"
    }
   ],
   "source": [
    "add_mul(\"add\", 1,2,3,4,5)"
   ]
  },
  {
   "cell_type": "code",
   "execution_count": 25,
   "id": "d2e033a9-e360-456d-8e9e-d5a474f0995e",
   "metadata": {},
   "outputs": [
    {
     "data": {
      "text/plain": [
       "120"
      ]
     },
     "execution_count": 25,
     "metadata": {},
     "output_type": "execute_result"
    }
   ],
   "source": [
    "add_mul(\"mul\", 1,2,3,4,5)"
   ]
  },
  {
   "cell_type": "code",
   "execution_count": 26,
   "id": "d3a8f74c-9a7b-4684-adc0-edcf32ce5670",
   "metadata": {},
   "outputs": [],
   "source": [
    "def print_kwargs(**kwargs):\n",
    "    print(kwargs)\n",
    "    print(type(kwargs))"
   ]
  },
  {
   "cell_type": "code",
   "execution_count": 27,
   "id": "cdb6da56-81f1-42a7-ba3d-58d53e909c45",
   "metadata": {},
   "outputs": [
    {
     "name": "stdout",
     "output_type": "stream",
     "text": [
      "{'a': 3, 'b': 5, 'c': 6}\n",
      "<class 'dict'>\n"
     ]
    }
   ],
   "source": [
    "print_kwargs(a= 3, b=5, c = 6)"
   ]
  },
  {
   "cell_type": "code",
   "execution_count": 28,
   "id": "3a4b8bd1-6f18-4bf1-9c6e-f6ff2020cf52",
   "metadata": {},
   "outputs": [],
   "source": [
    "def print_kwargs(a, *args,**kwargs):\n",
    "    print(f\"{a = }\")\n",
    "    print(f\"{args = }\")\n",
    "    print(f\"{kwargs = }\")"
   ]
  },
  {
   "cell_type": "code",
   "execution_count": 29,
   "id": "c80d9222-43e7-4cf8-82cf-1b5c5227e8ac",
   "metadata": {},
   "outputs": [
    {
     "name": "stdout",
     "output_type": "stream",
     "text": [
      "a = 3\n",
      "args = ()\n",
      "kwargs = {'b': 4, 'c': 5}\n"
     ]
    }
   ],
   "source": [
    "print_kwargs(a = 3, b=4, c=5)"
   ]
  },
  {
   "cell_type": "code",
   "execution_count": 30,
   "id": "36f0a647-687b-4184-a6fe-610bff848917",
   "metadata": {},
   "outputs": [
    {
     "name": "stdout",
     "output_type": "stream",
     "text": [
      "a = 3\n",
      "args = ()\n",
      "kwargs = {'b': 4, 'c': 5}\n"
     ]
    }
   ],
   "source": [
    "print_kwargs(3, b=4, c=5)"
   ]
  },
  {
   "cell_type": "code",
   "execution_count": 31,
   "id": "d93641b5-eafb-4872-a001-edc404b375d2",
   "metadata": {},
   "outputs": [
    {
     "name": "stdout",
     "output_type": "stream",
     "text": [
      "a = 3\n",
      "args = (6, 7, 8)\n",
      "kwargs = {'b': 4, 'c': 5}\n"
     ]
    }
   ],
   "source": [
    "print_kwargs(3, 6, 7, 8, b=4, c=5)"
   ]
  },
  {
   "cell_type": "code",
   "execution_count": 32,
   "id": "88cd6173-fc85-4ec1-ad72-34a853b809d8",
   "metadata": {},
   "outputs": [
    {
     "ename": "SyntaxError",
     "evalue": "positional argument follows keyword argument (286189334.py, line 1)",
     "output_type": "error",
     "traceback": [
      "\u001b[0;36m  Cell \u001b[0;32mIn[32], line 1\u001b[0;36m\u001b[0m\n\u001b[0;31m    print_kwargs(a = 3, 6, 7, 8, b=4, c=5)\u001b[0m\n\u001b[0m                                         ^\u001b[0m\n\u001b[0;31mSyntaxError\u001b[0m\u001b[0;31m:\u001b[0m positional argument follows keyword argument\n"
     ]
    }
   ],
   "source": [
    "print_kwargs(a = 3, 6, 7, 8, b=4, c=5)"
   ]
  },
  {
   "cell_type": "code",
   "execution_count": 33,
   "id": "65236891-033e-4273-a723-0059d12b4b32",
   "metadata": {},
   "outputs": [
    {
     "name": "stdout",
     "output_type": "stream",
     "text": [
      "a = 3\n",
      "args = ()\n",
      "kwargs = {'d': 4, 'b': 4, 'c': 5}\n"
     ]
    }
   ],
   "source": [
    "print_kwargs(a = 3,d = 4, b=4, c=5)"
   ]
  },
  {
   "cell_type": "code",
   "execution_count": 37,
   "id": "ddbb840d-96b1-4932-b0a5-949d6acca8b3",
   "metadata": {},
   "outputs": [],
   "source": [
    "def print_kwargs_2(**kwargs):\n",
    "    print(kwargs.get(\"a\", 4))\n",
    "    print(f\"{kwargs = }\")"
   ]
  },
  {
   "cell_type": "code",
   "execution_count": 38,
   "id": "0b948296-a467-42cd-87c5-e82938f049ac",
   "metadata": {},
   "outputs": [
    {
     "name": "stdout",
     "output_type": "stream",
     "text": [
      "3\n",
      "kwargs = {'a': 3, 'b': 2}\n"
     ]
    }
   ],
   "source": [
    "print_kwargs_2( a = 3, b=2)"
   ]
  },
  {
   "cell_type": "code",
   "execution_count": 39,
   "id": "29f08abd-ce48-42db-a806-60b956ca25c7",
   "metadata": {},
   "outputs": [
    {
     "name": "stdout",
     "output_type": "stream",
     "text": [
      "4\n",
      "kwargs = {'c': 3, 'b': 2}\n"
     ]
    }
   ],
   "source": [
    "print_kwargs_2( c = 3, b=2)"
   ]
  },
  {
   "cell_type": "code",
   "execution_count": 43,
   "id": "137c16b5-5731-440e-b1e4-d43529940808",
   "metadata": {},
   "outputs": [
    {
     "ename": "SyntaxError",
     "evalue": "non-default argument follows default argument (312171731.py, line 1)",
     "output_type": "error",
     "traceback": [
      "\u001b[0;36m  Cell \u001b[0;32mIn[43], line 1\u001b[0;36m\u001b[0m\n\u001b[0;31m    def self_intro(name, is_human = True, age):\u001b[0m\n\u001b[0m                                          ^\u001b[0m\n\u001b[0;31mSyntaxError\u001b[0m\u001b[0;31m:\u001b[0m non-default argument follows default argument\n"
     ]
    }
   ],
   "source": [
    "def self_intro(name, is_human = True, age):\n",
    "    if is_human:\n",
    "        print(\"im human\")\n",
    "    else:\n",
    "        print(\"im not human\")"
   ]
  },
  {
   "cell_type": "code",
   "execution_count": 47,
   "id": "c040f39c-0c5c-4c6c-b7ca-03890937deb7",
   "metadata": {},
   "outputs": [],
   "source": [
    "def self_intro(name, age, is_human = True, i = 5):\n",
    "    if is_human:\n",
    "        print(\"im human\")\n",
    "    else:\n",
    "        print(\"im not human\")"
   ]
  },
  {
   "cell_type": "code",
   "execution_count": 45,
   "id": "b512fd45-d034-4a7c-b806-7835918139cc",
   "metadata": {},
   "outputs": [
    {
     "name": "stdout",
     "output_type": "stream",
     "text": [
      "im human\n"
     ]
    }
   ],
   "source": [
    "self_intro(\"moon\", 30)"
   ]
  },
  {
   "cell_type": "code",
   "execution_count": 50,
   "id": "7cf2c033-5354-4553-be45-bca61920b7cf",
   "metadata": {},
   "outputs": [],
   "source": [
    "def self_intro_new(name, age, is_human = True):\n",
    "    if is_human:\n",
    "        print(\"im human\")\n",
    "    else:\n",
    "        print(\"im not human\")"
   ]
  },
  {
   "cell_type": "code",
   "execution_count": 51,
   "id": "14a6f4bf-6c7b-46eb-8ff9-f6244a9250d7",
   "metadata": {},
   "outputs": [
    {
     "name": "stdout",
     "output_type": "stream",
     "text": [
      "im human\n"
     ]
    }
   ],
   "source": [
    "self_intro_new(\"moon\", 30)"
   ]
  },
  {
   "cell_type": "code",
   "execution_count": 52,
   "id": "e9281acd-b7f2-4be7-b221-2fb58fd1ead6",
   "metadata": {},
   "outputs": [],
   "source": [
    "def add_and_mul(a, b):\n",
    "    return a + b, a * b"
   ]
  },
  {
   "cell_type": "code",
   "execution_count": 53,
   "id": "640aee82-4614-4778-b383-3c4acfcb9b9d",
   "metadata": {},
   "outputs": [],
   "source": [
    "r = add_and_mul(4, 5)"
   ]
  },
  {
   "cell_type": "code",
   "execution_count": 55,
   "id": "d50b14ec-591d-47fe-8dce-5c1df33b8a70",
   "metadata": {},
   "outputs": [
    {
     "name": "stdout",
     "output_type": "stream",
     "text": [
      "(9, 20)\n",
      "<class 'tuple'>\n"
     ]
    }
   ],
   "source": [
    "print(r)\n",
    "print(type(r))"
   ]
  },
  {
   "cell_type": "code",
   "execution_count": 56,
   "id": "2097bc4a-bf8a-4f28-8042-b17c90f5f26b",
   "metadata": {},
   "outputs": [],
   "source": [
    "add, mul = add_and_mul(4, 5)"
   ]
  },
  {
   "cell_type": "code",
   "execution_count": 57,
   "id": "aa39a56c-9ccb-4214-9199-c2e280080495",
   "metadata": {},
   "outputs": [
    {
     "name": "stdout",
     "output_type": "stream",
     "text": [
      "9\n",
      "20\n"
     ]
    }
   ],
   "source": [
    "print(add)\n",
    "print(mul)"
   ]
  },
  {
   "cell_type": "code",
   "execution_count": 59,
   "id": "32cea890-81a0-4332-93fc-41ebdf8d7d1a",
   "metadata": {},
   "outputs": [],
   "source": [
    "def get_list():\n",
    "    return (\"a\", \"b\", [1,23,4], 4.3)"
   ]
  },
  {
   "cell_type": "code",
   "execution_count": 60,
   "id": "da21d313-dcfe-4adb-8ec5-7f323147e065",
   "metadata": {},
   "outputs": [],
   "source": [
    "a, b, c, d = get_list()"
   ]
  },
  {
   "cell_type": "code",
   "execution_count": 61,
   "id": "6decc203-a9ff-4238-89b4-42585ab62496",
   "metadata": {},
   "outputs": [
    {
     "name": "stdout",
     "output_type": "stream",
     "text": [
      "a b [1, 23, 4] 4.3\n"
     ]
    }
   ],
   "source": [
    "print(a,b,c,d)"
   ]
  },
  {
   "cell_type": "code",
   "execution_count": 62,
   "id": "f0bd26cc-1571-4568-8ec7-9cd788943d13",
   "metadata": {},
   "outputs": [
    {
     "ename": "ValueError",
     "evalue": "too many values to unpack (expected 3)",
     "output_type": "error",
     "traceback": [
      "\u001b[0;31m---------------------------------------------------------------------------\u001b[0m",
      "\u001b[0;31mValueError\u001b[0m                                Traceback (most recent call last)",
      "Cell \u001b[0;32mIn[62], line 1\u001b[0m\n\u001b[0;32m----> 1\u001b[0m a, b, c\u001b[38;5;241m=\u001b[39m get_list()\n",
      "\u001b[0;31mValueError\u001b[0m: too many values to unpack (expected 3)"
     ]
    }
   ],
   "source": [
    "a, b, c= get_list()"
   ]
  },
  {
   "cell_type": "code",
   "execution_count": 64,
   "id": "858b3e31-0bb3-415b-b644-108b842ed78f",
   "metadata": {},
   "outputs": [],
   "source": [
    "a, b, *others = get_list()"
   ]
  },
  {
   "cell_type": "code",
   "execution_count": 65,
   "id": "7f6ac6f0-140a-475f-9b75-4ac516f1e422",
   "metadata": {},
   "outputs": [
    {
     "name": "stdout",
     "output_type": "stream",
     "text": [
      "a b\n",
      "[[1, 23, 4], 4.3]\n"
     ]
    }
   ],
   "source": [
    "print(a, b)\n",
    "print(others)"
   ]
  },
  {
   "cell_type": "code",
   "execution_count": 66,
   "id": "b55cf5d1-d3f8-40bd-ad87-9ca40d01bde6",
   "metadata": {},
   "outputs": [],
   "source": [
    "*others, a, b = get_list()"
   ]
  },
  {
   "cell_type": "code",
   "execution_count": 67,
   "id": "fb64295b-cc40-4f7c-8233-12ef9b6c12ec",
   "metadata": {},
   "outputs": [
    {
     "name": "stdout",
     "output_type": "stream",
     "text": [
      "[1, 23, 4] 4.3\n",
      "['a', 'b']\n"
     ]
    }
   ],
   "source": [
    "print(a, b)\n",
    "print(others)"
   ]
  },
  {
   "cell_type": "code",
   "execution_count": 3,
   "id": "8d120b5e-0502-4ce0-be4f-6a9d116f41d3",
   "metadata": {},
   "outputs": [],
   "source": [
    "def vartest(a):\n",
    "    a = a + 2000\n",
    "    return a"
   ]
  },
  {
   "cell_type": "code",
   "execution_count": 4,
   "id": "4a6a2179-6be1-41a9-90c8-0aba0c3d9572",
   "metadata": {},
   "outputs": [
    {
     "data": {
      "text/plain": [
       "2001"
      ]
     },
     "execution_count": 4,
     "metadata": {},
     "output_type": "execute_result"
    }
   ],
   "source": [
    "a = 1\n",
    "vartest(a)"
   ]
  },
  {
   "cell_type": "code",
   "execution_count": 5,
   "id": "15423846-54d4-44b9-929f-c3849206cc2d",
   "metadata": {},
   "outputs": [
    {
     "name": "stdout",
     "output_type": "stream",
     "text": [
      "1\n"
     ]
    }
   ],
   "source": [
    "print(a)"
   ]
  },
  {
   "cell_type": "code",
   "execution_count": 6,
   "id": "53cabcdd-5cbf-4d64-8e2d-6bc17bdfd050",
   "metadata": {},
   "outputs": [
    {
     "name": "stdout",
     "output_type": "stream",
     "text": [
      "1\n"
     ]
    }
   ],
   "source": [
    "if False:\n",
    "    a = 3\n",
    "else:\n",
    "    b = 4\n",
    "print(a)"
   ]
  },
  {
   "cell_type": "code",
   "execution_count": 7,
   "id": "5b257206-679b-4335-a39e-6792bdddaaa9",
   "metadata": {},
   "outputs": [
    {
     "name": "stdout",
     "output_type": "stream",
     "text": [
      "4\n"
     ]
    }
   ],
   "source": [
    "print(b)"
   ]
  },
  {
   "cell_type": "code",
   "execution_count": 1,
   "id": "4a553d52-98eb-42cd-bbd0-657e3a535fd7",
   "metadata": {},
   "outputs": [],
   "source": [
    "def f1(a):\n",
    "    print(a)\n",
    "    print(b)"
   ]
  },
  {
   "cell_type": "code",
   "execution_count": 2,
   "id": "0a36a09c-0e6a-4618-ab92-dbadf59475a4",
   "metadata": {},
   "outputs": [],
   "source": [
    "b = 4"
   ]
  },
  {
   "cell_type": "code",
   "execution_count": 3,
   "id": "80806781-3127-47e2-88ad-2295c0959dc3",
   "metadata": {},
   "outputs": [
    {
     "name": "stdout",
     "output_type": "stream",
     "text": [
      "3\n",
      "4\n"
     ]
    }
   ],
   "source": [
    "f1(3)"
   ]
  },
  {
   "cell_type": "code",
   "execution_count": 5,
   "id": "9d53b587-f928-4f25-a94d-d6f36ba3ed79",
   "metadata": {},
   "outputs": [
    {
     "name": "stdout",
     "output_type": "stream",
     "text": [
      "  1           0 RESUME                   0\n",
      "\n",
      "  2           2 LOAD_GLOBAL              1 (NULL + print)\n",
      "             14 LOAD_FAST                0 (a)\n",
      "             16 PRECALL                  1\n",
      "             20 CALL                     1\n",
      "             30 POP_TOP\n",
      "\n",
      "  3          32 LOAD_GLOBAL              1 (NULL + print)\n",
      "             44 LOAD_GLOBAL              2 (b)\n",
      "             56 PRECALL                  1\n",
      "             60 CALL                     1\n",
      "             70 POP_TOP\n",
      "             72 LOAD_CONST               0 (None)\n",
      "             74 RETURN_VALUE\n"
     ]
    }
   ],
   "source": [
    "from dis import dis\n",
    "\n",
    "dis(f1)"
   ]
  },
  {
   "cell_type": "code",
   "execution_count": 6,
   "id": "093b8132-f489-4071-ad23-b79b7695a52a",
   "metadata": {},
   "outputs": [],
   "source": [
    "def f2(c):\n",
    "    print(c)\n",
    "    print(d)\n",
    "    d = 4\n",
    "    "
   ]
  },
  {
   "cell_type": "code",
   "execution_count": 7,
   "id": "1b1289b6-fe16-4cbc-a8bc-28de623380fc",
   "metadata": {},
   "outputs": [
    {
     "name": "stdout",
     "output_type": "stream",
     "text": [
      "3\n"
     ]
    },
    {
     "ename": "UnboundLocalError",
     "evalue": "cannot access local variable 'd' where it is not associated with a value",
     "output_type": "error",
     "traceback": [
      "\u001b[0;31m---------------------------------------------------------------------------\u001b[0m",
      "\u001b[0;31mUnboundLocalError\u001b[0m                         Traceback (most recent call last)",
      "Cell \u001b[0;32mIn[7], line 1\u001b[0m\n\u001b[0;32m----> 1\u001b[0m \u001b[43mf2\u001b[49m\u001b[43m(\u001b[49m\u001b[38;5;241;43m3\u001b[39;49m\u001b[43m)\u001b[49m\n",
      "Cell \u001b[0;32mIn[6], line 3\u001b[0m, in \u001b[0;36mf2\u001b[0;34m(c)\u001b[0m\n\u001b[1;32m      1\u001b[0m \u001b[38;5;28;01mdef\u001b[39;00m \u001b[38;5;21mf2\u001b[39m(c):\n\u001b[1;32m      2\u001b[0m     \u001b[38;5;28mprint\u001b[39m(c)\n\u001b[0;32m----> 3\u001b[0m     \u001b[38;5;28mprint\u001b[39m(\u001b[43md\u001b[49m)\n\u001b[1;32m      4\u001b[0m     d \u001b[38;5;241m=\u001b[39m \u001b[38;5;241m4\u001b[39m\n",
      "\u001b[0;31mUnboundLocalError\u001b[0m: cannot access local variable 'd' where it is not associated with a value"
     ]
    }
   ],
   "source": [
    "f2(3)"
   ]
  },
  {
   "cell_type": "code",
   "execution_count": 8,
   "id": "271cd25a-978b-4ada-a6a5-a628b50def28",
   "metadata": {},
   "outputs": [
    {
     "name": "stdout",
     "output_type": "stream",
     "text": [
      "  1           0 RESUME                   0\n",
      "\n",
      "  2           2 LOAD_GLOBAL              1 (NULL + print)\n",
      "             14 LOAD_FAST                0 (c)\n",
      "             16 PRECALL                  1\n",
      "             20 CALL                     1\n",
      "             30 POP_TOP\n",
      "\n",
      "  3          32 LOAD_GLOBAL              1 (NULL + print)\n",
      "             44 LOAD_FAST                1 (d)\n",
      "             46 PRECALL                  1\n",
      "             50 CALL                     1\n",
      "             60 POP_TOP\n",
      "\n",
      "  4          62 LOAD_CONST               1 (4)\n",
      "             64 STORE_FAST               1 (d)\n",
      "             66 LOAD_CONST               0 (None)\n",
      "             68 RETURN_VALUE\n"
     ]
    }
   ],
   "source": [
    "dis(f2)"
   ]
  },
  {
   "cell_type": "code",
   "execution_count": 9,
   "id": "bf66f3a9-543f-4ab2-817a-6dc315fb943d",
   "metadata": {},
   "outputs": [],
   "source": [
    "add = lambda a, b : a + b"
   ]
  },
  {
   "cell_type": "code",
   "execution_count": 10,
   "id": "43da3fbb-c3cb-4282-b06d-06d290bdea49",
   "metadata": {},
   "outputs": [
    {
     "data": {
      "text/plain": [
       "7"
      ]
     },
     "execution_count": 10,
     "metadata": {},
     "output_type": "execute_result"
    }
   ],
   "source": [
    "add(3, 4)"
   ]
  },
  {
   "cell_type": "code",
   "execution_count": 11,
   "id": "abb67804-896e-433d-9e31-567a329916f4",
   "metadata": {},
   "outputs": [],
   "source": [
    "l = [1,2,4,5]"
   ]
  },
  {
   "cell_type": "code",
   "execution_count": 13,
   "id": "7f31dbcb-d64a-4c62-a042-2907de691204",
   "metadata": {},
   "outputs": [
    {
     "data": {
      "text/plain": [
       "[1, 4, 16, 25]"
      ]
     },
     "execution_count": 13,
     "metadata": {},
     "output_type": "execute_result"
    }
   ],
   "source": [
    "list(map(lambda x : x *x, l))"
   ]
  },
  {
   "cell_type": "code",
   "execution_count": 16,
   "id": "9cdf527d-2e58-4d09-8b33-f21adfa9c551",
   "metadata": {},
   "outputs": [],
   "source": [
    "def power(a):\n",
    "    return a * a"
   ]
  },
  {
   "cell_type": "code",
   "execution_count": 17,
   "id": "a90a258f-a401-467b-976c-760b362252b8",
   "metadata": {},
   "outputs": [
    {
     "data": {
      "text/plain": [
       "[1, 4, 16, 25]"
      ]
     },
     "execution_count": 17,
     "metadata": {},
     "output_type": "execute_result"
    }
   ],
   "source": [
    "list(map(power, l))"
   ]
  },
  {
   "cell_type": "code",
   "execution_count": 18,
   "id": "5773a750-455e-4f40-bab1-8b62d56275da",
   "metadata": {},
   "outputs": [],
   "source": [
    "a = power"
   ]
  },
  {
   "cell_type": "code",
   "execution_count": 20,
   "id": "f56417ab-99b0-40ef-ac53-83a9814b586d",
   "metadata": {},
   "outputs": [
    {
     "name": "stdout",
     "output_type": "stream",
     "text": [
      "<function power at 0x7f1a6860c900>\n",
      "<class 'function'>\n"
     ]
    }
   ],
   "source": [
    "print(a)\n",
    "print(type(a))"
   ]
  },
  {
   "cell_type": "code",
   "execution_count": 21,
   "id": "75ac8e58-1e50-4a84-b86e-8972954dd86a",
   "metadata": {},
   "outputs": [],
   "source": [
    "def return_func(a):\n",
    "    return lambda a: a + 1"
   ]
  },
  {
   "cell_type": "code",
   "execution_count": 23,
   "id": "0cdb5872-d302-47be-81ce-cc70cd08063a",
   "metadata": {},
   "outputs": [
    {
     "data": {
      "text/plain": [
       "5"
      ]
     },
     "execution_count": 23,
     "metadata": {},
     "output_type": "execute_result"
    }
   ],
   "source": [
    "return_func(4)(4)"
   ]
  },
  {
   "cell_type": "code",
   "execution_count": 29,
   "id": "e1c0b08e-33e2-427d-99eb-53199bf82653",
   "metadata": {},
   "outputs": [],
   "source": [
    "def multiplication_table(x):\n",
    "    print(f\"{x}단을 출력하는함수입니다\")\n",
    "    def one_mulitplication_table(max = 10):\n",
    "        for y in range(1,max):\n",
    "            print(f\"{x} x {y} = {x * y}\")\n",
    "    return one_mulitplication_table\n"
   ]
  },
  {
   "cell_type": "code",
   "execution_count": 30,
   "id": "90eda056-1557-4421-a002-5b5513a3018a",
   "metadata": {},
   "outputs": [
    {
     "name": "stdout",
     "output_type": "stream",
     "text": [
      "2단을 출력하는함수입니다\n"
     ]
    }
   ],
   "source": [
    "two = multiplication_table(2)"
   ]
  },
  {
   "cell_type": "code",
   "execution_count": 31,
   "id": "4b753ee8-cfa8-4982-88ae-f5d3198ae606",
   "metadata": {},
   "outputs": [
    {
     "name": "stdout",
     "output_type": "stream",
     "text": [
      "<function multiplication_table.<locals>.one_mulitplication_table at 0x7f1a6860e340>\n"
     ]
    }
   ],
   "source": [
    "print(two)"
   ]
  },
  {
   "cell_type": "code",
   "execution_count": 33,
   "id": "550576da-7f9b-4060-b7f4-6360b7c95f7d",
   "metadata": {},
   "outputs": [
    {
     "name": "stdout",
     "output_type": "stream",
     "text": [
      "2 x 1 = 2\n",
      "2 x 2 = 4\n",
      "2 x 3 = 6\n",
      "2 x 4 = 8\n",
      "2 x 5 = 10\n",
      "2 x 6 = 12\n",
      "2 x 7 = 14\n",
      "2 x 8 = 16\n",
      "2 x 9 = 18\n",
      "2 x 10 = 20\n",
      "2 x 11 = 22\n",
      "2 x 12 = 24\n",
      "2 x 13 = 26\n",
      "2 x 14 = 28\n",
      "2 x 15 = 30\n",
      "2 x 16 = 32\n",
      "2 x 17 = 34\n",
      "2 x 18 = 36\n",
      "2 x 19 = 38\n",
      "2 x 20 = 40\n",
      "2 x 21 = 42\n",
      "2 x 22 = 44\n",
      "2 x 23 = 46\n",
      "2 x 24 = 48\n",
      "2 x 25 = 50\n",
      "2 x 26 = 52\n",
      "2 x 27 = 54\n",
      "2 x 28 = 56\n",
      "2 x 29 = 58\n",
      "2 x 30 = 60\n",
      "2 x 31 = 62\n",
      "2 x 32 = 64\n",
      "2 x 33 = 66\n",
      "2 x 34 = 68\n",
      "2 x 35 = 70\n",
      "2 x 36 = 72\n",
      "2 x 37 = 74\n",
      "2 x 38 = 76\n",
      "2 x 39 = 78\n"
     ]
    }
   ],
   "source": [
    "two(40)"
   ]
  },
  {
   "cell_type": "code",
   "execution_count": null,
   "id": "ef473aa5-edf7-4125-bd80-dd8ed60f2149",
   "metadata": {},
   "outputs": [],
   "source": []
  }
 ],
 "metadata": {
  "kernelspec": {
   "display_name": "Python 3 (ipykernel)",
   "language": "python",
   "name": "python3"
  },
  "language_info": {
   "codemirror_mode": {
    "name": "ipython",
    "version": 3
   },
   "file_extension": ".py",
   "mimetype": "text/x-python",
   "name": "python",
   "nbconvert_exporter": "python",
   "pygments_lexer": "ipython3",
   "version": "3.11.5"
  }
 },
 "nbformat": 4,
 "nbformat_minor": 5
}
