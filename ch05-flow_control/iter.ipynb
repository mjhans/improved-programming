{
 "cells": [
  {
   "cell_type": "markdown",
   "metadata": {},
   "source": [
    "# Lazy Evaluation"
   ]
  },
  {
   "cell_type": "code",
   "execution_count": null,
   "id": "41fe2f4b-984a-4706-bcbd-ea1dd3184314",
   "metadata": {},
   "outputs": [],
   "source": [
    "def f(a, b):\n",
    "    return a +3"
   ]
  },
  {
   "cell_type": "code",
   "execution_count": null,
   "id": "163259ac-5b73-460f-be54-cd1b3b657908",
   "metadata": {},
   "outputs": [],
   "source": [
    "f(3, 4 + 2)"
   ]
  },
  {
   "cell_type": "markdown",
   "metadata": {},
   "source": [
    "# list와 range"
   ]
  },
  {
   "cell_type": "code",
   "execution_count": null,
   "id": "5e859895-d1d9-4c28-aca2-ddfad807bfe6",
   "metadata": {},
   "outputs": [],
   "source": [
    "l_1 = [1,2,3,4,5,6,7,8,9,10]"
   ]
  },
  {
   "cell_type": "code",
   "execution_count": null,
   "id": "93c90e7e-2e23-4734-9179-ccf608ecf1c9",
   "metadata": {},
   "outputs": [],
   "source": [
    "l_2 = range(1,11)"
   ]
  },
  {
   "cell_type": "code",
   "execution_count": null,
   "id": "d579c496-b28e-4217-aa3c-3a145220451d",
   "metadata": {},
   "outputs": [],
   "source": [
    "print(type(l_1))\n",
    "print(type(l_2))"
   ]
  },
  {
   "cell_type": "code",
   "execution_count": null,
   "id": "49d5d8ce-a697-4704-a136-31ee54d68502",
   "metadata": {},
   "outputs": [],
   "source": [
    "l_2[0]"
   ]
  },
  {
   "cell_type": "code",
   "execution_count": null,
   "id": "f2c839d2-8e3b-48bc-954e-cfc9e4f162ff",
   "metadata": {},
   "outputs": [],
   "source": [
    "list(range(1, 11))"
   ]
  },
  {
   "cell_type": "markdown",
   "metadata": {},
   "source": [
    "# iterator와 iterable\n",
    "## sentence v1 simple iterable "
   ]
  },
  {
   "cell_type": "code",
   "execution_count": null,
   "id": "d9440e3b-3551-4ba8-a88c-5a66126ec87c",
   "metadata": {},
   "outputs": [],
   "source": [
    "import re\n",
    "import reprlib\n",
    "\n",
    "RE_WORD = re.compile('\\w+')\n",
    "\n",
    "class Sentence:\n",
    "    def __init__(self, text):\n",
    "        self.text = text\n",
    "        self.word = RE_WORD.findall(text)\n",
    "\n",
    "    def __getitem__(self, index):\n",
    "        return self.word[index]\n",
    "\n",
    "    def __len__(self):\n",
    "        return len(self.word)\n",
    "\n",
    "    def __repr__(self):\n",
    "        return f\"Senetence ({reprlib.repr(self.text)})\" # reprlib.repr 30글자 이상은 축약해서 보여준다"
   ]
  },
  {
   "cell_type": "code",
   "execution_count": null,
   "id": "330e8d2e-f6f4-4174-a8b4-9c9a57e99c72",
   "metadata": {},
   "outputs": [],
   "source": [
    "s = Sentence(\"the old man and sea\")"
   ]
  },
  {
   "cell_type": "code",
   "execution_count": null,
   "id": "d59d8652-eb1f-4056-9c90-4ac80bac243a",
   "metadata": {},
   "outputs": [],
   "source": [
    "iter(s)"
   ]
  },
  {
   "cell_type": "code",
   "execution_count": null,
   "id": "f966839e-d44e-41cc-8f0e-802f1f76f48a",
   "metadata": {},
   "outputs": [],
   "source": [
    "s"
   ]
  },
  {
   "cell_type": "code",
   "execution_count": null,
   "id": "f6907339-3c7a-43db-a016-b813f475beed",
   "metadata": {},
   "outputs": [],
   "source": [
    "print(type(iter(s)))\n",
    "print(type(s))"
   ]
  },
  {
   "cell_type": "code",
   "execution_count": null,
   "id": "02174f71-af32-4992-8fef-ee14eff98a46",
   "metadata": {},
   "outputs": [],
   "source": [
    "for word in s:\n",
    "    print(word)"
   ]
  },
  {
   "cell_type": "code",
   "execution_count": null,
   "id": "a9eb7b34-7a4a-4b6c-a10a-dcafd8b74743",
   "metadata": {},
   "outputs": [],
   "source": [
    "s[0]"
   ]
  },
  {
   "cell_type": "code",
   "execution_count": null,
   "id": "86deaa62-dd38-4c76-9190-fecf4dea7daa",
   "metadata": {},
   "outputs": [],
   "source": [
    "list(s)"
   ]
  },
  {
   "cell_type": "markdown",
   "id": "0ad1314a-95a7-48d5-a840-7c671e23e162",
   "metadata": {},
   "source": [
    "## Sequence 와 iter함수"
   ]
  },
  {
   "cell_type": "code",
   "execution_count": null,
   "id": "85e0e1f9-526e-47b8-8e1c-6e8ada4e4080",
   "metadata": {},
   "outputs": [],
   "source": [
    "s = 'ABC'\n",
    "for char in s:\n",
    "    print(char)"
   ]
  },
  {
   "cell_type": "code",
   "execution_count": null,
   "id": "2cee018b-f3b5-4f4e-9a86-16ea3afdb122",
   "metadata": {},
   "outputs": [],
   "source": [
    "s = 'ABC'\n",
    "it = iter(s)\n",
    "while True:\n",
    "    try:\n",
    "        print(next(it))\n",
    "    except StopIteration:\n",
    "        del it\n",
    "        break\n"
   ]
  },
  {
   "cell_type": "code",
   "execution_count": null,
   "id": "e3552287-0f47-4127-8756-1ce76a54f29c",
   "metadata": {},
   "outputs": [],
   "source": [
    "new_s = Sentence(\"the old man and sea\")\n",
    "it = iter(new_s)"
   ]
  },
  {
   "cell_type": "code",
   "execution_count": null,
   "id": "447dd695-3ad7-47df-99ca-4bea98275973",
   "metadata": {},
   "outputs": [],
   "source": [
    "it"
   ]
  },
  {
   "cell_type": "code",
   "execution_count": null,
   "id": "fde88ea8-f53b-4f09-87bd-088cfacea53f",
   "metadata": {},
   "outputs": [],
   "source": [
    "next(it)"
   ]
  },
  {
   "cell_type": "code",
   "execution_count": null,
   "id": "82728941-96b8-4f1e-89e5-b9ed6ea4dc0b",
   "metadata": {},
   "outputs": [],
   "source": [
    "next(it)"
   ]
  },
  {
   "cell_type": "code",
   "execution_count": null,
   "id": "cb95d38f-4a44-4e20-94ba-edb46c330b95",
   "metadata": {},
   "outputs": [],
   "source": [
    "next(it)"
   ]
  },
  {
   "cell_type": "code",
   "execution_count": null,
   "id": "2b684f85-3dae-4e97-a72c-f2d9be0991f4",
   "metadata": {},
   "outputs": [],
   "source": [
    "next(it)"
   ]
  },
  {
   "cell_type": "code",
   "execution_count": null,
   "id": "94b6a84c-f295-4589-8e16-5cbdfa73dae6",
   "metadata": {},
   "outputs": [],
   "source": [
    "next(it)"
   ]
  },
  {
   "cell_type": "code",
   "execution_count": null,
   "id": "26943ad0-a80f-44aa-bc9d-df7537c896c9",
   "metadata": {},
   "outputs": [],
   "source": [
    "next(it)"
   ]
  },
  {
   "cell_type": "code",
   "execution_count": null,
   "id": "6a92b474-2835-4a22-9fee-30032fbb0491",
   "metadata": {},
   "outputs": [],
   "source": [
    "it2 = iter(new_s)"
   ]
  },
  {
   "cell_type": "code",
   "execution_count": null,
   "id": "a11a40cf-16fb-4f92-b4af-1850879218ba",
   "metadata": {},
   "outputs": [],
   "source": [
    "it2"
   ]
  },
  {
   "cell_type": "code",
   "execution_count": null,
   "id": "426a9f06-dfa0-4978-be43-bf6118feee4a",
   "metadata": {},
   "outputs": [],
   "source": [
    "next(it2)"
   ]
  },
  {
   "cell_type": "code",
   "execution_count": null,
   "id": "b2a57d94-9965-4209-a64d-4c239b88bc75",
   "metadata": {},
   "outputs": [],
   "source": [
    "list(it)"
   ]
  },
  {
   "cell_type": "code",
   "execution_count": null,
   "id": "e6a529ec-c135-4212-828f-5fb2c97e6980",
   "metadata": {},
   "outputs": [],
   "source": [
    "list(it2)"
   ]
  },
  {
   "cell_type": "code",
   "execution_count": null,
   "id": "eeee96c1-ab63-4c97-ac6f-a71400e420da",
   "metadata": {},
   "outputs": [],
   "source": [
    "list(iter(new_s))"
   ]
  },
  {
   "cell_type": "markdown",
   "metadata": {},
   "source": [
    "## Classic iterator pattern"
   ]
  },
  {
   "cell_type": "code",
   "execution_count": null,
   "id": "2f5b902e-fa7e-498f-8739-6d9f9785b96e",
   "metadata": {},
   "outputs": [],
   "source": [
    "import re\n",
    "import reprlib\n",
    "\n",
    "RE_WORD = re.compile('\\w+')\n",
    "\n",
    "class Sentence:\n",
    "    def __init__(self, text):\n",
    "        self.text = text\n",
    "        self.words = RE_WORD.findall(text)\n",
    "\n",
    "    def __iter__(self):\n",
    "        return SenetenceIterator(self.words)\n",
    "\n",
    "    def __repr__(self):\n",
    "        return f\"Senetence ({reprlib.repr(self.text)})\"\n",
    "\n",
    "class SenetenceIterator:\n",
    "    def __init__(self, words):\n",
    "        self.words = words\n",
    "        self.index = 0\n",
    "\n",
    "    def __next__(self):\n",
    "        try:\n",
    "            word = self.words[self.index]\n",
    "        except IndexError:\n",
    "            raise StopIterator()\n",
    "        self.index += 1\n",
    "        return word\n",
    "\n",
    "    def __iter__(self):\n",
    "        return self\n",
    "\n",
    "\n",
    "    "
   ]
  },
  {
   "cell_type": "code",
   "execution_count": null,
   "id": "9b03553d-6a64-4443-9954-9aa16e9f98d6",
   "metadata": {},
   "outputs": [],
   "source": [
    "s = Sentence(\"the old man and sea\")"
   ]
  },
  {
   "cell_type": "code",
   "execution_count": null,
   "id": "73fed58c-9f2f-4d28-a9b9-e8cef95085d9",
   "metadata": {},
   "outputs": [],
   "source": [
    "iter(s)"
   ]
  },
  {
   "cell_type": "code",
   "execution_count": null,
   "id": "ab25d8ac-1667-4363-a12a-76af104ea385",
   "metadata": {},
   "outputs": [],
   "source": [
    "s"
   ]
  },
  {
   "cell_type": "code",
   "execution_count": null,
   "id": "6e188d76-e908-4875-bc76-836b2ef455cc",
   "metadata": {},
   "outputs": [],
   "source": [
    "print(type(iter(s)))\n",
    "print(type(s))"
   ]
  },
  {
   "cell_type": "code",
   "execution_count": null,
   "id": "f8008047-0051-4b89-a59c-d869d78aa2b0",
   "metadata": {},
   "outputs": [],
   "source": [
    "id(iter(s))"
   ]
  },
  {
   "cell_type": "code",
   "execution_count": null,
   "id": "25ae2c6e-4d6e-4483-8c10-ff7a0c855b9c",
   "metadata": {},
   "outputs": [],
   "source": [
    "id(iter(s))"
   ]
  },
  {
   "cell_type": "code",
   "execution_count": null,
   "id": "63dc4721-1964-4b6d-8846-bc44b7e79d15",
   "metadata": {},
   "outputs": [],
   "source": [
    "id(iter(s))"
   ]
  },
  {
   "cell_type": "markdown",
   "metadata": {},
   "source": [
    "### iterator를 구현하는 안좋은 방식"
   ]
  },
  {
   "cell_type": "code",
   "execution_count": null,
   "id": "3bf1880d-1b67-49d9-9552-7a753c3e700e",
   "metadata": {},
   "outputs": [],
   "source": [
    "import re\n",
    "import reprlib\n",
    "\n",
    "RE_WORD = re.compile('\\w+')\n",
    "\n",
    "class BadSentence:\n",
    "    def __init__(self, text):\n",
    "        self.text = text\n",
    "        self.words = RE_WORD.findall(text)\n",
    "        self.index = 0\n",
    "\n",
    "    def __iter__(self):\n",
    "        return self\n",
    "\n",
    "    def __next__(self):\n",
    "        try:\n",
    "            word = self.words[self.index]\n",
    "        except IndexError:\n",
    "            raise StopIterator()\n",
    "        self.index += 1\n",
    "        return word\n",
    "\n",
    "    def __repr__(self):\n",
    "        return f\"Senetence ({reprlib.repr(self.text)})\""
   ]
  },
  {
   "cell_type": "code",
   "execution_count": null,
   "id": "40670350-2306-478c-9b14-42d5b32d797e",
   "metadata": {},
   "outputs": [],
   "source": [
    "bad_s = BadSentence(\"the old man and sea\")"
   ]
  },
  {
   "cell_type": "code",
   "execution_count": null,
   "id": "febf73b1-2790-4961-9e17-0e773fa94f99",
   "metadata": {},
   "outputs": [],
   "source": [
    "it1 = iter(bad_s)"
   ]
  },
  {
   "cell_type": "code",
   "execution_count": null,
   "id": "b3618adb-c8bc-4a7a-a1b1-1c395ebc0313",
   "metadata": {},
   "outputs": [],
   "source": [
    "it2 = iter(bad_s)"
   ]
  },
  {
   "cell_type": "code",
   "execution_count": null,
   "id": "e3b24a48-889b-4df6-a24e-108afcfc4c5f",
   "metadata": {},
   "outputs": [],
   "source": [
    "next(it1)"
   ]
  },
  {
   "cell_type": "code",
   "execution_count": null,
   "id": "36228542-9ad8-4b86-bd1c-4b9863ce8e1f",
   "metadata": {},
   "outputs": [],
   "source": [
    "next(it2)"
   ]
  },
  {
   "cell_type": "code",
   "execution_count": null,
   "id": "e81d9381-5f09-4f6f-93a3-11244f22c52a",
   "metadata": {},
   "outputs": [],
   "source": [
    "id(it1)"
   ]
  },
  {
   "cell_type": "code",
   "execution_count": null,
   "id": "ae370913-6ce0-46c0-9d97-0ec8f15dbed4",
   "metadata": {},
   "outputs": [],
   "source": [
    "id(it2)"
   ]
  },
  {
   "cell_type": "markdown",
   "metadata": {},
   "source": [
    "## Sentence V3 : generator"
   ]
  },
  {
   "cell_type": "code",
   "execution_count": null,
   "id": "94cef2ed-5d61-4998-8979-a0bee60783e3",
   "metadata": {},
   "outputs": [],
   "source": [
    "import re\n",
    "import reprlib\n",
    "\n",
    "RE_WORD = re.compile('\\w+')\n",
    "\n",
    "class Sentence:\n",
    "    def __init__(self, text):\n",
    "        self.text = text\n",
    "        self.words = RE_WORD.findall(text)\n",
    "\n",
    "    def __iter__(self):\n",
    "        for word in self.words:\n",
    "            yield word\n",
    "        return   # 별의미 없음\n",
    "\n",
    "    def __repr__(self):\n",
    "        return f\"Senetence ({reprlib.repr(self.text)})\""
   ]
  },
  {
   "cell_type": "code",
   "execution_count": null,
   "id": "da275a8d-35c4-45de-a30b-328c2d6085df",
   "metadata": {},
   "outputs": [],
   "source": [
    "s = Sentence(\"the old man and sea\")"
   ]
  },
  {
   "cell_type": "code",
   "execution_count": null,
   "id": "d0ce01c3-433f-4356-8678-b54ec0d6acab",
   "metadata": {},
   "outputs": [],
   "source": [
    "id(s)"
   ]
  },
  {
   "cell_type": "code",
   "execution_count": null,
   "id": "9e4cfb79-b890-4ff7-9823-a4201e933081",
   "metadata": {},
   "outputs": [],
   "source": [
    "id(iter(s))"
   ]
  },
  {
   "cell_type": "code",
   "execution_count": null,
   "id": "b76d8455-fc79-4027-ad39-0a18fa78e997",
   "metadata": {},
   "outputs": [],
   "source": [
    "id(iter(s))"
   ]
  },
  {
   "cell_type": "code",
   "execution_count": null,
   "id": "cb47a784-c4db-4ec3-b14e-01b156da887e",
   "metadata": {},
   "outputs": [],
   "source": [
    "it = iter(s)"
   ]
  },
  {
   "cell_type": "code",
   "execution_count": null,
   "id": "7f193d70-0423-4049-a032-c6d9f41d2b9b",
   "metadata": {},
   "outputs": [],
   "source": [
    "type(it)"
   ]
  },
  {
   "cell_type": "code",
   "execution_count": null,
   "id": "53038255-3cf3-419c-aa3d-16d78e1348cb",
   "metadata": {},
   "outputs": [],
   "source": [
    "next(it)"
   ]
  },
  {
   "cell_type": "code",
   "execution_count": null,
   "id": "8bf6db39-9d58-4831-8e44-cbf7f4a66d26",
   "metadata": {},
   "outputs": [],
   "source": [
    "next(it)"
   ]
  },
  {
   "cell_type": "code",
   "execution_count": null,
   "id": "389b51fa-ccfc-4eef-8406-81dd74a17b8d",
   "metadata": {},
   "outputs": [],
   "source": [
    "next(it)"
   ]
  },
  {
   "cell_type": "code",
   "execution_count": null,
   "id": "6ea12eae-1e76-4476-ae00-928be7c902fc",
   "metadata": {},
   "outputs": [],
   "source": [
    "bad_it = iter(bad_s)"
   ]
  },
  {
   "cell_type": "code",
   "execution_count": null,
   "id": "0d3e8248-0b7c-4780-bff7-5a444cf3d36e",
   "metadata": {},
   "outputs": [],
   "source": [
    "type(bad_it)"
   ]
  },
  {
   "cell_type": "code",
   "execution_count": null,
   "id": "42e5cbda-46c2-4bde-8880-a0ae7bae5d59",
   "metadata": {},
   "outputs": [],
   "source": [
    "type(bad_s)"
   ]
  },
  {
   "cell_type": "code",
   "execution_count": null,
   "id": "12f72d07-1088-44ac-82c1-e1d7cb775cc0",
   "metadata": {},
   "outputs": [],
   "source": []
  }
 ],
 "metadata": {
  "kernelspec": {
   "display_name": "Python 3 (ipykernel)",
   "language": "python",
   "name": "python3"
  },
  "language_info": {
   "codemirror_mode": {
    "name": "ipython",
    "version": 3
   },
   "file_extension": ".py",
   "mimetype": "text/x-python",
   "name": "python",
   "nbconvert_exporter": "python",
   "pygments_lexer": "ipython3",
   "version": "3.11.4"
  }
 },
 "nbformat": 4,
 "nbformat_minor": 5
}
