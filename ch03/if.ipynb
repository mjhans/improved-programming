{
 "cells": [
  {
   "cell_type": "markdown",
   "id": "d9e7f0a2-7e0b-4b53-8951-a6493d9ebcbf",
   "metadata": {},
   "source": [
    "# if"
   ]
  },
  {
   "cell_type": "code",
   "execution_count": null,
   "id": "684a703b-7064-41f0-a742-1fb0db605676",
   "metadata": {},
   "outputs": [],
   "source": [
    "money = True\n",
    "if money:\n",
    "    print(\"taxi\")\n",
    "    print(\"11111\")\n",
    "else:\n",
    "    print(\"walk\")"
   ]
  },
  {
   "cell_type": "code",
   "execution_count": null,
   "id": "a29d64a7-64b3-4068-9867-fe4c4afa4734",
   "metadata": {},
   "outputs": [],
   "source": [
    "x, y = \"a\" ,\"b\"\n",
    "print(f\"{x=},{y=}\")"
   ]
  },
  {
   "cell_type": "code",
   "execution_count": null,
   "id": "afaf05db-7ee4-40af-b190-476ce638d67e",
   "metadata": {},
   "outputs": [],
   "source": [
    "print(f\"{x=},{y=}\")\n",
    "print(f\"{x > y = }\")\n",
    "print(f\"{x < y = }\")\n",
    "print(f\"{x == y = }\")\n",
    "print(f\"{x >= y = }\")\n",
    "print(f\"{x <= y = }\")\n",
    "print(f\"{x != y = }\")"
   ]
  },
  {
   "cell_type": "code",
   "execution_count": null,
   "id": "ac53508f-87ac-4960-8f69-aff2a5de4862",
   "metadata": {},
   "outputs": [],
   "source": [
    "money = 10000\n",
    "if money > 4000:\n",
    "    print(\"taxi\")\n",
    "else:\n",
    "    print(\"walk\")"
   ]
  },
  {
   "cell_type": "code",
   "execution_count": null,
   "id": "d141d141-869c-4b35-9bd0-df47acc68b4d",
   "metadata": {},
   "outputs": [],
   "source": [
    "money = 1000\n",
    "card = True\n",
    "if money > 4000 or card:\n",
    "    print(\"taxi\")\n",
    "else:\n",
    "    print(\"walk\")"
   ]
  },
  {
   "cell_type": "code",
   "execution_count": null,
   "id": "f8ab2c22-e760-4928-9476-dcd226e8db1b",
   "metadata": {},
   "outputs": [],
   "source": [
    "print(f\"{True or True = }\")\n",
    "print(f\"{True or False = }\")"
   ]
  },
  {
   "cell_type": "code",
   "execution_count": null,
   "id": "f7f85728-088b-47d3-a48c-a0e677e063d8",
   "metadata": {},
   "outputs": [],
   "source": [
    "a = True\n",
    "b = False\n",
    "\n",
    "print(f\"{a and b = }\")\n",
    "print(f\"{a or b = }\")\n",
    "print(f\"{not a = }\")\n",
    "print(f\"{not b = }\")\n"
   ]
  },
  {
   "cell_type": "code",
   "execution_count": null,
   "id": "48be0839-cd9b-41db-89c3-9418849fa437",
   "metadata": {},
   "outputs": [],
   "source": [
    "a = x > y\n",
    "b = x == y\n",
    "\n",
    "print(f\"{a and b = }\")\n",
    "print(f\"{a or b = }\")\n",
    "print(f\"{not a = }\")\n",
    "print(f\"{not b = }\")\n"
   ]
  },
  {
   "cell_type": "code",
   "execution_count": null,
   "id": "07c44105-1adf-427e-a466-71ba505207d6",
   "metadata": {},
   "outputs": [],
   "source": [
    "l = [1,2,3,4,5]"
   ]
  },
  {
   "cell_type": "code",
   "execution_count": null,
   "id": "bda2bb08-ef34-418d-abf2-4eba54a09eb1",
   "metadata": {},
   "outputs": [],
   "source": [
    "print(f\"{4 in l = }\")"
   ]
  },
  {
   "cell_type": "code",
   "execution_count": null,
   "id": "b4a336b8-eca4-432f-ae53-8a0186241b8c",
   "metadata": {},
   "outputs": [],
   "source": [
    "pocket= [\"cellphone\", \"paper\"]\n",
    "card = True\n",
    "\n",
    "if \"money\" in pocket:\n",
    "    print(\"taxi-cash\")\n",
    "else:\n",
    "    if card:\n",
    "        print(\"taxi-card\")\n",
    "    else:\n",
    "        print(\"walk\")"
   ]
  },
  {
   "cell_type": "code",
   "execution_count": null,
   "id": "c4fa64dc-1b02-4a82-9b5c-2cdec61cca2c",
   "metadata": {},
   "outputs": [],
   "source": [
    "pocket= [\"cellphone\", \"paper\"]\n",
    "card = False\n",
    "\n",
    "if \"money\" in pocket:\n",
    "    print(\"taxi-cash\")\n",
    "elif card:\n",
    "    print(\"taxi-card\")\n",
    "# else:\n",
    "#     print(\"walk\")"
   ]
  },
  {
   "cell_type": "code",
   "execution_count": 2,
   "id": "08209b3a-1f7a-4592-85ad-b4c925f27d1b",
   "metadata": {},
   "outputs": [
    {
     "name": "stdout",
     "output_type": "stream",
     "text": [
      "nothing\n"
     ]
    }
   ],
   "source": [
    "score = -1\n",
    "message = \"nothing\"\n",
    "if score > 60:\n",
    "    message = \"success\"\n",
    "elif score <= 60  and score >= 0:\n",
    "    message = \"failed\"\n",
    "\n",
    "print(message)"
   ]
  },
  {
   "cell_type": "code",
   "execution_count": 3,
   "id": "ceb0e929-0e93-41d1-9909-853a772f4f1d",
   "metadata": {},
   "outputs": [
    {
     "name": "stdout",
     "output_type": "stream",
     "text": [
      "failed\n"
     ]
    }
   ],
   "source": [
    "message = \"success\" if score > 60 else \"failed\"\n",
    "print(message)"
   ]
  },
  {
   "cell_type": "code",
   "execution_count": null,
   "id": "02adfcaf-df80-4d5a-921b-6561d8d8d9b5",
   "metadata": {},
   "outputs": [],
   "source": []
  }
 ],
 "metadata": {
  "kernelspec": {
   "display_name": "Python 3 (ipykernel)",
   "language": "python",
   "name": "python3"
  },
  "language_info": {
   "codemirror_mode": {
    "name": "ipython",
    "version": 3
   },
   "file_extension": ".py",
   "mimetype": "text/x-python",
   "name": "python",
   "nbconvert_exporter": "python",
   "pygments_lexer": "ipython3",
   "version": "3.11.5"
  }
 },
 "nbformat": 4,
 "nbformat_minor": 5
}
