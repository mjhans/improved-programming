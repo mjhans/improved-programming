{
 "cells": [
  {
   "cell_type": "markdown",
   "id": "379502c7",
   "metadata": {},
   "source": [
    "# list"
   ]
  },
  {
   "cell_type": "code",
   "execution_count": null,
   "id": "fae4cb0b",
   "metadata": {},
   "outputs": [],
   "source": [
    "a = [1,2,3,4,5]"
   ]
  },
  {
   "cell_type": "code",
   "execution_count": null,
   "id": "519824a1",
   "metadata": {},
   "outputs": [
    {
     "data": {
      "text/plain": [
       "4"
      ]
     },
     "metadata": {},
     "output_type": "display_data"
    }
   ],
   "source": [
    "a[3]"
   ]
  },
  {
   "cell_type": "code",
   "execution_count": null,
   "id": "42de67da",
   "metadata": {},
   "outputs": [],
   "source": [
    "a = [1,2,3,\"four\",\"five\", [\"a\", 3]]"
   ]
  },
  {
   "cell_type": "code",
   "execution_count": null,
   "id": "c61608c6",
   "metadata": {},
   "outputs": [
    {
     "ename": "TypeError",
     "evalue": "unsupported operand type(s) for +: 'int' and 'str'",
     "output_type": "error",
     "traceback": [
      "\u001b[0;31m---------------------------------------------------------------------------\u001b[0m\n",
      "\u001b[0;31mTypeError\u001b[0m                                 Traceback (most recent call last)\n",
      "Cell \u001b[0;32mIn[44], line 1\u001b[0m\n",
      "\u001b[0;32m----> 1\u001b[0m \u001b[43ma\u001b[49m\u001b[43m[\u001b[49m\u001b[38;5;241;43m0\u001b[39;49m\u001b[43m]\u001b[49m\u001b[38;5;241;43m+\u001b[39;49m\u001b[43m \u001b[49m\u001b[43ma\u001b[49m\u001b[43m[\u001b[49m\u001b[38;5;241;43m2\u001b[39;49m\u001b[43m]\u001b[49m\u001b[43m \u001b[49m\u001b[38;5;241;43m+\u001b[39;49m\u001b[43m \u001b[49m\u001b[43ma\u001b[49m\u001b[43m[\u001b[49m\u001b[38;5;241;43m3\u001b[39;49m\u001b[43m]\u001b[49m\n",
      "\n",
      "\u001b[0;31mTypeError\u001b[0m: unsupported operand type(s) for +: 'int' and 'str'"
     ]
    }
   ],
   "source": [
    "a[0]+ a[2] + a[3]"
   ]
  },
  {
   "cell_type": "code",
   "execution_count": null,
   "id": "2bf8ef22",
   "metadata": {},
   "outputs": [
    {
     "name": "stdout",
     "output_type": "stream",
     "text": [
      "a[5] = ['a', 3],\n",
      "<class 'list'>\n",
      "\n"
     ]
    }
   ],
   "source": [
    "print(f\"\"\"{a[5] = },\n",
    "{type(a[5])}\n",
    "\"\"\")"
   ]
  },
  {
   "cell_type": "code",
   "execution_count": null,
   "id": "ac3571e2",
   "metadata": {},
   "outputs": [
    {
     "name": "stdout",
     "output_type": "stream",
     "text": [
      "a[3:4]= ['four'],\n",
      "<class 'list'>\n",
      "\n"
     ]
    }
   ],
   "source": [
    "print(f\"\"\"{a[3:4]= },\n",
    "{type(a[3:4])}\n",
    "\"\"\")"
   ]
  },
  {
   "cell_type": "code",
   "execution_count": null,
   "id": "48f184b5",
   "metadata": {},
   "outputs": [
    {
     "data": {
      "text/plain": [
       "['four', 'five', ['a', 3]]"
      ]
     },
     "metadata": {},
     "output_type": "display_data"
    }
   ],
   "source": [
    "a[3:]"
   ]
  },
  {
   "cell_type": "code",
   "execution_count": null,
   "id": "cec599eb",
   "metadata": {},
   "outputs": [
    {
     "data": {
      "text/plain": [
       "[2, 'four', ['a', 3]]"
      ]
     },
     "metadata": {},
     "output_type": "display_data"
    }
   ],
   "source": [
    "a = [1,2,3,\"four\",\"five\", [\"a\", 3]]\n",
    "a[1::2]"
   ]
  },
  {
   "cell_type": "code",
   "execution_count": null,
   "id": "76fefe89",
   "metadata": {},
   "outputs": [],
   "source": [
    "a = [1,2,3,\"four\",\"five\", [\"a\", 3]]\n",
    "b = [100,2000,3000,4000]"
   ]
  },
  {
   "cell_type": "code",
   "execution_count": null,
   "id": "e1ee97f0",
   "metadata": {},
   "outputs": [
    {
     "data": {
      "text/plain": [
       "[1, 2, 3, 'four', 'five', ['a', 3], 100, 2000, 3000, 4000]"
      ]
     },
     "metadata": {},
     "output_type": "display_data"
    }
   ],
   "source": [
    "a+b"
   ]
  },
  {
   "cell_type": "code",
   "execution_count": null,
   "id": "9f079faf",
   "metadata": {},
   "outputs": [
    {
     "data": {
      "text/plain": [
       "[1,\n",
       " 2,\n",
       " 3,\n",
       " 'four',\n",
       " 'five',\n",
       " ['a', 3],\n",
       " 1,\n",
       " 2,\n",
       " 3,\n",
       " 'four',\n",
       " 'five',\n",
       " ['a', 3],\n",
       " 1,\n",
       " 2,\n",
       " 3,\n",
       " 'four',\n",
       " 'five',\n",
       " ['a', 3]]"
      ]
     },
     "metadata": {},
     "output_type": "display_data"
    }
   ],
   "source": [
    "a * 3 # == a + a + a"
   ]
  },
  {
   "cell_type": "code",
   "execution_count": null,
   "id": "06ed8979",
   "metadata": {},
   "outputs": [
    {
     "data": {
      "text/plain": [
       "6"
      ]
     },
     "metadata": {},
     "output_type": "display_data"
    }
   ],
   "source": [
    "len(a)"
   ]
  },
  {
   "cell_type": "code",
   "execution_count": null,
   "id": "d2fc0411",
   "metadata": {},
   "outputs": [],
   "source": [
    "a = [1,2,3,4,5]"
   ]
  },
  {
   "cell_type": "code",
   "execution_count": null,
   "id": "9f279e91",
   "metadata": {},
   "outputs": [
    {
     "data": {
      "text/plain": [
       "4"
      ]
     },
     "metadata": {},
     "output_type": "display_data"
    }
   ],
   "source": [
    "a[3]"
   ]
  },
  {
   "cell_type": "code",
   "execution_count": null,
   "id": "4906d46e",
   "metadata": {},
   "outputs": [],
   "source": [
    "a = [1,2,3,\"four\",\"five\", [\"a\", 3]]"
   ]
  },
  {
   "cell_type": "code",
   "execution_count": null,
   "id": "c42b59d0",
   "metadata": {},
   "outputs": [
    {
     "ename": "TypeError",
     "evalue": "unsupported operand type(s) for +: 'int' and 'str'",
     "output_type": "error",
     "traceback": [
      "\u001b[0;31m---------------------------------------------------------------------------\u001b[0m\n",
      "\u001b[0;31mTypeError\u001b[0m                                 Traceback (most recent call last)\n",
      "Cell \u001b[0;32mIn[44], line 1\u001b[0m\n",
      "\u001b[0;32m----> 1\u001b[0m \u001b[43ma\u001b[49m\u001b[43m[\u001b[49m\u001b[38;5;241;43m0\u001b[39;49m\u001b[43m]\u001b[49m\u001b[38;5;241;43m+\u001b[39;49m\u001b[43m \u001b[49m\u001b[43ma\u001b[49m\u001b[43m[\u001b[49m\u001b[38;5;241;43m2\u001b[39;49m\u001b[43m]\u001b[49m\u001b[43m \u001b[49m\u001b[38;5;241;43m+\u001b[39;49m\u001b[43m \u001b[49m\u001b[43ma\u001b[49m\u001b[43m[\u001b[49m\u001b[38;5;241;43m3\u001b[39;49m\u001b[43m]\u001b[49m\n",
      "\n",
      "\u001b[0;31mTypeError\u001b[0m: unsupported operand type(s) for +: 'int' and 'str'"
     ]
    }
   ],
   "source": [
    "a[0]+ a[2] + a[3]"
   ]
  },
  {
   "cell_type": "code",
   "execution_count": null,
   "id": "3678fe6b",
   "metadata": {},
   "outputs": [
    {
     "name": "stdout",
     "output_type": "stream",
     "text": [
      "a[5] = ['a', 3],\n",
      "<class 'list'>\n",
      "\n"
     ]
    }
   ],
   "source": [
    "print(f\"\"\"{a[5] = },\n",
    "{type(a[5])}\n",
    "\"\"\")"
   ]
  },
  {
   "cell_type": "code",
   "execution_count": null,
   "id": "54d841fc",
   "metadata": {},
   "outputs": [
    {
     "name": "stdout",
     "output_type": "stream",
     "text": [
      "a[3:4]= ['four'],\n",
      "<class 'list'>\n",
      "\n"
     ]
    }
   ],
   "source": [
    "print(f\"\"\"{a[3:4]= },\n",
    "{type(a[3:4])}\n",
    "\"\"\")"
   ]
  },
  {
   "cell_type": "code",
   "execution_count": null,
   "id": "4ceb3b6e",
   "metadata": {},
   "outputs": [
    {
     "data": {
      "text/plain": [
       "['four', 'five', ['a', 3]]"
      ]
     },
     "metadata": {},
     "output_type": "display_data"
    }
   ],
   "source": [
    "a[3:]"
   ]
  },
  {
   "cell_type": "code",
   "execution_count": null,
   "id": "e898397e",
   "metadata": {},
   "outputs": [
    {
     "data": {
      "text/plain": [
       "[2, 'four', ['a', 3]]"
      ]
     },
     "metadata": {},
     "output_type": "display_data"
    }
   ],
   "source": [
    "a = [1,2,3,\"four\",\"five\", [\"a\", 3]]\n",
    "a[1::2]"
   ]
  },
  {
   "cell_type": "code",
   "execution_count": null,
   "id": "decc7051",
   "metadata": {},
   "outputs": [],
   "source": [
    "a = [1,2,3,\"four\",\"five\", [\"a\", 3]]\n",
    "b = [100,2000,3000,4000]"
   ]
  },
  {
   "cell_type": "code",
   "execution_count": null,
   "id": "7f0c8786",
   "metadata": {},
   "outputs": [
    {
     "data": {
      "text/plain": [
       "[1, 2, 3, 'four', 'five', ['a', 3], 100, 2000, 3000, 4000]"
      ]
     },
     "metadata": {},
     "output_type": "display_data"
    }
   ],
   "source": [
    "a+b"
   ]
  },
  {
   "cell_type": "code",
   "execution_count": null,
   "id": "c638595b",
   "metadata": {},
   "outputs": [
    {
     "data": {
      "text/plain": [
       "[1,\n",
       " 2,\n",
       " 3,\n",
       " 'four',\n",
       " 'five',\n",
       " ['a', 3],\n",
       " 1,\n",
       " 2,\n",
       " 3,\n",
       " 'four',\n",
       " 'five',\n",
       " ['a', 3],\n",
       " 1,\n",
       " 2,\n",
       " 3,\n",
       " 'four',\n",
       " 'five',\n",
       " ['a', 3]]"
      ]
     },
     "metadata": {},
     "output_type": "display_data"
    }
   ],
   "source": [
    "a * 3 # == a + a + a"
   ]
  },
  {
   "cell_type": "code",
   "execution_count": null,
   "id": "870067ff",
   "metadata": {},
   "outputs": [
    {
     "data": {
      "text/plain": [
       "6"
      ]
     },
     "metadata": {},
     "output_type": "display_data"
    }
   ],
   "source": [
    "len(a)"
   ]
  },
  {
   "cell_type": "code",
   "execution_count": null,
   "id": "1f90e4e3",
   "metadata": {},
   "outputs": [],
   "source": [
    "sample = \"Life is too short\""
   ]
  },
  {
   "cell_type": "code",
   "execution_count": null,
   "id": "b83f3ed4",
   "metadata": {},
   "outputs": [
    {
     "data": {
      "text/plain": [
       "17"
      ]
     },
     "metadata": {},
     "output_type": "display_data"
    }
   ],
   "source": [
    "len(sample)"
   ]
  },
  {
   "cell_type": "code",
   "execution_count": null,
   "id": "5772761b",
   "metadata": {},
   "outputs": [
    {
     "data": {
      "text/plain": [
       "6"
      ]
     },
     "metadata": {},
     "output_type": "display_data"
    }
   ],
   "source": [
    "len(a)"
   ]
  },
  {
   "cell_type": "code",
   "execution_count": null,
   "id": "4376fbf7",
   "metadata": {},
   "outputs": [
    {
     "data": {
      "text/plain": [
       "'five'"
      ]
     },
     "metadata": {},
     "output_type": "display_data"
    }
   ],
   "source": [
    "a[4]"
   ]
  },
  {
   "cell_type": "code",
   "execution_count": null,
   "id": "3d7836c8",
   "metadata": {},
   "outputs": [],
   "source": [
    "a[4] = \"six\""
   ]
  },
  {
   "cell_type": "code",
   "execution_count": null,
   "id": "73eab833",
   "metadata": {},
   "outputs": [
    {
     "data": {
      "text/plain": [
       "[1, 2, 3, 'four', 'six', ['a', 3]]"
      ]
     },
     "metadata": {},
     "output_type": "display_data"
    }
   ],
   "source": [
    "a"
   ]
  },
  {
   "cell_type": "code",
   "execution_count": null,
   "id": "39f1eaa5",
   "metadata": {},
   "outputs": [],
   "source": [
    "del a[4]"
   ]
  },
  {
   "cell_type": "code",
   "execution_count": null,
   "id": "a23e5175",
   "metadata": {},
   "outputs": [
    {
     "data": {
      "text/plain": [
       "[1, 2, 3, 'four', ['a', 3]]"
      ]
     },
     "metadata": {},
     "output_type": "display_data"
    }
   ],
   "source": [
    "a"
   ]
  },
  {
   "cell_type": "code",
   "execution_count": null,
   "id": "74493bb6",
   "metadata": {},
   "outputs": [
    {
     "name": "stdout",
     "output_type": "stream",
     "text": [
      "s,t,r,i,n,g,0,1\n"
     ]
    }
   ],
   "source": [
    "print(\",\".join(f\"{makeString()}\"))"
   ]
  },
  {
   "cell_type": "markdown",
   "id": "b67ed201",
   "metadata": {},
   "source": [
    "# Tuple"
   ]
  },
  {
   "cell_type": "code",
   "execution_count": 1,
   "id": "ea0a4e04-ebef-4ec0-872f-cf72696545c8",
   "metadata": {},
   "outputs": [],
   "source": [
    "a = (2,4,5,)"
   ]
  },
  {
   "cell_type": "code",
   "execution_count": 2,
   "id": "695d24ed-79f2-47ae-8e8f-c01472356bcd",
   "metadata": {},
   "outputs": [
    {
     "data": {
      "text/plain": [
       "4"
      ]
     },
     "execution_count": 2,
     "metadata": {},
     "output_type": "execute_result"
    }
   ],
   "source": [
    "a[1]"
   ]
  },
  {
   "cell_type": "code",
   "execution_count": 3,
   "id": "5f889c3e-7337-426d-a193-55d72c5fd392",
   "metadata": {},
   "outputs": [
    {
     "ename": "TypeError",
     "evalue": "'tuple' object does not support item assignment",
     "output_type": "error",
     "traceback": [
      "\u001b[0;31m---------------------------------------------------------------------------\u001b[0m",
      "\u001b[0;31mTypeError\u001b[0m                                 Traceback (most recent call last)",
      "Cell \u001b[0;32mIn[3], line 1\u001b[0m\n\u001b[0;32m----> 1\u001b[0m \u001b[43ma\u001b[49m\u001b[43m[\u001b[49m\u001b[38;5;241;43m1\u001b[39;49m\u001b[43m]\u001b[49m \u001b[38;5;241m=\u001b[39m \u001b[38;5;241m4\u001b[39m\n",
      "\u001b[0;31mTypeError\u001b[0m: 'tuple' object does not support item assignment"
     ]
    }
   ],
   "source": [
    "a[1] = 4"
   ]
  },
  {
   "cell_type": "code",
   "execution_count": 19,
   "id": "59f0aecf-8e8f-473a-8ba7-5d285e59d3b8",
   "metadata": {},
   "outputs": [],
   "source": [
    "# 0 : 키, 1: 나이,2: 전공, 3:학교\n",
    "human = (180,34, \"cs\", \"kbu\")"
   ]
  },
  {
   "cell_type": "code",
   "execution_count": 20,
   "id": "faf3291b-dfca-47da-8c30-7e69f8a4849e",
   "metadata": {},
   "outputs": [
    {
     "data": {
      "text/plain": [
       "tuple"
      ]
     },
     "execution_count": 20,
     "metadata": {},
     "output_type": "execute_result"
    }
   ],
   "source": [
    "type(human)"
   ]
  },
  {
   "cell_type": "code",
   "execution_count": 24,
   "id": "81e7f70e-e216-46ac-97e9-0041d42ba9b1",
   "metadata": {},
   "outputs": [],
   "source": [
    "height, age, major, univ = human"
   ]
  },
  {
   "cell_type": "code",
   "execution_count": 25,
   "id": "3321346c-7d54-4603-a1db-16fe0c565cdb",
   "metadata": {},
   "outputs": [
    {
     "name": "stdout",
     "output_type": "stream",
     "text": [
      "height = 180, age = 34, major = 'cs', univ = 'kbu'\n"
     ]
    }
   ],
   "source": [
    "print(f\"{height = }, {age = }, {major = }, {univ = }\")"
   ]
  },
  {
   "cell_type": "code",
   "execution_count": 26,
   "id": "46377dc6-e207-4017-9293-9ba686121f56",
   "metadata": {},
   "outputs": [],
   "source": [
    "height, age, *others = human"
   ]
  },
  {
   "cell_type": "code",
   "execution_count": 27,
   "id": "bf85dce2-33f4-4f56-bb00-9e31e5457dc5",
   "metadata": {},
   "outputs": [
    {
     "name": "stdout",
     "output_type": "stream",
     "text": [
      "height = 180, age = 34, others = ['cs', 'kbu']\n"
     ]
    }
   ],
   "source": [
    "print(f\"{height = }, {age = }, {others = }\")"
   ]
  },
  {
   "cell_type": "code",
   "execution_count": 29,
   "id": "7f7c255a-e8ea-445a-9ad0-fab85ad7684e",
   "metadata": {},
   "outputs": [
    {
     "name": "stdout",
     "output_type": "stream",
     "text": [
      "others = [180, 34], major = 'cs', univ = 'kbu'\n"
     ]
    }
   ],
   "source": [
    "*others, major, univ = human\n",
    "print(f\"{others = }, {major = }, {univ = }\")"
   ]
  },
  {
   "cell_type": "code",
   "execution_count": 30,
   "id": "3ea0c1e3-a99c-40a7-9d91-3fa69ad54acc",
   "metadata": {},
   "outputs": [],
   "source": [
    "height, *other, univ = human"
   ]
  },
  {
   "cell_type": "code",
   "execution_count": 31,
   "id": "e17d795a-4c90-4556-b085-a41ea3077e3e",
   "metadata": {},
   "outputs": [
    {
     "name": "stdout",
     "output_type": "stream",
     "text": [
      "height = 180, other = [34, 'cs'], univ = 'kbu'\n"
     ]
    }
   ],
   "source": [
    "print(f\"{height = }, {other = }, {univ = }\")"
   ]
  },
  {
   "cell_type": "code",
   "execution_count": 33,
   "id": "2044df97-c19b-435b-b93f-c3abcee397e5",
   "metadata": {},
   "outputs": [
    {
     "ename": "SyntaxError",
     "evalue": "starred assignment target must be in a list or tuple (3530690598.py, line 1)",
     "output_type": "error",
     "traceback": [
      "\u001b[0;36m  Cell \u001b[0;32mIn[33], line 1\u001b[0;36m\u001b[0m\n\u001b[0;31m    *other = human\u001b[0m\n\u001b[0m    ^\u001b[0m\n\u001b[0;31mSyntaxError\u001b[0m\u001b[0;31m:\u001b[0m starred assignment target must be in a list or tuple\n"
     ]
    }
   ],
   "source": [
    "*other = human"
   ]
  },
  {
   "cell_type": "markdown",
   "id": "4427ee95",
   "metadata": {},
   "source": [
    "# dict"
   ]
  },
  {
   "cell_type": "code",
   "execution_count": 43,
   "id": "c5eb2f5e-5c8c-43f2-90cc-2995d5054b59",
   "metadata": {},
   "outputs": [],
   "source": [
    "d = {\"apple\":3, \"banana\": 4}"
   ]
  },
  {
   "cell_type": "code",
   "execution_count": 44,
   "id": "ee445694-25a8-4c33-8665-d45949f3ded4",
   "metadata": {},
   "outputs": [
    {
     "data": {
      "text/plain": [
       "dict"
      ]
     },
     "execution_count": 44,
     "metadata": {},
     "output_type": "execute_result"
    }
   ],
   "source": [
    "type(d)"
   ]
  },
  {
   "cell_type": "code",
   "execution_count": 45,
   "id": "b20974ea-8ad5-45d2-a341-9fb21e22ef46",
   "metadata": {},
   "outputs": [
    {
     "name": "stdout",
     "output_type": "stream",
     "text": [
      "{'apple': 3, 'banana': 4}\n"
     ]
    }
   ],
   "source": [
    "print(d)"
   ]
  },
  {
   "cell_type": "code",
   "execution_count": 46,
   "id": "80ae89fa-aec2-4018-9f70-35df4a5d6649",
   "metadata": {},
   "outputs": [
    {
     "name": "stdout",
     "output_type": "stream",
     "text": [
      "3\n"
     ]
    }
   ],
   "source": [
    "print(d['apple'])"
   ]
  },
  {
   "cell_type": "code",
   "execution_count": 47,
   "id": "6084accb-5470-443e-96b8-6d90403fe316",
   "metadata": {},
   "outputs": [],
   "source": [
    "d[\"mango\"] = 5"
   ]
  },
  {
   "cell_type": "code",
   "execution_count": 48,
   "id": "909f404a-8358-4bf9-9a6a-f8b5cfc4eee2",
   "metadata": {},
   "outputs": [
    {
     "name": "stdout",
     "output_type": "stream",
     "text": [
      "{'apple': 3, 'banana': 4, 'mango': 5}\n"
     ]
    }
   ],
   "source": [
    "print(d)"
   ]
  },
  {
   "cell_type": "code",
   "execution_count": 49,
   "id": "e9668c4e-fda6-4a02-9b50-00f8803bf20c",
   "metadata": {},
   "outputs": [],
   "source": [
    "d[\"mango\"] = 7"
   ]
  },
  {
   "cell_type": "code",
   "execution_count": 50,
   "id": "0ed69e0d-2625-493c-aa61-afc2f3229f43",
   "metadata": {},
   "outputs": [
    {
     "name": "stdout",
     "output_type": "stream",
     "text": [
      "{'apple': 3, 'banana': 4, 'mango': 7}\n"
     ]
    }
   ],
   "source": [
    "print(d)"
   ]
  },
  {
   "cell_type": "code",
   "execution_count": 51,
   "id": "9269dc55-f1d8-4afb-9bde-aaf346c00eef",
   "metadata": {},
   "outputs": [],
   "source": [
    "d[\"Mango\"] = 7"
   ]
  },
  {
   "cell_type": "code",
   "execution_count": 52,
   "id": "00ae685e-4c8b-4654-8606-436c1c13f035",
   "metadata": {},
   "outputs": [
    {
     "name": "stdout",
     "output_type": "stream",
     "text": [
      "{'apple': 3, 'banana': 4, 'mango': 7, 'Mango': 7}\n"
     ]
    }
   ],
   "source": [
    "print(d)"
   ]
  },
  {
   "cell_type": "code",
   "execution_count": 53,
   "id": "a38b98ec-ad5e-495d-b79d-c2ccdbab7d6d",
   "metadata": {},
   "outputs": [],
   "source": [
    "del d[\"Mango\"]"
   ]
  },
  {
   "cell_type": "code",
   "execution_count": 54,
   "id": "00442b24-befc-4e5a-b472-a167d6a03104",
   "metadata": {},
   "outputs": [
    {
     "name": "stdout",
     "output_type": "stream",
     "text": [
      "{'apple': 3, 'banana': 4, 'mango': 7}\n"
     ]
    }
   ],
   "source": [
    "print(d)"
   ]
  },
  {
   "cell_type": "code",
   "execution_count": 55,
   "id": "80b7828f-8b07-4e79-bc72-5e748cf2d1a8",
   "metadata": {},
   "outputs": [],
   "source": [
    "d[(3,4)] = \"value01\""
   ]
  },
  {
   "cell_type": "code",
   "execution_count": 56,
   "id": "69f88d60-decd-4d00-9287-5382331ce59f",
   "metadata": {},
   "outputs": [
    {
     "name": "stdout",
     "output_type": "stream",
     "text": [
      "{'apple': 3, 'banana': 4, 'mango': 7, (3, 4): 'value01'}\n"
     ]
    }
   ],
   "source": [
    "print(d)"
   ]
  },
  {
   "cell_type": "code",
   "execution_count": 57,
   "id": "2492e590-fd50-477a-a83a-406a6e191a06",
   "metadata": {},
   "outputs": [
    {
     "ename": "TypeError",
     "evalue": "unhashable type: 'list'",
     "output_type": "error",
     "traceback": [
      "\u001b[0;31m---------------------------------------------------------------------------\u001b[0m",
      "\u001b[0;31mTypeError\u001b[0m                                 Traceback (most recent call last)",
      "Cell \u001b[0;32mIn[57], line 1\u001b[0m\n\u001b[0;32m----> 1\u001b[0m \u001b[43md\u001b[49m\u001b[43m[\u001b[49m\u001b[43m[\u001b[49m\u001b[38;5;241;43m5\u001b[39;49m\u001b[43m,\u001b[49m\u001b[38;5;241;43m6\u001b[39;49m\u001b[43m]\u001b[49m\u001b[43m]\u001b[49m \u001b[38;5;241m=\u001b[39m \u001b[38;5;124m\"\u001b[39m\u001b[38;5;124mvalue02\u001b[39m\u001b[38;5;124m\"\u001b[39m\n",
      "\u001b[0;31mTypeError\u001b[0m: unhashable type: 'list'"
     ]
    }
   ],
   "source": [
    "d[[5,6]] = \"value02\""
   ]
  },
  {
   "cell_type": "code",
   "execution_count": 58,
   "id": "42ee486b-c34f-4695-8941-3e11193588c2",
   "metadata": {},
   "outputs": [],
   "source": [
    "d[(1,2)] = human"
   ]
  },
  {
   "cell_type": "code",
   "execution_count": 59,
   "id": "57c44931-70f4-4dd8-8eff-43a96a551343",
   "metadata": {},
   "outputs": [
    {
     "name": "stdout",
     "output_type": "stream",
     "text": [
      "{'apple': 3, 'banana': 4, 'mango': 7, (3, 4): 'value01', (1, 2): (180, 34, 'cs', 'kbu')}\n"
     ]
    }
   ],
   "source": [
    "print(d)"
   ]
  },
  {
   "cell_type": "code",
   "execution_count": 60,
   "id": "a8643c7d-7f70-4038-86a4-ddb53aa815fd",
   "metadata": {},
   "outputs": [],
   "source": [
    "a = {\"a\" : 1, \"B\":3}\n",
    "d[(3,4)] = a"
   ]
  },
  {
   "cell_type": "code",
   "execution_count": 62,
   "id": "c5eca231-cc09-4132-a778-be7a6dc33bd1",
   "metadata": {},
   "outputs": [
    {
     "name": "stdout",
     "output_type": "stream",
     "text": [
      "{'apple': 3, 'banana': 4, 'mango': 7, (3, 4): {'a': 1, 'B': 3}, (1, 2): (180, 34, 'cs', 'kbu')}\n"
     ]
    }
   ],
   "source": [
    "print(d)"
   ]
  },
  {
   "cell_type": "code",
   "execution_count": 63,
   "id": "a40e1cd7-a473-49c9-b6b5-16ca710c7887",
   "metadata": {},
   "outputs": [
    {
     "data": {
      "text/plain": [
       "dict_keys(['apple', 'banana', 'mango', (3, 4), (1, 2)])"
      ]
     },
     "execution_count": 63,
     "metadata": {},
     "output_type": "execute_result"
    }
   ],
   "source": [
    "d.keys()"
   ]
  },
  {
   "cell_type": "code",
   "execution_count": 64,
   "id": "05356468-c2d1-44d0-99be-48c4d2f5692b",
   "metadata": {},
   "outputs": [
    {
     "data": {
      "text/plain": [
       "dict_values([3, 4, 7, {'a': 1, 'B': 3}, (180, 34, 'cs', 'kbu')])"
      ]
     },
     "execution_count": 64,
     "metadata": {},
     "output_type": "execute_result"
    }
   ],
   "source": [
    "d.values()"
   ]
  },
  {
   "cell_type": "code",
   "execution_count": 65,
   "id": "20b9ae44-5e5d-4d29-9880-1105487d8f45",
   "metadata": {},
   "outputs": [
    {
     "data": {
      "text/plain": [
       "dict_items([('apple', 3), ('banana', 4), ('mango', 7), ((3, 4), {'a': 1, 'B': 3}), ((1, 2), (180, 34, 'cs', 'kbu'))])"
      ]
     },
     "execution_count": 65,
     "metadata": {},
     "output_type": "execute_result"
    }
   ],
   "source": [
    "d.items()"
   ]
  },
  {
   "cell_type": "markdown",
   "id": "850499e9",
   "metadata": {},
   "source": [
    "# bool"
   ]
  },
  {
   "cell_type": "code",
   "execution_count": 67,
   "id": "0163571d-34d5-4ea4-b1ca-fc8811246a7d",
   "metadata": {},
   "outputs": [
    {
     "data": {
      "text/plain": [
       "True"
      ]
     },
     "execution_count": 67,
     "metadata": {},
     "output_type": "execute_result"
    }
   ],
   "source": [
    "\"apple\" in d"
   ]
  },
  {
   "cell_type": "code",
   "execution_count": 71,
   "id": "9f6a6c25-1700-4539-8dc4-9312b47cee83",
   "metadata": {},
   "outputs": [
    {
     "data": {
      "text/plain": [
       "True"
      ]
     },
     "execution_count": 71,
     "metadata": {},
     "output_type": "execute_result"
    }
   ],
   "source": [
    "(3,4) in d"
   ]
  },
  {
   "cell_type": "code",
   "execution_count": 69,
   "id": "72493c52-52d5-44a7-af49-05eb43283430",
   "metadata": {},
   "outputs": [
    {
     "data": {
      "text/plain": [
       "False"
      ]
     },
     "execution_count": 69,
     "metadata": {},
     "output_type": "execute_result"
    }
   ],
   "source": [
    "(2,4) in d"
   ]
  },
  {
   "cell_type": "code",
   "execution_count": 74,
   "id": "eba13831-c4f0-48e1-9811-a4e2ab0221f7",
   "metadata": {},
   "outputs": [
    {
     "ename": "KeyError",
     "evalue": "'apple01'",
     "output_type": "error",
     "traceback": [
      "\u001b[0;31m---------------------------------------------------------------------------\u001b[0m",
      "\u001b[0;31mKeyError\u001b[0m                                  Traceback (most recent call last)",
      "Cell \u001b[0;32mIn[74], line 1\u001b[0m\n\u001b[0;32m----> 1\u001b[0m \u001b[43md\u001b[49m\u001b[43m[\u001b[49m\u001b[38;5;124;43m\"\u001b[39;49m\u001b[38;5;124;43mapple01\u001b[39;49m\u001b[38;5;124;43m\"\u001b[39;49m\u001b[43m]\u001b[49m\n",
      "\u001b[0;31mKeyError\u001b[0m: 'apple01'"
     ]
    }
   ],
   "source": [
    "d[\"apple01\"]"
   ]
  },
  {
   "cell_type": "code",
   "execution_count": 77,
   "id": "476621fb-ff69-4038-a78b-fd372789a362",
   "metadata": {},
   "outputs": [
    {
     "name": "stdout",
     "output_type": "stream",
     "text": [
      "0\n"
     ]
    }
   ],
   "source": [
    "print(d.get(\"apple01\",\"0\"))"
   ]
  },
  {
   "cell_type": "markdown",
   "id": "adaca1f5",
   "metadata": {},
   "source": [
    "# set"
   ]
  },
  {
   "cell_type": "code",
   "execution_count": 79,
   "id": "93128a5c-cb1d-4c10-97e5-9f6caad1f91c",
   "metadata": {},
   "outputs": [],
   "source": [
    "a = set([1,2,3])"
   ]
  },
  {
   "cell_type": "code",
   "execution_count": 81,
   "id": "67ceb233-6896-4855-a9f3-06f9fdf7055a",
   "metadata": {},
   "outputs": [
    {
     "data": {
      "text/plain": [
       "set"
      ]
     },
     "execution_count": 81,
     "metadata": {},
     "output_type": "execute_result"
    }
   ],
   "source": [
    "type(a)"
   ]
  },
  {
   "cell_type": "code",
   "execution_count": 94,
   "id": "e33ed49e-9c16-4a5b-914f-b921a7426f67",
   "metadata": {},
   "outputs": [],
   "source": [
    "b = [1,2,3,5,5,5,5,5]"
   ]
  },
  {
   "cell_type": "code",
   "execution_count": 95,
   "id": "55a07c12-a98d-41c6-b219-1232106dad1c",
   "metadata": {},
   "outputs": [
    {
     "name": "stdout",
     "output_type": "stream",
     "text": [
      "[1, 2, 3, 5, 5, 5, 5, 5]\n"
     ]
    }
   ],
   "source": [
    "print(b)"
   ]
  },
  {
   "cell_type": "code",
   "execution_count": 93,
   "id": "ae119a6c-3660-4c0f-9039-abdd81cce23d",
   "metadata": {},
   "outputs": [
    {
     "ename": "TypeError",
     "evalue": "'int' object is not iterable",
     "output_type": "error",
     "traceback": [
      "\u001b[0;31m---------------------------------------------------------------------------\u001b[0m",
      "\u001b[0;31mTypeError\u001b[0m                                 Traceback (most recent call last)",
      "Cell \u001b[0;32mIn[93], line 1\u001b[0m\n\u001b[0;32m----> 1\u001b[0m \u001b[38;5;28mprint\u001b[39m(\u001b[38;5;28;43mset\u001b[39;49m\u001b[43m(\u001b[49m\u001b[43mb\u001b[49m\u001b[43m)\u001b[49m)\n",
      "\u001b[0;31mTypeError\u001b[0m: 'int' object is not iterable"
     ]
    }
   ],
   "source": [
    "print(set(b))"
   ]
  },
  {
   "cell_type": "code",
   "execution_count": 86,
   "id": "dee3c305-d393-495f-99a3-30cf3710b666",
   "metadata": {},
   "outputs": [
    {
     "data": {
      "text/plain": [
       "{1, 2, 3, 4, 5}"
      ]
     },
     "execution_count": 86,
     "metadata": {},
     "output_type": "execute_result"
    }
   ],
   "source": [
    "set((1,2,3,4,5,5,5,5,))"
   ]
  },
  {
   "cell_type": "code",
   "execution_count": 87,
   "id": "bda70ea4-3de3-44a4-89df-a20d2ddc7165",
   "metadata": {},
   "outputs": [],
   "source": [
    "a = 2\n",
    "b = 1"
   ]
  },
  {
   "cell_type": "code",
   "execution_count": 88,
   "id": "dae6aca8-a2c6-4468-b710-a0cb940d97eb",
   "metadata": {},
   "outputs": [
    {
     "data": {
      "text/plain": [
       "True"
      ]
     },
     "execution_count": 88,
     "metadata": {},
     "output_type": "execute_result"
    }
   ],
   "source": [
    "a > b"
   ]
  },
  {
   "cell_type": "code",
   "execution_count": 89,
   "id": "6502238d-ef50-42d2-a8f9-1e69a8d40a39",
   "metadata": {},
   "outputs": [],
   "source": [
    "l = 88\n",
    "import sys"
   ]
  },
  {
   "cell_type": "code",
   "execution_count": 90,
   "id": "10c986c5-ed2c-4a57-8e19-b95b6ce20ffe",
   "metadata": {},
   "outputs": [
    {
     "data": {
      "text/plain": [
       "28"
      ]
     },
     "execution_count": 90,
     "metadata": {},
     "output_type": "execute_result"
    }
   ],
   "source": [
    "sys.getsizeof(l)"
   ]
  },
  {
   "cell_type": "code",
   "execution_count": 96,
   "id": "5f2c3bfb-a39b-4011-8186-1e715b25e577",
   "metadata": {},
   "outputs": [
    {
     "data": {
      "text/plain": [
       "120"
      ]
     },
     "execution_count": 96,
     "metadata": {},
     "output_type": "execute_result"
    }
   ],
   "source": [
    "sys.getsizeof(b)"
   ]
  },
  {
   "cell_type": "code",
   "execution_count": 97,
   "id": "0a2bdeb3-a635-4ead-9db0-17c9df861b8a",
   "metadata": {},
   "outputs": [],
   "source": [
    "key = 88"
   ]
  },
  {
   "cell_type": "code",
   "execution_count": 98,
   "id": "5fd4e95c-31fe-4d0b-9f99-fff731621647",
   "metadata": {},
   "outputs": [],
   "source": [
    "other_key = key"
   ]
  },
  {
   "cell_type": "code",
   "execution_count": 99,
   "id": "cd847625-4acc-4d71-a7c2-71ee6c2c8c01",
   "metadata": {},
   "outputs": [],
   "source": [
    "key = 5"
   ]
  },
  {
   "cell_type": "code",
   "execution_count": 101,
   "id": "f338b055-ddff-43e6-a9d1-56961cb334ad",
   "metadata": {},
   "outputs": [
    {
     "name": "stdout",
     "output_type": "stream",
     "text": [
      "key=5, other_key=88\n"
     ]
    }
   ],
   "source": [
    "print(f\"{key=}, {other_key=}\")"
   ]
  },
  {
   "cell_type": "code",
   "execution_count": 102,
   "id": "62576e36-48ed-4cfb-9fac-eebea1685681",
   "metadata": {},
   "outputs": [],
   "source": [
    "a = 4\n",
    "b = 4"
   ]
  },
  {
   "cell_type": "code",
   "execution_count": 103,
   "id": "e3cffa16-cf04-44ea-bd8f-d7f7cf4d2293",
   "metadata": {},
   "outputs": [
    {
     "data": {
      "text/plain": [
       "True"
      ]
     },
     "execution_count": 103,
     "metadata": {},
     "output_type": "execute_result"
    }
   ],
   "source": [
    "a is b"
   ]
  },
  {
   "cell_type": "code",
   "execution_count": 107,
   "id": "5a641b69-a56c-4fb2-989b-15b84812c2e0",
   "metadata": {},
   "outputs": [],
   "source": [
    "a = [1,2,3,4]"
   ]
  },
  {
   "cell_type": "code",
   "execution_count": 108,
   "id": "33ad5425-85af-49dd-8aa4-2906c617cdcf",
   "metadata": {},
   "outputs": [],
   "source": [
    "b = a"
   ]
  },
  {
   "cell_type": "code",
   "execution_count": 109,
   "id": "76b1032e-b06f-4531-8b3b-739d32e4e751",
   "metadata": {},
   "outputs": [],
   "source": [
    "a[3] = \"e\""
   ]
  },
  {
   "cell_type": "code",
   "execution_count": 110,
   "id": "deff6a2c-d40b-4597-b1d7-c29be2b11a77",
   "metadata": {},
   "outputs": [
    {
     "data": {
      "text/plain": [
       "[1, 2, 3, 'e']"
      ]
     },
     "execution_count": 110,
     "metadata": {},
     "output_type": "execute_result"
    }
   ],
   "source": [
    "b"
   ]
  },
  {
   "cell_type": "code",
   "execution_count": 111,
   "id": "8b28ae80-0149-4142-98fa-12c0d0f88a3c",
   "metadata": {},
   "outputs": [
    {
     "data": {
      "text/plain": [
       "[1, 2, 3, 'e']"
      ]
     },
     "execution_count": 111,
     "metadata": {},
     "output_type": "execute_result"
    }
   ],
   "source": [
    "a"
   ]
  },
  {
   "cell_type": "code",
   "execution_count": 112,
   "id": "636ef471-f597-4ea4-9b64-1c70e31fd85d",
   "metadata": {},
   "outputs": [],
   "source": [
    "b = a[0:]"
   ]
  },
  {
   "cell_type": "code",
   "execution_count": 113,
   "id": "bdef4ec4-4901-4c9b-a7ab-da4f361aa975",
   "metadata": {},
   "outputs": [
    {
     "name": "stdout",
     "output_type": "stream",
     "text": [
      "140209488571456\n",
      "140209490196352\n"
     ]
    }
   ],
   "source": [
    "print(id(a))\n",
    "print(id(b))"
   ]
  },
  {
   "cell_type": "code",
   "execution_count": null,
   "id": "3cd640f5-47ac-4691-afe9-bfb884e82162",
   "metadata": {},
   "outputs": [],
   "source": []
  },
  {
   "cell_type": "code",
   "execution_count": null,
   "id": "34cec230-1d72-4204-98fb-d744c714ca1f",
   "metadata": {},
   "outputs": [],
   "source": []
  },
  {
   "cell_type": "code",
   "execution_count": null,
   "id": "f12427a5-ac15-46a3-aef0-5df7933f5bf1",
   "metadata": {},
   "outputs": [],
   "source": []
  }
 ],
 "metadata": {
  "kernelspec": {
   "display_name": "Python 3 (ipykernel)",
   "language": "python",
   "name": "python3"
  },
  "language_info": {
   "codemirror_mode": {
    "name": "ipython",
    "version": 3
   },
   "file_extension": ".py",
   "mimetype": "text/x-python",
   "name": "python",
   "nbconvert_exporter": "python",
   "pygments_lexer": "ipython3",
   "version": "3.11.5"
  }
 },
 "nbformat": 4,
 "nbformat_minor": 5
}
