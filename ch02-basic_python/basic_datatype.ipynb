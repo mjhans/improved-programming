{
 "cells": [
  {
   "cell_type": "markdown",
   "id": "afeaa869-78c7-430b-9384-73ed100f267a",
   "metadata": {},
   "source": [
    "# 숫자형"
   ]
  },
  {
   "cell_type": "code",
   "execution_count": 1,
   "id": "ab08c371-6b47-4301-8093-c126430e9f7e",
   "metadata": {},
   "outputs": [
    {
     "name": "stdout",
     "output_type": "stream",
     "text": [
      "<class 'int'>\n"
     ]
    }
   ],
   "source": [
    "a = 22\n",
    "print(type(a))"
   ]
  },
  {
   "cell_type": "code",
   "execution_count": 2,
   "id": "05a0f978-995a-4085-89de-41d164a2bd5f",
   "metadata": {},
   "outputs": [
    {
     "name": "stdout",
     "output_type": "stream",
     "text": [
      "<class 'int'>\n"
     ]
    }
   ],
   "source": [
    "print(type(0x1E))"
   ]
  },
  {
   "cell_type": "code",
   "execution_count": 3,
   "id": "53565d6e-ee56-4115-9c68-ed52c1540c35",
   "metadata": {},
   "outputs": [
    {
     "name": "stdout",
     "output_type": "stream",
     "text": [
      "<class 'float'>\n"
     ]
    }
   ],
   "source": [
    "b = 22.0\n",
    "print(type(b))"
   ]
  },
  {
   "cell_type": "code",
   "execution_count": 4,
   "id": "7450934b-f09d-4e27-a573-d4484333352a",
   "metadata": {},
   "outputs": [
    {
     "name": "stdout",
     "output_type": "stream",
     "text": [
      "<class 'str'>\n"
     ]
    }
   ],
   "source": [
    "b = \"a\"\n",
    "print(type(b))"
   ]
  },
  {
   "cell_type": "code",
   "execution_count": 5,
   "id": "a3d9055e-5ef6-4fc2-8769-c73c3e8b7cc4",
   "metadata": {},
   "outputs": [
    {
     "data": {
      "text/plain": [
       "8"
      ]
     },
     "execution_count": 5,
     "metadata": {},
     "output_type": "execute_result"
    }
   ],
   "source": [
    "2 **3"
   ]
  },
  {
   "cell_type": "code",
   "execution_count": 6,
   "id": "9d6636ee-ab8c-49d9-854e-3d0d14f07f7b",
   "metadata": {},
   "outputs": [
    {
     "data": {
      "text/plain": [
       "1"
      ]
     },
     "execution_count": 6,
     "metadata": {},
     "output_type": "execute_result"
    }
   ],
   "source": [
    "2^3"
   ]
  },
  {
   "cell_type": "code",
   "execution_count": 8,
   "id": "118dc3de-021d-4943-93ca-09d3e0b729a3",
   "metadata": {},
   "outputs": [
    {
     "data": {
      "text/plain": [
       "1.5"
      ]
     },
     "execution_count": 8,
     "metadata": {},
     "output_type": "execute_result"
    }
   ],
   "source": [
    "3 /2"
   ]
  },
  {
   "cell_type": "code",
   "execution_count": 9,
   "id": "b53374f1-2e04-409f-a67b-8b82c4a7e5cf",
   "metadata": {},
   "outputs": [
    {
     "data": {
      "text/plain": [
       "1.3333333333333333"
      ]
     },
     "execution_count": 9,
     "metadata": {},
     "output_type": "execute_result"
    }
   ],
   "source": [
    "4 / 3  # 일반 나눗셈"
   ]
  },
  {
   "cell_type": "code",
   "execution_count": 10,
   "id": "736f1bd5-c4d0-4e2a-88a7-8338929433b4",
   "metadata": {},
   "outputs": [
    {
     "data": {
      "text/plain": [
       "1"
      ]
     },
     "execution_count": 10,
     "metadata": {},
     "output_type": "execute_result"
    }
   ],
   "source": [
    "4 // 3 # 몫 반환"
   ]
  },
  {
   "cell_type": "code",
   "execution_count": 11,
   "id": "fa627e3a-c6fd-448e-b314-0d4c86aefd96",
   "metadata": {},
   "outputs": [
    {
     "data": {
      "text/plain": [
       "1"
      ]
     },
     "execution_count": 11,
     "metadata": {},
     "output_type": "execute_result"
    }
   ],
   "source": [
    "4 % 3  # 나머지를 반환"
   ]
  },
  {
   "cell_type": "code",
   "execution_count": 12,
   "id": "7e68e226-8257-4b1b-87f8-3e8cdda63a41",
   "metadata": {},
   "outputs": [
    {
     "data": {
      "text/plain": [
       "1"
      ]
     },
     "execution_count": 12,
     "metadata": {},
     "output_type": "execute_result"
    }
   ],
   "source": [
    "33 % 4"
   ]
  },
  {
   "cell_type": "markdown",
   "id": "04d3149b-469b-4737-bec7-6708b2dbc33d",
   "metadata": {},
   "source": [
    "# 문자열"
   ]
  },
  {
   "cell_type": "code",
   "execution_count": 14,
   "id": "8763e18a-c736-4587-9876-553366ce1859",
   "metadata": {},
   "outputs": [],
   "source": [
    "str0 = \"Life is too short, You need python\"\n",
    "str1 = \"a\"\n",
    "str2 = \"22\""
   ]
  },
  {
   "cell_type": "code",
   "execution_count": 15,
   "id": "b8b589a4-c409-4d3e-bcb9-2614f90ba4aa",
   "metadata": {},
   "outputs": [
    {
     "name": "stdout",
     "output_type": "stream",
     "text": [
      "<class 'str'>\n",
      "<class 'str'>\n",
      "<class 'str'>\n"
     ]
    }
   ],
   "source": [
    "print(type(str0))\n",
    "print(type(str1))\n",
    "print(type(str2))"
   ]
  },
  {
   "cell_type": "code",
   "execution_count": 17,
   "id": "a2476e0e-6e0c-4b2a-b1ae-df0716e8f33d",
   "metadata": {},
   "outputs": [
    {
     "name": "stdout",
     "output_type": "stream",
     "text": [
      "Life is too short\n",
      "you need python\n",
      "\n"
     ]
    }
   ],
   "source": [
    "str4 = \"\"\"Life is too short\n",
    "you need python\n",
    "\"\"\"\n",
    "print(str4)"
   ]
  },
  {
   "cell_type": "code",
   "execution_count": 18,
   "id": "d35b2883-7cf8-4612-bdcb-5b51866e37ba",
   "metadata": {},
   "outputs": [
    {
     "name": "stdout",
     "output_type": "stream",
     "text": [
      "Life is too short\n",
      "you need python\n",
      "\n"
     ]
    }
   ],
   "source": [
    "str5 = '''Life is too short\n",
    "you need python\n",
    "'''\n",
    "print(str5)"
   ]
  },
  {
   "cell_type": "code",
   "execution_count": 20,
   "id": "d3a87c71-035b-404c-b2d9-56c4afa7ddfa",
   "metadata": {},
   "outputs": [],
   "source": [
    "str6 = \"python's very\"\n",
    "str7 = '\"Quote\"'"
   ]
  },
  {
   "cell_type": "code",
   "execution_count": 21,
   "id": "64050a3d-e6a9-4653-9f0c-09cc1bfeb6e4",
   "metadata": {},
   "outputs": [
    {
     "name": "stdout",
     "output_type": "stream",
     "text": [
      "\"Quote\"\n"
     ]
    }
   ],
   "source": [
    "print(str7)"
   ]
  },
  {
   "cell_type": "code",
   "execution_count": 22,
   "id": "f527e6a1-0643-4c25-9f30-8082a3af8e1d",
   "metadata": {},
   "outputs": [
    {
     "name": "stdout",
     "output_type": "stream",
     "text": [
      "python's\n"
     ]
    }
   ],
   "source": [
    "str8 = 'python\\'s'\n",
    "print(str8)"
   ]
  },
  {
   "cell_type": "code",
   "execution_count": 24,
   "id": "04b9713a-4486-4f5e-8a7e-0c642a3c9f86",
   "metadata": {},
   "outputs": [
    {
     "data": {
      "text/plain": [
       "'python\\\\ts'"
      ]
     },
     "execution_count": 24,
     "metadata": {},
     "output_type": "execute_result"
    }
   ],
   "source": [
    "'pythons'"
   ]
  },
  {
   "cell_type": "code",
   "execution_count": 26,
   "id": "aa23794f-a805-4494-b34c-97feb850b643",
   "metadata": {},
   "outputs": [
    {
     "data": {
      "text/plain": [
       "'Life is too short, You need python22'"
      ]
     },
     "execution_count": 26,
     "metadata": {},
     "output_type": "execute_result"
    }
   ],
   "source": [
    "str0+ str2"
   ]
  },
  {
   "cell_type": "code",
   "execution_count": 27,
   "id": "d3de2b37-c964-4b9b-8c37-6839b36548fb",
   "metadata": {},
   "outputs": [
    {
     "data": {
      "text/plain": [
       "'--------------------------------------------------------------------------------'"
      ]
     },
     "execution_count": 27,
     "metadata": {},
     "output_type": "execute_result"
    }
   ],
   "source": [
    "\"-\"*80"
   ]
  },
  {
   "cell_type": "code",
   "execution_count": 29,
   "id": "e9ef61ae-d214-4741-9dd7-bf14b8cdd6f0",
   "metadata": {},
   "outputs": [
    {
     "name": "stdout",
     "output_type": "stream",
     "text": [
      "Life is too short, You need python\n"
     ]
    },
    {
     "data": {
      "text/plain": [
       "34"
      ]
     },
     "execution_count": 29,
     "metadata": {},
     "output_type": "execute_result"
    }
   ],
   "source": [
    "print(str0)\n",
    "len(str0)"
   ]
  },
  {
   "cell_type": "code",
   "execution_count": 30,
   "id": "e248960c-d317-4366-9325-595121a92e4b",
   "metadata": {},
   "outputs": [
    {
     "data": {
      "text/plain": [
       "'L'"
      ]
     },
     "execution_count": 30,
     "metadata": {},
     "output_type": "execute_result"
    }
   ],
   "source": [
    "str0[0]"
   ]
  },
  {
   "cell_type": "code",
   "execution_count": 32,
   "id": "45d50a68-10b2-43d3-95b3-93d815a0d608",
   "metadata": {},
   "outputs": [
    {
     "name": "stdout",
     "output_type": "stream",
     "text": [
      "<class 'str'>\n"
     ]
    }
   ],
   "source": [
    "print(type(str0[0]))"
   ]
  },
  {
   "cell_type": "code",
   "execution_count": 33,
   "id": "413361a8-0ade-4713-83d3-6a86688bc04d",
   "metadata": {},
   "outputs": [
    {
     "ename": "IndexError",
     "evalue": "string index out of range",
     "output_type": "error",
     "traceback": [
      "\u001b[0;31m---------------------------------------------------------------------------\u001b[0m",
      "\u001b[0;31mIndexError\u001b[0m                                Traceback (most recent call last)",
      "Cell \u001b[0;32mIn[33], line 1\u001b[0m\n\u001b[0;32m----> 1\u001b[0m \u001b[43mstr0\u001b[49m\u001b[43m[\u001b[49m\u001b[38;5;241;43m34\u001b[39;49m\u001b[43m]\u001b[49m\n",
      "\u001b[0;31mIndexError\u001b[0m: string index out of range"
     ]
    }
   ],
   "source": [
    "str0[34]"
   ]
  },
  {
   "cell_type": "code",
   "execution_count": 34,
   "id": "ade35c81-32c1-4c3f-b136-dad00147a624",
   "metadata": {},
   "outputs": [
    {
     "data": {
      "text/plain": [
       "'n'"
      ]
     },
     "execution_count": 34,
     "metadata": {},
     "output_type": "execute_result"
    }
   ],
   "source": [
    "str0[-1]"
   ]
  },
  {
   "cell_type": "code",
   "execution_count": 36,
   "id": "fdd1967a-12c0-447d-8af0-7c8ff3fc8f59",
   "metadata": {},
   "outputs": [
    {
     "data": {
      "text/plain": [
       "'L'"
      ]
     },
     "execution_count": 36,
     "metadata": {},
     "output_type": "execute_result"
    }
   ],
   "source": [
    "str0[-34]"
   ]
  },
  {
   "cell_type": "code",
   "execution_count": 37,
   "id": "b2c5b1a2-df37-4700-898a-5395f082ef07",
   "metadata": {},
   "outputs": [
    {
     "data": {
      "text/plain": [
       "'e '"
      ]
     },
     "execution_count": 37,
     "metadata": {},
     "output_type": "execute_result"
    }
   ],
   "source": [
    "str0[3:5]"
   ]
  },
  {
   "cell_type": "code",
   "execution_count": 40,
   "id": "45816086-e013-4745-b432-a9b84058630a",
   "metadata": {},
   "outputs": [
    {
     "data": {
      "text/plain": [
       "'esosr ue '"
      ]
     },
     "execution_count": 40,
     "metadata": {},
     "output_type": "execute_result"
    }
   ],
   "source": [
    "str0[3:30:3]"
   ]
  },
  {
   "cell_type": "code",
   "execution_count": null,
   "id": "efec471c-2fe3-4506-823c-a1abdbb32630",
   "metadata": {},
   "outputs": [],
   "source": []
  },
  {
   "cell_type": "code",
   "execution_count": null,
   "id": "675fac4b-b131-4974-b614-5746c281d927",
   "metadata": {},
   "outputs": [],
   "source": []
  },
  {
   "cell_type": "code",
   "execution_count": null,
   "id": "ca00f148-63e5-4d48-99a2-043073b306d7",
   "metadata": {},
   "outputs": [],
   "source": []
  },
  {
   "cell_type": "code",
   "execution_count": null,
   "id": "9f0654d9-962a-4af8-93e4-a33025db822f",
   "metadata": {},
   "outputs": [],
   "source": []
  },
  {
   "cell_type": "code",
   "execution_count": null,
   "id": "de8d9dcc-0091-4c51-ad5c-20e011dab62f",
   "metadata": {},
   "outputs": [],
   "source": []
  }
 ],
 "metadata": {
  "kernelspec": {
   "display_name": "Python 3 (ipykernel)",
   "language": "python",
   "name": "python3"
  },
  "language_info": {
   "codemirror_mode": {
    "name": "ipython",
    "version": 3
   },
   "file_extension": ".py",
   "mimetype": "text/x-python",
   "name": "python",
   "nbconvert_exporter": "python",
   "pygments_lexer": "ipython3",
   "version": "3.11.5"
  }
 },
 "nbformat": 4,
 "nbformat_minor": 5
}
