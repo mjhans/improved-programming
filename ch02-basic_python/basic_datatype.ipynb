{
 "cells": [
  {
   "cell_type": "markdown",
   "id": "afeaa869-78c7-430b-9384-73ed100f267a",
   "metadata": {},
   "source": [
    "# 숫자형"
   ]
  },
  {
   "cell_type": "code",
   "execution_count": 1,
   "id": "ab08c371-6b47-4301-8093-c126430e9f7e",
   "metadata": {},
   "outputs": [
    {
     "name": "stdout",
     "output_type": "stream",
     "text": [
      "<class 'int'>\n"
     ]
    }
   ],
   "source": [
    "a = 22\n",
    "print(type(a))"
   ]
  },
  {
   "cell_type": "code",
   "execution_count": 2,
   "id": "05a0f978-995a-4085-89de-41d164a2bd5f",
   "metadata": {},
   "outputs": [
    {
     "name": "stdout",
     "output_type": "stream",
     "text": [
      "<class 'int'>\n"
     ]
    }
   ],
   "source": [
    "print(type(0x1E))"
   ]
  },
  {
   "cell_type": "code",
   "execution_count": 3,
   "id": "53565d6e-ee56-4115-9c68-ed52c1540c35",
   "metadata": {},
   "outputs": [
    {
     "name": "stdout",
     "output_type": "stream",
     "text": [
      "<class 'float'>\n"
     ]
    }
   ],
   "source": [
    "b = 22.0\n",
    "print(type(b))"
   ]
  },
  {
   "cell_type": "code",
   "execution_count": 4,
   "id": "7450934b-f09d-4e27-a573-d4484333352a",
   "metadata": {},
   "outputs": [
    {
     "name": "stdout",
     "output_type": "stream",
     "text": [
      "<class 'str'>\n"
     ]
    }
   ],
   "source": [
    "b = \"a\"\n",
    "print(type(b))"
   ]
  },
  {
   "cell_type": "code",
   "execution_count": 5,
   "id": "a3d9055e-5ef6-4fc2-8769-c73c3e8b7cc4",
   "metadata": {},
   "outputs": [
    {
     "data": {
      "text/plain": [
       "8"
      ]
     },
     "execution_count": 5,
     "metadata": {},
     "output_type": "execute_result"
    }
   ],
   "source": [
    "2 **3"
   ]
  },
  {
   "cell_type": "code",
   "execution_count": 6,
   "id": "9d6636ee-ab8c-49d9-854e-3d0d14f07f7b",
   "metadata": {},
   "outputs": [
    {
     "data": {
      "text/plain": [
       "1"
      ]
     },
     "execution_count": 6,
     "metadata": {},
     "output_type": "execute_result"
    }
   ],
   "source": [
    "2^3"
   ]
  },
  {
   "cell_type": "code",
   "execution_count": 8,
   "id": "118dc3de-021d-4943-93ca-09d3e0b729a3",
   "metadata": {},
   "outputs": [
    {
     "data": {
      "text/plain": [
       "1.5"
      ]
     },
     "execution_count": 8,
     "metadata": {},
     "output_type": "execute_result"
    }
   ],
   "source": [
    "3 /2"
   ]
  },
  {
   "cell_type": "code",
   "execution_count": 9,
   "id": "b53374f1-2e04-409f-a67b-8b82c4a7e5cf",
   "metadata": {},
   "outputs": [
    {
     "data": {
      "text/plain": [
       "1.3333333333333333"
      ]
     },
     "execution_count": 9,
     "metadata": {},
     "output_type": "execute_result"
    }
   ],
   "source": [
    "4 / 3  # 일반 나눗셈"
   ]
  },
  {
   "cell_type": "code",
   "execution_count": 10,
   "id": "736f1bd5-c4d0-4e2a-88a7-8338929433b4",
   "metadata": {},
   "outputs": [
    {
     "data": {
      "text/plain": [
       "1"
      ]
     },
     "execution_count": 10,
     "metadata": {},
     "output_type": "execute_result"
    }
   ],
   "source": [
    "4 // 3 # 몫 반환"
   ]
  },
  {
   "cell_type": "code",
   "execution_count": 11,
   "id": "fa627e3a-c6fd-448e-b314-0d4c86aefd96",
   "metadata": {},
   "outputs": [
    {
     "data": {
      "text/plain": [
       "1"
      ]
     },
     "execution_count": 11,
     "metadata": {},
     "output_type": "execute_result"
    }
   ],
   "source": [
    "4 % 3  # 나머지를 반환"
   ]
  },
  {
   "cell_type": "code",
   "execution_count": 12,
   "id": "7e68e226-8257-4b1b-87f8-3e8cdda63a41",
   "metadata": {},
   "outputs": [
    {
     "data": {
      "text/plain": [
       "1"
      ]
     },
     "execution_count": 12,
     "metadata": {},
     "output_type": "execute_result"
    }
   ],
   "source": [
    "33 % 4"
   ]
  },
  {
   "cell_type": "markdown",
   "id": "04d3149b-469b-4737-bec7-6708b2dbc33d",
   "metadata": {},
   "source": [
    "# 문자열"
   ]
  },
  {
   "cell_type": "code",
   "execution_count": 14,
   "id": "8763e18a-c736-4587-9876-553366ce1859",
   "metadata": {},
   "outputs": [],
   "source": [
    "str0 = \"Life is too short, You need python\"\n",
    "str1 = \"a\"\n",
    "str2 = \"22\""
   ]
  },
  {
   "cell_type": "code",
   "execution_count": 15,
   "id": "b8b589a4-c409-4d3e-bcb9-2614f90ba4aa",
   "metadata": {},
   "outputs": [
    {
     "name": "stdout",
     "output_type": "stream",
     "text": [
      "<class 'str'>\n",
      "<class 'str'>\n",
      "<class 'str'>\n"
     ]
    }
   ],
   "source": [
    "print(type(str0))\n",
    "print(type(str1))\n",
    "print(type(str2))"
   ]
  },
  {
   "cell_type": "code",
   "execution_count": 17,
   "id": "a2476e0e-6e0c-4b2a-b1ae-df0716e8f33d",
   "metadata": {},
   "outputs": [
    {
     "name": "stdout",
     "output_type": "stream",
     "text": [
      "Life is too short\n",
      "you need python\n",
      "\n"
     ]
    }
   ],
   "source": [
    "str4 = \"\"\"Life is too short\n",
    "you need python\n",
    "\"\"\"\n",
    "print(str4)"
   ]
  },
  {
   "cell_type": "code",
   "execution_count": 18,
   "id": "d35b2883-7cf8-4612-bdcb-5b51866e37ba",
   "metadata": {},
   "outputs": [
    {
     "name": "stdout",
     "output_type": "stream",
     "text": [
      "Life is too short\n",
      "you need python\n",
      "\n"
     ]
    }
   ],
   "source": [
    "str5 = '''Life is too short\n",
    "you need python\n",
    "'''\n",
    "print(str5)"
   ]
  },
  {
   "cell_type": "code",
   "execution_count": 20,
   "id": "d3a87c71-035b-404c-b2d9-56c4afa7ddfa",
   "metadata": {},
   "outputs": [],
   "source": [
    "str6 = \"python's very\"\n",
    "str7 = '\"Quote\"'"
   ]
  },
  {
   "cell_type": "code",
   "execution_count": 21,
   "id": "64050a3d-e6a9-4653-9f0c-09cc1bfeb6e4",
   "metadata": {},
   "outputs": [
    {
     "name": "stdout",
     "output_type": "stream",
     "text": [
      "\"Quote\"\n"
     ]
    }
   ],
   "source": [
    "print(str7)"
   ]
  },
  {
   "cell_type": "code",
   "execution_count": 22,
   "id": "f527e6a1-0643-4c25-9f30-8082a3af8e1d",
   "metadata": {},
   "outputs": [
    {
     "name": "stdout",
     "output_type": "stream",
     "text": [
      "python's\n"
     ]
    }
   ],
   "source": [
    "str8 = 'python\\'s'\n",
    "print(str8)"
   ]
  },
  {
   "cell_type": "code",
   "execution_count": 24,
   "id": "04b9713a-4486-4f5e-8a7e-0c642a3c9f86",
   "metadata": {},
   "outputs": [
    {
     "data": {
      "text/plain": [
       "'python\\\\ts'"
      ]
     },
     "execution_count": 24,
     "metadata": {},
     "output_type": "execute_result"
    }
   ],
   "source": [
    "'pythons'"
   ]
  },
  {
   "cell_type": "code",
   "execution_count": 26,
   "id": "aa23794f-a805-4494-b34c-97feb850b643",
   "metadata": {},
   "outputs": [
    {
     "data": {
      "text/plain": [
       "'Life is too short, You need python22'"
      ]
     },
     "execution_count": 26,
     "metadata": {},
     "output_type": "execute_result"
    }
   ],
   "source": [
    "str0+ str2"
   ]
  },
  {
   "cell_type": "code",
   "execution_count": 27,
   "id": "d3de2b37-c964-4b9b-8c37-6839b36548fb",
   "metadata": {},
   "outputs": [
    {
     "data": {
      "text/plain": [
       "'--------------------------------------------------------------------------------'"
      ]
     },
     "execution_count": 27,
     "metadata": {},
     "output_type": "execute_result"
    }
   ],
   "source": [
    "\"-\"*80"
   ]
  },
  {
   "cell_type": "code",
   "execution_count": 29,
   "id": "e9ef61ae-d214-4741-9dd7-bf14b8cdd6f0",
   "metadata": {},
   "outputs": [
    {
     "name": "stdout",
     "output_type": "stream",
     "text": [
      "Life is too short, You need python\n"
     ]
    },
    {
     "data": {
      "text/plain": [
       "34"
      ]
     },
     "execution_count": 29,
     "metadata": {},
     "output_type": "execute_result"
    }
   ],
   "source": [
    "print(str0)\n",
    "len(str0)"
   ]
  },
  {
   "cell_type": "code",
   "execution_count": 30,
   "id": "e248960c-d317-4366-9325-595121a92e4b",
   "metadata": {},
   "outputs": [
    {
     "data": {
      "text/plain": [
       "'L'"
      ]
     },
     "execution_count": 30,
     "metadata": {},
     "output_type": "execute_result"
    }
   ],
   "source": [
    "str0[0]"
   ]
  },
  {
   "cell_type": "code",
   "execution_count": 32,
   "id": "45d50a68-10b2-43d3-95b3-93d815a0d608",
   "metadata": {},
   "outputs": [
    {
     "name": "stdout",
     "output_type": "stream",
     "text": [
      "<class 'str'>\n"
     ]
    }
   ],
   "source": [
    "print(type(str0[0]))"
   ]
  },
  {
   "cell_type": "code",
   "execution_count": 33,
   "id": "413361a8-0ade-4713-83d3-6a86688bc04d",
   "metadata": {},
   "outputs": [
    {
     "ename": "IndexError",
     "evalue": "string index out of range",
     "output_type": "error",
     "traceback": [
      "\u001b[0;31m---------------------------------------------------------------------------\u001b[0m",
      "\u001b[0;31mIndexError\u001b[0m                                Traceback (most recent call last)",
      "Cell \u001b[0;32mIn[33], line 1\u001b[0m\n\u001b[0;32m----> 1\u001b[0m \u001b[43mstr0\u001b[49m\u001b[43m[\u001b[49m\u001b[38;5;241;43m34\u001b[39;49m\u001b[43m]\u001b[49m\n",
      "\u001b[0;31mIndexError\u001b[0m: string index out of range"
     ]
    }
   ],
   "source": [
    "str0[34]"
   ]
  },
  {
   "cell_type": "code",
   "execution_count": 34,
   "id": "ade35c81-32c1-4c3f-b136-dad00147a624",
   "metadata": {},
   "outputs": [
    {
     "data": {
      "text/plain": [
       "'n'"
      ]
     },
     "execution_count": 34,
     "metadata": {},
     "output_type": "execute_result"
    }
   ],
   "source": [
    "str0[-1]"
   ]
  },
  {
   "cell_type": "code",
   "execution_count": 36,
   "id": "fdd1967a-12c0-447d-8af0-7c8ff3fc8f59",
   "metadata": {},
   "outputs": [
    {
     "data": {
      "text/plain": [
       "'L'"
      ]
     },
     "execution_count": 36,
     "metadata": {},
     "output_type": "execute_result"
    }
   ],
   "source": [
    "str0[-34]"
   ]
  },
  {
   "cell_type": "code",
   "execution_count": 37,
   "id": "b2c5b1a2-df37-4700-898a-5395f082ef07",
   "metadata": {},
   "outputs": [
    {
     "data": {
      "text/plain": [
       "'e '"
      ]
     },
     "execution_count": 37,
     "metadata": {},
     "output_type": "execute_result"
    }
   ],
   "source": [
    "str0[3:5]"
   ]
  },
  {
   "cell_type": "code",
   "execution_count": 40,
   "id": "45816086-e013-4745-b432-a9b84058630a",
   "metadata": {},
   "outputs": [
    {
     "data": {
      "text/plain": [
       "'esosr ue '"
      ]
     },
     "execution_count": 40,
     "metadata": {},
     "output_type": "execute_result"
    }
   ],
   "source": [
    "str0[3:30:3]"
   ]
  },
  {
   "cell_type": "markdown",
   "id": "c651db94",
   "metadata": {},
   "source": [
    "# format string"
   ]
  },
  {
   "cell_type": "code",
   "execution_count": 1,
   "id": "675fac4b-b131-4974-b614-5746c281d927",
   "metadata": {},
   "outputs": [
    {
     "data": {
      "text/plain": [
       "'I eat fruit '"
      ]
     },
     "execution_count": 1,
     "metadata": {},
     "output_type": "execute_result"
    }
   ],
   "source": [
    "\"I eat %s \" % \"fruit\""
   ]
  },
  {
   "cell_type": "code",
   "execution_count": 2,
   "id": "ca00f148-63e5-4d48-99a2-043073b306d7",
   "metadata": {},
   "outputs": [
    {
     "data": {
      "text/plain": [
       "'fruit I eat '"
      ]
     },
     "execution_count": 2,
     "metadata": {},
     "output_type": "execute_result"
    }
   ],
   "source": [
    "\"%s I eat \" % \"fruit\""
   ]
  },
  {
   "cell_type": "code",
   "execution_count": 4,
   "id": "9f0654d9-962a-4af8-93e4-a33025db822f",
   "metadata": {},
   "outputs": [
    {
     "data": {
      "text/plain": [
       "'fruit, apple I eat '"
      ]
     },
     "execution_count": 4,
     "metadata": {},
     "output_type": "execute_result"
    }
   ],
   "source": [
    "\"%s, %s I eat \" % (\"fruit\", \"apple\")"
   ]
  },
  {
   "cell_type": "code",
   "execution_count": 5,
   "id": "de8d9dcc-0091-4c51-ad5c-20e011dab62f",
   "metadata": {},
   "outputs": [
    {
     "data": {
      "text/plain": [
       "'age : 4'"
      ]
     },
     "execution_count": 5,
     "metadata": {},
     "output_type": "execute_result"
    }
   ],
   "source": [
    "\"age : %d\" % 4"
   ]
  },
  {
   "cell_type": "code",
   "execution_count": 6,
   "id": "7a054c60-af92-48ca-ba29-f065fae0cd8c",
   "metadata": {},
   "outputs": [
    {
     "data": {
      "text/plain": [
       "'age : 4'"
      ]
     },
     "execution_count": 6,
     "metadata": {},
     "output_type": "execute_result"
    }
   ],
   "source": [
    "\"age : %s\" % 4"
   ]
  },
  {
   "cell_type": "code",
   "execution_count": 8,
   "id": "ccceb8fe-2b7a-4089-9e3b-e2a57ff66d51",
   "metadata": {},
   "outputs": [
    {
     "ename": "TypeError",
     "evalue": "%d format: a real number is required, not str",
     "output_type": "error",
     "traceback": [
      "\u001b[0;31m---------------------------------------------------------------------------\u001b[0m",
      "\u001b[0;31mTypeError\u001b[0m                                 Traceback (most recent call last)",
      "Cell \u001b[0;32mIn[8], line 1\u001b[0m\n\u001b[0;32m----> 1\u001b[0m \u001b[38;5;124;43m\"\u001b[39;49m\u001b[38;5;124;43mage : \u001b[39;49m\u001b[38;5;132;43;01m%d\u001b[39;49;00m\u001b[38;5;124;43m\"\u001b[39;49m\u001b[43m \u001b[49m\u001b[38;5;241;43m%\u001b[39;49m\u001b[43m \u001b[49m\u001b[38;5;124;43m\"\u001b[39;49m\u001b[38;5;124;43m4\u001b[39;49m\u001b[38;5;124;43m\"\u001b[39;49m\n",
      "\u001b[0;31mTypeError\u001b[0m: %d format: a real number is required, not str"
     ]
    }
   ],
   "source": [
    "\"age : %d\" % \"4\""
   ]
  },
  {
   "cell_type": "code",
   "execution_count": 10,
   "id": "e94482ea-8350-432b-b030-552b25d7f4b4",
   "metadata": {},
   "outputs": [
    {
     "data": {
      "text/plain": [
       "'age : 4'"
      ]
     },
     "execution_count": 10,
     "metadata": {},
     "output_type": "execute_result"
    }
   ],
   "source": [
    "\"age : %d\" % 4.3"
   ]
  },
  {
   "cell_type": "code",
   "execution_count": 11,
   "id": "e167d401-26df-4357-b6cc-651854712d6d",
   "metadata": {},
   "outputs": [
    {
     "data": {
      "text/plain": [
       "'age : 4.300000'"
      ]
     },
     "execution_count": 11,
     "metadata": {},
     "output_type": "execute_result"
    }
   ],
   "source": [
    "\"age : %f\" % 4.3"
   ]
  },
  {
   "cell_type": "code",
   "execution_count": 14,
   "id": "fc3de472-cbde-45f0-8084-e9b9ada14492",
   "metadata": {},
   "outputs": [
    {
     "data": {
      "text/plain": [
       "'i eat 3,3, five, 2.5 apple'"
      ]
     },
     "execution_count": 14,
     "metadata": {},
     "output_type": "execute_result"
    }
   ],
   "source": [
    "\"i eat {0},{0}, {1}, {2} apple\".format(3, \"five\", 2.5)"
   ]
  },
  {
   "cell_type": "code",
   "execution_count": 16,
   "id": "e37263b1-3859-4179-9e94-e4944873b009",
   "metadata": {},
   "outputs": [
    {
     "data": {
      "text/plain": [
       "'i eat 3,3, five, alex2 apple'"
      ]
     },
     "execution_count": 16,
     "metadata": {},
     "output_type": "execute_result"
    }
   ],
   "source": [
    "name = \"alex2\"\n",
    "\"i eat {0},{0}, {1}, {2} apple\".format(3, \"five\", name)"
   ]
  },
  {
   "cell_type": "code",
   "execution_count": 20,
   "id": "2ed9ad14-3a1a-449f-aa44-c4b9034f72d7",
   "metadata": {},
   "outputs": [],
   "source": [
    "name = \"alex\"\n",
    "age = 31"
   ]
  },
  {
   "cell_type": "code",
   "execution_count": 21,
   "id": "c2cf778b-467e-4e57-b586-fcdb0fec2309",
   "metadata": {},
   "outputs": [],
   "source": [
    "str = f\"i am {name}. age : {age}\""
   ]
  },
  {
   "cell_type": "code",
   "execution_count": 22,
   "id": "de1465ca-619f-4972-a9c7-c66334dcb42a",
   "metadata": {},
   "outputs": [
    {
     "name": "stdout",
     "output_type": "stream",
     "text": [
      "i am alex. age : 31\n"
     ]
    }
   ],
   "source": [
    "print(str)"
   ]
  },
  {
   "cell_type": "code",
   "execution_count": 24,
   "id": "fc3e123a-85b9-4fd0-ae28-7996851078b7",
   "metadata": {},
   "outputs": [],
   "source": [
    "def makeString():\n",
    "    return \"string01\""
   ]
  },
  {
   "cell_type": "code",
   "execution_count": 25,
   "id": "b1ab8190-e27f-4d52-b082-a2cca21ba393",
   "metadata": {},
   "outputs": [
    {
     "name": "stdout",
     "output_type": "stream",
     "text": [
      "string01\n"
     ]
    }
   ],
   "source": [
    "print(f\"{makeString()}\")"
   ]
  },
  {
   "cell_type": "markdown",
   "id": "dc69e766",
   "metadata": {},
   "source": [
    "# 문자열 함수"
   ]
  },
  {
   "cell_type": "code",
   "execution_count": 26,
   "id": "c7cfc839-b63c-4738-9e44-cf0d8f073c5a",
   "metadata": {},
   "outputs": [
    {
     "data": {
      "text/plain": [
       "'s,t,r,i,n,g,0,1'"
      ]
     },
     "execution_count": 26,
     "metadata": {},
     "output_type": "execute_result"
    }
   ],
   "source": [
    "\",\".join(f\"{makeString()}\")"
   ]
  },
  {
   "cell_type": "code",
   "execution_count": 29,
   "id": "0daf884f-2555-4574-a8da-ddcfb68908eb",
   "metadata": {},
   "outputs": [],
   "source": [
    "sample = \"Life is too short\""
   ]
  },
  {
   "cell_type": "code",
   "execution_count": 30,
   "id": "79c15c91-d308-441a-9f91-ecf12818aad6",
   "metadata": {},
   "outputs": [
    {
     "data": {
      "text/plain": [
       "'t'"
      ]
     },
     "execution_count": 30,
     "metadata": {},
     "output_type": "execute_result"
    }
   ],
   "source": [
    "sample[sample.find(\"t\")]"
   ]
  },
  {
   "cell_type": "code",
   "execution_count": 31,
   "id": "3fc4f737-ccf0-4735-87fe-423b747a98a2",
   "metadata": {},
   "outputs": [
    {
     "data": {
      "text/plain": [
       "'LIFE IS TOO SHORT'"
      ]
     },
     "execution_count": 31,
     "metadata": {},
     "output_type": "execute_result"
    }
   ],
   "source": [
    "sample.upper()"
   ]
  },
  {
   "cell_type": "code",
   "execution_count": 32,
   "id": "cde173b4-40dd-43ac-8c3b-9d1eb4efaebf",
   "metadata": {},
   "outputs": [
    {
     "data": {
      "text/plain": [
       "'life is too short'"
      ]
     },
     "execution_count": 32,
     "metadata": {},
     "output_type": "execute_result"
    }
   ],
   "source": [
    "sample.lower()"
   ]
  },
  {
   "cell_type": "code",
   "execution_count": 33,
   "id": "41785eec-3ef2-48c8-bbca-d5751dd7b9f6",
   "metadata": {},
   "outputs": [],
   "source": [
    "sample = \",\".join(f\"{makeString()}\")"
   ]
  },
  {
   "cell_type": "code",
   "execution_count": 34,
   "id": "0eaa3e20-70ff-4596-8575-f0f2a1396f3f",
   "metadata": {},
   "outputs": [
    {
     "name": "stdout",
     "output_type": "stream",
     "text": [
      "s,t,r,i,n,g,0,1\n"
     ]
    }
   ],
   "source": [
    "print(sample)"
   ]
  },
  {
   "cell_type": "code",
   "execution_count": 35,
   "id": "0c5f4ebe-fdb1-42ad-b59c-983b61287959",
   "metadata": {},
   "outputs": [
    {
     "data": {
      "text/plain": [
       "['s', 't', 'r', 'i', 'n', 'g', '0', '1']"
      ]
     },
     "execution_count": 35,
     "metadata": {},
     "output_type": "execute_result"
    }
   ],
   "source": [
    "sample.split(\",\")"
   ]
  },
  {
   "cell_type": "code",
   "execution_count": 36,
   "id": "d7c1b38b-8f8e-4220-92ed-a8f02118ae7e",
   "metadata": {},
   "outputs": [],
   "source": [
    "a = [1,2,3,4,5]"
   ]
  },
  {
   "cell_type": "code",
   "execution_count": 38,
   "id": "393e7f51-ad02-43cc-836d-26d4d1def7cb",
   "metadata": {},
   "outputs": [
    {
     "data": {
      "text/plain": [
       "4"
      ]
     },
     "execution_count": 38,
     "metadata": {},
     "output_type": "execute_result"
    }
   ],
   "source": [
    "a[3]"
   ]
  },
  {
   "cell_type": "code",
   "execution_count": 39,
   "id": "cc3e41c8-fda4-4839-a06a-0df2d716a64a",
   "metadata": {},
   "outputs": [],
   "source": [
    "a = [1,2,3,\"four\",\"five\", [\"a\", 3]]"
   ]
  },
  {
   "cell_type": "code",
   "execution_count": 44,
   "id": "d59659c5-55cb-41eb-91e4-312c7be38cd5",
   "metadata": {},
   "outputs": [
    {
     "ename": "TypeError",
     "evalue": "unsupported operand type(s) for +: 'int' and 'str'",
     "output_type": "error",
     "traceback": [
      "\u001b[0;31m---------------------------------------------------------------------------\u001b[0m",
      "\u001b[0;31mTypeError\u001b[0m                                 Traceback (most recent call last)",
      "Cell \u001b[0;32mIn[44], line 1\u001b[0m\n\u001b[0;32m----> 1\u001b[0m \u001b[43ma\u001b[49m\u001b[43m[\u001b[49m\u001b[38;5;241;43m0\u001b[39;49m\u001b[43m]\u001b[49m\u001b[38;5;241;43m+\u001b[39;49m\u001b[43m \u001b[49m\u001b[43ma\u001b[49m\u001b[43m[\u001b[49m\u001b[38;5;241;43m2\u001b[39;49m\u001b[43m]\u001b[49m\u001b[43m \u001b[49m\u001b[38;5;241;43m+\u001b[39;49m\u001b[43m \u001b[49m\u001b[43ma\u001b[49m\u001b[43m[\u001b[49m\u001b[38;5;241;43m3\u001b[39;49m\u001b[43m]\u001b[49m\n",
      "\u001b[0;31mTypeError\u001b[0m: unsupported operand type(s) for +: 'int' and 'str'"
     ]
    }
   ],
   "source": [
    "a[0]+ a[2] + a[3]"
   ]
  },
  {
   "cell_type": "code",
   "execution_count": 49,
   "id": "9ce243ae-6ba8-46ce-b195-f4547047798d",
   "metadata": {},
   "outputs": [
    {
     "name": "stdout",
     "output_type": "stream",
     "text": [
      "a[5] = ['a', 3],\n",
      "<class 'list'>\n",
      "\n"
     ]
    }
   ],
   "source": [
    "print(f\"\"\"{a[5] = },\n",
    "{type(a[5])}\n",
    "\"\"\")"
   ]
  },
  {
   "cell_type": "code",
   "execution_count": 52,
   "id": "db491248-4326-4a9c-bd05-dc6ece1773a4",
   "metadata": {},
   "outputs": [
    {
     "name": "stdout",
     "output_type": "stream",
     "text": [
      "a[3:4]= ['four'],\n",
      "<class 'list'>\n",
      "\n"
     ]
    }
   ],
   "source": [
    "print(f\"\"\"{a[3:4]= },\n",
    "{type(a[3:4])}\n",
    "\"\"\")"
   ]
  },
  {
   "cell_type": "code",
   "execution_count": 53,
   "id": "1c2f0c3c-b8b6-405d-a9e6-7b913530668c",
   "metadata": {},
   "outputs": [
    {
     "data": {
      "text/plain": [
       "['four', 'five', ['a', 3]]"
      ]
     },
     "execution_count": 53,
     "metadata": {},
     "output_type": "execute_result"
    }
   ],
   "source": [
    "a[3:]"
   ]
  },
  {
   "cell_type": "code",
   "execution_count": 55,
   "id": "78d115fd-4a02-4509-9e1c-118fbcf29039",
   "metadata": {},
   "outputs": [
    {
     "data": {
      "text/plain": [
       "[2, 'four', ['a', 3]]"
      ]
     },
     "execution_count": 55,
     "metadata": {},
     "output_type": "execute_result"
    }
   ],
   "source": [
    "a = [1,2,3,\"four\",\"five\", [\"a\", 3]]\n",
    "a[1::2]"
   ]
  },
  {
   "cell_type": "code",
   "execution_count": 56,
   "id": "2c8863cc-db38-4eed-b6aa-f25fca1c994b",
   "metadata": {},
   "outputs": [],
   "source": [
    "a = [1,2,3,\"four\",\"five\", [\"a\", 3]]\n",
    "b = [100,2000,3000,4000]"
   ]
  },
  {
   "cell_type": "code",
   "execution_count": 57,
   "id": "3353411d-ff8f-4945-b6ae-18948c04f208",
   "metadata": {},
   "outputs": [
    {
     "data": {
      "text/plain": [
       "[1, 2, 3, 'four', 'five', ['a', 3], 100, 2000, 3000, 4000]"
      ]
     },
     "execution_count": 57,
     "metadata": {},
     "output_type": "execute_result"
    }
   ],
   "source": [
    "a+b"
   ]
  },
  {
   "cell_type": "code",
   "execution_count": 59,
   "id": "9939aa01-805b-4b8d-88fb-2e62b06e7dca",
   "metadata": {},
   "outputs": [
    {
     "data": {
      "text/plain": [
       "[1,\n",
       " 2,\n",
       " 3,\n",
       " 'four',\n",
       " 'five',\n",
       " ['a', 3],\n",
       " 1,\n",
       " 2,\n",
       " 3,\n",
       " 'four',\n",
       " 'five',\n",
       " ['a', 3],\n",
       " 1,\n",
       " 2,\n",
       " 3,\n",
       " 'four',\n",
       " 'five',\n",
       " ['a', 3]]"
      ]
     },
     "execution_count": 59,
     "metadata": {},
     "output_type": "execute_result"
    }
   ],
   "source": [
    "a * 3 # == a + a + a"
   ]
  },
  {
   "cell_type": "code",
   "execution_count": 60,
   "id": "db911cc6-aedd-4deb-86cc-f871eb986526",
   "metadata": {},
   "outputs": [
    {
     "data": {
      "text/plain": [
       "6"
      ]
     },
     "execution_count": 60,
     "metadata": {},
     "output_type": "execute_result"
    }
   ],
   "source": [
    "len(a)"
   ]
  },
  {
   "cell_type": "code",
   "execution_count": null,
   "id": "dabd22db",
   "metadata": {},
   "outputs": [],
   "source": [
    "a = [1,2,3,4,5]"
   ]
  },
  {
   "cell_type": "code",
   "execution_count": null,
   "id": "d3253d8a",
   "metadata": {},
   "outputs": [
    {
     "data": {
      "text/plain": [
       "4"
      ]
     },
     "metadata": {},
     "output_type": "display_data"
    }
   ],
   "source": [
    "a[3]"
   ]
  },
  {
   "cell_type": "code",
   "execution_count": null,
   "id": "db19237f",
   "metadata": {},
   "outputs": [],
   "source": [
    "a = [1,2,3,\"four\",\"five\", [\"a\", 3]]"
   ]
  },
  {
   "cell_type": "code",
   "execution_count": null,
   "id": "33be2e13",
   "metadata": {},
   "outputs": [
    {
     "ename": "TypeError",
     "evalue": "unsupported operand type(s) for +: 'int' and 'str'",
     "output_type": "error",
     "traceback": [
      "\u001b[0;31m---------------------------------------------------------------------------\u001b[0m\n",
      "\u001b[0;31mTypeError\u001b[0m                                 Traceback (most recent call last)\n",
      "Cell \u001b[0;32mIn[44], line 1\u001b[0m\n",
      "\u001b[0;32m----> 1\u001b[0m \u001b[43ma\u001b[49m\u001b[43m[\u001b[49m\u001b[38;5;241;43m0\u001b[39;49m\u001b[43m]\u001b[49m\u001b[38;5;241;43m+\u001b[39;49m\u001b[43m \u001b[49m\u001b[43ma\u001b[49m\u001b[43m[\u001b[49m\u001b[38;5;241;43m2\u001b[39;49m\u001b[43m]\u001b[49m\u001b[43m \u001b[49m\u001b[38;5;241;43m+\u001b[39;49m\u001b[43m \u001b[49m\u001b[43ma\u001b[49m\u001b[43m[\u001b[49m\u001b[38;5;241;43m3\u001b[39;49m\u001b[43m]\u001b[49m\n",
      "\n",
      "\u001b[0;31mTypeError\u001b[0m: unsupported operand type(s) for +: 'int' and 'str'"
     ]
    }
   ],
   "source": [
    "a[0]+ a[2] + a[3]"
   ]
  },
  {
   "cell_type": "code",
   "execution_count": null,
   "id": "0ca5490a",
   "metadata": {},
   "outputs": [
    {
     "name": "stdout",
     "output_type": "stream",
     "text": [
      "a[5] = ['a', 3],\n",
      "<class 'list'>\n",
      "\n"
     ]
    }
   ],
   "source": [
    "print(f\"\"\"{a[5] = },\n",
    "{type(a[5])}\n",
    "\"\"\")"
   ]
  },
  {
   "cell_type": "code",
   "execution_count": null,
   "id": "1e6a836a",
   "metadata": {},
   "outputs": [
    {
     "name": "stdout",
     "output_type": "stream",
     "text": [
      "a[3:4]= ['four'],\n",
      "<class 'list'>\n",
      "\n"
     ]
    }
   ],
   "source": [
    "print(f\"\"\"{a[3:4]= },\n",
    "{type(a[3:4])}\n",
    "\"\"\")"
   ]
  },
  {
   "cell_type": "code",
   "execution_count": null,
   "id": "128a533a",
   "metadata": {},
   "outputs": [
    {
     "data": {
      "text/plain": [
       "['four', 'five', ['a', 3]]"
      ]
     },
     "metadata": {},
     "output_type": "display_data"
    }
   ],
   "source": [
    "a[3:]"
   ]
  },
  {
   "cell_type": "code",
   "execution_count": null,
   "id": "cbb1c4c7",
   "metadata": {},
   "outputs": [
    {
     "data": {
      "text/plain": [
       "[2, 'four', ['a', 3]]"
      ]
     },
     "metadata": {},
     "output_type": "display_data"
    }
   ],
   "source": [
    "a = [1,2,3,\"four\",\"five\", [\"a\", 3]]\n",
    "a[1::2]"
   ]
  },
  {
   "cell_type": "code",
   "execution_count": null,
   "id": "19bb0351",
   "metadata": {},
   "outputs": [],
   "source": [
    "a = [1,2,3,\"four\",\"five\", [\"a\", 3]]\n",
    "b = [100,2000,3000,4000]"
   ]
  },
  {
   "cell_type": "code",
   "execution_count": null,
   "id": "33dc6bf3",
   "metadata": {},
   "outputs": [
    {
     "data": {
      "text/plain": [
       "[1, 2, 3, 'four', 'five', ['a', 3], 100, 2000, 3000, 4000]"
      ]
     },
     "metadata": {},
     "output_type": "display_data"
    }
   ],
   "source": [
    "a+b"
   ]
  },
  {
   "cell_type": "code",
   "execution_count": null,
   "id": "8e43bbec",
   "metadata": {},
   "outputs": [
    {
     "data": {
      "text/plain": [
       "[1,\n",
       " 2,\n",
       " 3,\n",
       " 'four',\n",
       " 'five',\n",
       " ['a', 3],\n",
       " 1,\n",
       " 2,\n",
       " 3,\n",
       " 'four',\n",
       " 'five',\n",
       " ['a', 3],\n",
       " 1,\n",
       " 2,\n",
       " 3,\n",
       " 'four',\n",
       " 'five',\n",
       " ['a', 3]]"
      ]
     },
     "metadata": {},
     "output_type": "display_data"
    }
   ],
   "source": [
    "a * 3 # == a + a + a"
   ]
  },
  {
   "cell_type": "code",
   "execution_count": null,
   "id": "31cc9893",
   "metadata": {},
   "outputs": [
    {
     "data": {
      "text/plain": [
       "6"
      ]
     },
     "metadata": {},
     "output_type": "display_data"
    }
   ],
   "source": [
    "len(a)"
   ]
  },
  {
   "cell_type": "code",
   "execution_count": 61,
   "id": "ef713ce4-cc78-4be8-8939-7ae9288caba2",
   "metadata": {},
   "outputs": [],
   "source": [
    "sample = \"Life is too short\""
   ]
  },
  {
   "cell_type": "code",
   "execution_count": 64,
   "id": "b0d8e538-4feb-4e3f-bb8a-f6da73f7cfea",
   "metadata": {},
   "outputs": [
    {
     "data": {
      "text/plain": [
       "17"
      ]
     },
     "execution_count": 64,
     "metadata": {},
     "output_type": "execute_result"
    }
   ],
   "source": [
    "len(sample)"
   ]
  },
  {
   "cell_type": "code",
   "execution_count": 65,
   "id": "fa4a489c-4d51-4f6a-a05a-41cd4df6c5c4",
   "metadata": {},
   "outputs": [
    {
     "data": {
      "text/plain": [
       "6"
      ]
     },
     "execution_count": 65,
     "metadata": {},
     "output_type": "execute_result"
    }
   ],
   "source": [
    "len(a)"
   ]
  },
  {
   "cell_type": "code",
   "execution_count": 66,
   "id": "4066efbc-fea6-43f2-b38a-57265a018264",
   "metadata": {},
   "outputs": [
    {
     "data": {
      "text/plain": [
       "'five'"
      ]
     },
     "execution_count": 66,
     "metadata": {},
     "output_type": "execute_result"
    }
   ],
   "source": [
    "a[4]"
   ]
  },
  {
   "cell_type": "code",
   "execution_count": 67,
   "id": "972d5f94-504a-4ebb-aaf8-2564922863c3",
   "metadata": {},
   "outputs": [],
   "source": [
    "a[4] = \"six\""
   ]
  },
  {
   "cell_type": "code",
   "execution_count": 68,
   "id": "01269fc9-0d6f-4720-922d-ffc59e8b3690",
   "metadata": {},
   "outputs": [
    {
     "data": {
      "text/plain": [
       "[1, 2, 3, 'four', 'six', ['a', 3]]"
      ]
     },
     "execution_count": 68,
     "metadata": {},
     "output_type": "execute_result"
    }
   ],
   "source": [
    "a"
   ]
  },
  {
   "cell_type": "code",
   "execution_count": 69,
   "id": "ba3a21aa-8ad4-4bb1-abde-8da21e3fea63",
   "metadata": {},
   "outputs": [],
   "source": [
    "del a[4]"
   ]
  },
  {
   "cell_type": "code",
   "execution_count": 70,
   "id": "22b0ffe3-67c8-44a0-8c99-9afb8a72ee77",
   "metadata": {},
   "outputs": [
    {
     "data": {
      "text/plain": [
       "[1, 2, 3, 'four', ['a', 3]]"
      ]
     },
     "execution_count": 70,
     "metadata": {},
     "output_type": "execute_result"
    }
   ],
   "source": [
    "a"
   ]
  },
  {
   "cell_type": "code",
   "execution_count": 71,
   "id": "fec71ec3-e55e-4a5a-9e35-c32ef1412279",
   "metadata": {},
   "outputs": [
    {
     "name": "stdout",
     "output_type": "stream",
     "text": [
      "s,t,r,i,n,g,0,1\n"
     ]
    }
   ],
   "source": [
    "print(\",\".join(f\"{makeString()}\"))"
   ]
  },
  {
   "cell_type": "code",
   "execution_count": null,
   "id": "dfee7256-2d1a-40d9-adf5-8a84bb1b8b3a",
   "metadata": {},
   "outputs": [],
   "source": []
  },
  {
   "cell_type": "code",
   "execution_count": null,
   "id": "3744f972-922e-4147-8f3d-784a1e49859e",
   "metadata": {},
   "outputs": [],
   "source": []
  },
  {
   "cell_type": "code",
   "execution_count": null,
   "id": "b67bcc12-a444-4a21-8a1d-db372fb10ab1",
   "metadata": {},
   "outputs": [],
   "source": []
  },
  {
   "cell_type": "code",
   "execution_count": null,
   "id": "38a4e9c1-e771-4b9b-9c47-4f8e3d10a64b",
   "metadata": {},
   "outputs": [],
   "source": []
  },
  {
   "cell_type": "code",
   "execution_count": null,
   "id": "87b6f3d1-97cf-4be9-89a0-963ad909e5ce",
   "metadata": {},
   "outputs": [],
   "source": []
  },
  {
   "cell_type": "code",
   "execution_count": null,
   "id": "d38ad3b7-d5d7-46cd-bf51-625a08e83939",
   "metadata": {},
   "outputs": [],
   "source": []
  },
  {
   "cell_type": "code",
   "execution_count": null,
   "id": "90769875-e3eb-41d7-8ce0-5729a5b541d0",
   "metadata": {},
   "outputs": [],
   "source": []
  }
 ],
 "metadata": {
  "kernelspec": {
   "display_name": "Python 3 (ipykernel)",
   "language": "python",
   "name": "python3"
  },
  "language_info": {
   "codemirror_mode": {
    "name": "ipython",
    "version": 3
   },
   "file_extension": ".py",
   "mimetype": "text/x-python",
   "name": "python",
   "nbconvert_exporter": "python",
   "pygments_lexer": "ipython3",
   "version": "3.11.5"
  }
 },
 "nbformat": 4,
 "nbformat_minor": 5
}
