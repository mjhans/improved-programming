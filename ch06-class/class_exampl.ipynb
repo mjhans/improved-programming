{
 "cells": [
  {
   "cell_type": "markdown",
   "metadata": {},
   "source": [
    "## 심플 클래스"
   ]
  },
  {
   "cell_type": "code",
   "execution_count": null,
   "metadata": {},
   "outputs": [],
   "source": [
    "# class 생성하기\n",
    "class Cookie:\n",
    "    pass\n",
    "\n",
    "# class에서 객체 만들기\n",
    "simple_cookie_1 = Cookie()\n",
    "simple_cookie_2 = Cookie()"
   ]
  },
  {
   "cell_type": "code",
   "execution_count": null,
   "metadata": {},
   "outputs": [],
   "source": [
    "simple_cookie_1"
   ]
  },
  {
   "cell_type": "code",
   "execution_count": null,
   "metadata": {},
   "outputs": [],
   "source": [
    "simple_cookie_2"
   ]
  },
  {
   "cell_type": "markdown",
   "metadata": {},
   "source": [
    "## 클래스 만들어보기"
   ]
  },
  {
   "cell_type": "code",
   "execution_count": null,
   "metadata": {},
   "outputs": [],
   "source": [
    "# 사칙연산 클래스 만들기\n",
    "# 필요한 행위 \n",
    "#   사칙연산 : add, substract, multiply, divide\n",
    "#   두개의숫자 입력 받기 : set_data\n",
    "class FourCalc: #FourCalc\n",
    "    pass\n",
    "\n",
    "test_object = FourCalc()\n",
    "type(test_object)"
   ]
  },
  {
   "cell_type": "markdown",
   "metadata": {},
   "source": [
    "### set_data와 스페셜 메서드 구현"
   ]
  },
  {
   "cell_type": "code",
   "execution_count": null,
   "metadata": {},
   "outputs": [],
   "source": [
    "# set_data구현\n",
    "\n",
    "class FourCalc: #FourCalc\n",
    "    def set_data(self, first, second):\n",
    "        self.first = first\n",
    "        self.second = second\n",
    "    \n",
    "    def __repr__(self): # 스페셜 메서드, 객체를 출력하면 나오는 문자열 정의 가능\n",
    "        return f\"first : {self.first}, second : {self.second}\""
   ]
  },
  {
   "cell_type": "code",
   "execution_count": null,
   "metadata": {},
   "outputs": [],
   "source": [
    "test_object = FourCalc()\n",
    "test_object.set_data(3, 4)\n",
    "print(test_object)"
   ]
  },
  {
   "cell_type": "code",
   "execution_count": null,
   "metadata": {},
   "outputs": [],
   "source": [
    "print(f\"{test_object.first = }, {test_object.second = }\")"
   ]
  },
  {
   "cell_type": "code",
   "execution_count": null,
   "metadata": {},
   "outputs": [],
   "source": [
    "test_object_new = FourCalc()\n",
    "test_object_new.set_data(100, 200)\n",
    "print(test_object_new)\n"
   ]
  },
  {
   "cell_type": "code",
   "execution_count": null,
   "metadata": {},
   "outputs": [],
   "source": [
    "# 상태의 변화\n",
    "test_object_new.first = 5\n",
    "print(test_object_new)"
   ]
  },
  {
   "cell_type": "markdown",
   "metadata": {},
   "source": [
    "### add method 구현"
   ]
  },
  {
   "cell_type": "code",
   "execution_count": null,
   "metadata": {},
   "outputs": [],
   "source": [
    "class FourCalc: #FourCalc\n",
    "    def set_data(self, first, second):\n",
    "        self.first = first\n",
    "        self.second = second\n",
    "    \n",
    "    def add(self):\n",
    "        return self.first + self.second\n",
    "    \n",
    "    def __repr__(self): # 스페셜 메서드, 객체를 출력하면 나오는 문자열 정의 가능\n",
    "        return f\"first : {self.first}, second : {self.second}, append add\""
   ]
  },
  {
   "cell_type": "code",
   "execution_count": null,
   "metadata": {},
   "outputs": [],
   "source": [
    "print (test_object.add()) # 같은 이름의 클래스라고 해도 객체에는 영향을 미치지 않는다."
   ]
  },
  {
   "cell_type": "code",
   "execution_count": null,
   "metadata": {},
   "outputs": [],
   "source": [
    "four_calc_obj = FourCalc()\n",
    "four_calc_obj.set_data(104, 5000)\n",
    "print(four_calc_obj)"
   ]
  },
  {
   "cell_type": "code",
   "execution_count": null,
   "metadata": {},
   "outputs": [],
   "source": [
    "four_calc_obj.add()"
   ]
  },
  {
   "cell_type": "markdown",
   "metadata": {},
   "source": [
    "### 생성자로 클래스 생성시 값 입력하기"
   ]
  },
  {
   "cell_type": "code",
   "execution_count": null,
   "metadata": {},
   "outputs": [],
   "source": [
    "class FourCalc: #FourCalc\n",
    "\n",
    "    def __init__(self, first, second): # 스페셜 메서드 생성자 역할\n",
    "        self.first = first\n",
    "        self.second = second\n",
    "    \n",
    "    def set_data(self, first, second):\n",
    "        self.first = first\n",
    "        self.second = second\n",
    "    \n",
    "    def add(self):\n",
    "        return self.first + self.second\n",
    "    \n",
    "    def __repr__(self): # 스페셜 메서드, 객체를 출력하면 나오는 문자열 정의 가능\n",
    "        return f\"first : {self.first}, second : {self.second}\""
   ]
  },
  {
   "cell_type": "code",
   "execution_count": null,
   "metadata": {},
   "outputs": [],
   "source": [
    "four_calc_obj = FourCalc()  # 생성자를 구현했는데 값을 안써주면 에러\n",
    "four_calc_obj.set_data(104, 5000)\n",
    "print(four_calc_obj)"
   ]
  },
  {
   "cell_type": "code",
   "execution_count": null,
   "metadata": {},
   "outputs": [],
   "source": [
    "four_calc_obj = FourCalc(2, 4)  # 생성자를 구현했는데 값을 안써주면 에러\n",
    "four_calc_obj.set_data(4104, 5000) # 값을 덮어쓴다\n",
    "print(four_calc_obj)"
   ]
  }
 ],
 "metadata": {
  "kernelspec": {
   "display_name": "python-class",
   "language": "python",
   "name": "python3"
  },
  "language_info": {
   "codemirror_mode": {
    "name": "ipython",
    "version": 3
   },
   "file_extension": ".py",
   "mimetype": "text/x-python",
   "name": "python",
   "nbconvert_exporter": "python",
   "pygments_lexer": "ipython3",
   "version": "3.11.5"
  }
 },
 "nbformat": 4,
 "nbformat_minor": 2
}
