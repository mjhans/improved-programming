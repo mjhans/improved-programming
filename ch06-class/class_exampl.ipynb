{
 "cells": [
  {
   "cell_type": "markdown",
   "metadata": {},
   "source": [
    "## 심플 클래스"
   ]
  },
  {
   "cell_type": "code",
   "execution_count": 1,
   "metadata": {},
   "outputs": [],
   "source": [
    "# class 생성하기\n",
    "class Cookie:\n",
    "    pass\n",
    "\n",
    "# class에서 객체 만들기\n",
    "simple_cookie_1 = Cookie()\n",
    "simple_cookie_2 = Cookie()"
   ]
  },
  {
   "cell_type": "code",
   "execution_count": 4,
   "metadata": {},
   "outputs": [
    {
     "name": "stdout",
     "output_type": "stream",
     "text": [
      "<class '__main__.Cookie'>\n"
     ]
    }
   ],
   "source": [
    "print(type(simple_cookie_1))"
   ]
  },
  {
   "cell_type": "code",
   "execution_count": 6,
   "metadata": {},
   "outputs": [
    {
     "name": "stdout",
     "output_type": "stream",
     "text": [
      "140108762510608\n"
     ]
    }
   ],
   "source": [
    "print(id(simple_cookie_2))"
   ]
  },
  {
   "cell_type": "code",
   "execution_count": 7,
   "metadata": {},
   "outputs": [
    {
     "name": "stdout",
     "output_type": "stream",
     "text": [
      "140108762583184\n"
     ]
    }
   ],
   "source": [
    "print(id(simple_cookie_1))"
   ]
  },
  {
   "cell_type": "markdown",
   "metadata": {},
   "source": [
    "## 클래스 만들어보기"
   ]
  },
  {
   "cell_type": "code",
   "execution_count": 10,
   "metadata": {},
   "outputs": [
    {
     "data": {
      "text/plain": [
       "__main__.FourCalc"
      ]
     },
     "execution_count": 10,
     "metadata": {},
     "output_type": "execute_result"
    }
   ],
   "source": [
    "# 사칙연산 클래스 만들기\n",
    "# 필요한 행위 \n",
    "#   사칙연산 : add, substract, multiply, divide\n",
    "#   두개의숫자 입력 받기 : set_data\n",
    "class FourCalc: #FourCalc\n",
    "    pass\n",
    "\n",
    "test_object = FourCalc()\n",
    "type(test_object)"
   ]
  },
  {
   "cell_type": "markdown",
   "metadata": {},
   "source": [
    "### set_data와 스페셜 메서드 구현"
   ]
  },
  {
   "cell_type": "code",
   "execution_count": 17,
   "metadata": {},
   "outputs": [],
   "source": [
    "# set_data구현\n",
    "\n",
    "class FourCalc(): #FourCalc\n",
    "    first = 0\n",
    "    second = 0\n",
    "    \n",
    "    def set_data(self, first, second):\n",
    "        self.first = first\n",
    "        self.second = second\n",
    "    \n",
    "    def __repr__(self): # 스페셜 메서드, 객체를 출력하면 나오는 문자열 정의 가능\n",
    "        return f\"first : {self.first}, second : {self.second}\""
   ]
  },
  {
   "cell_type": "code",
   "execution_count": 18,
   "metadata": {},
   "outputs": [
    {
     "name": "stdout",
     "output_type": "stream",
     "text": [
      "first : 3, second : 4\n"
     ]
    }
   ],
   "source": [
    "test_object = FourCalc()\n",
    "test_object.set_data(3, 4)\n",
    "print(test_object)"
   ]
  },
  {
   "cell_type": "code",
   "execution_count": 19,
   "metadata": {},
   "outputs": [
    {
     "name": "stdout",
     "output_type": "stream",
     "text": [
      "test_object.first = 3, test_object.second = 4\n"
     ]
    }
   ],
   "source": [
    "print(f\"{test_object.first = }, {test_object.second = }\")"
   ]
  },
  {
   "cell_type": "code",
   "execution_count": 20,
   "metadata": {},
   "outputs": [
    {
     "name": "stdout",
     "output_type": "stream",
     "text": [
      "first : 100, second : 200\n"
     ]
    }
   ],
   "source": [
    "test_object_new = FourCalc()\n",
    "test_object_new.set_data(100, 200)\n",
    "print(test_object_new)\n"
   ]
  },
  {
   "cell_type": "code",
   "execution_count": 21,
   "metadata": {},
   "outputs": [
    {
     "name": "stdout",
     "output_type": "stream",
     "text": [
      "first : 5, second : 200\n"
     ]
    }
   ],
   "source": [
    "# 상태의 변화\n",
    "test_object_new.first = 5\n",
    "print(test_object_new)"
   ]
  },
  {
   "cell_type": "markdown",
   "metadata": {},
   "source": [
    "### add method 구현"
   ]
  },
  {
   "cell_type": "code",
   "execution_count": 35,
   "metadata": {},
   "outputs": [],
   "source": [
    "class FourCalc: #FourCalc\n",
    "    first = 0\n",
    "    second = 0\n",
    "    \n",
    "    def set_data(self, first, second):\n",
    "        self.first = first\n",
    "        self.second = second\n",
    "    \n",
    "    def add(self):\n",
    "        return self.first + self.second\n",
    "    \n",
    "    def __repr__(self): # 스페셜 메서드, 객체를 출력하면 나오는 문자열 정의 가능\n",
    "        return f\"first : {self.first}, second : {self.second}, append add\""
   ]
  },
  {
   "cell_type": "code",
   "execution_count": 36,
   "metadata": {},
   "outputs": [
    {
     "ename": "AttributeError",
     "evalue": "'FourCalc' object has no attribute 'add'",
     "output_type": "error",
     "traceback": [
      "\u001b[0;31m---------------------------------------------------------------------------\u001b[0m",
      "\u001b[0;31mAttributeError\u001b[0m                            Traceback (most recent call last)",
      "Cell \u001b[0;32mIn[36], line 1\u001b[0m\n\u001b[0;32m----> 1\u001b[0m \u001b[38;5;28mprint\u001b[39m (\u001b[43mtest_object\u001b[49m\u001b[38;5;241;43m.\u001b[39;49m\u001b[43madd\u001b[49m()) \u001b[38;5;66;03m# 같은 이름의 클래스라고 해도 객체에는 영향을 미치지 않는다.\u001b[39;00m\n",
      "\u001b[0;31mAttributeError\u001b[0m: 'FourCalc' object has no attribute 'add'"
     ]
    }
   ],
   "source": [
    "print (test_object.add()) # 같은 이름의 클래스라고 해도 객체에는 영향을 미치지 않는다."
   ]
  },
  {
   "cell_type": "code",
   "execution_count": 37,
   "metadata": {},
   "outputs": [
    {
     "name": "stdout",
     "output_type": "stream",
     "text": [
      "first : 104, second : 5000, append add\n"
     ]
    }
   ],
   "source": [
    "four_calc_obj = FourCalc()\n",
    "four_calc_obj.set_data(104, 5000)\n",
    "print(four_calc_obj)"
   ]
  },
  {
   "cell_type": "code",
   "execution_count": 38,
   "metadata": {},
   "outputs": [
    {
     "data": {
      "text/plain": [
       "5104"
      ]
     },
     "execution_count": 38,
     "metadata": {},
     "output_type": "execute_result"
    }
   ],
   "source": [
    "four_calc_obj.add()"
   ]
  },
  {
   "cell_type": "markdown",
   "metadata": {},
   "source": [
    "### sub method"
   ]
  },
  {
   "cell_type": "code",
   "execution_count": 39,
   "metadata": {},
   "outputs": [],
   "source": [
    "class FourCalc: #FourCalc\n",
    "    first = 0\n",
    "    second = 0\n",
    "    \n",
    "    def set_data(self, first, second):\n",
    "        self.first = first\n",
    "        self.second = second\n",
    "    \n",
    "    def add(self):\n",
    "        return self.first + self.second\n",
    "\n",
    "    def sub(self):\n",
    "        return self.first - self.second\n",
    "    \n",
    "    def __repr__(self): # 스페셜 메서드, 객체를 출력하면 나오는 문자열 정의 가능\n",
    "        return f\"first : {self.first}, second : {self.second}, append add\""
   ]
  },
  {
   "cell_type": "code",
   "execution_count": 40,
   "metadata": {},
   "outputs": [
    {
     "name": "stdout",
     "output_type": "stream",
     "text": [
      "first : 104, second : 5000, append add\n"
     ]
    }
   ],
   "source": [
    "four_calc_obj = FourCalc()\n",
    "four_calc_obj.set_data(104, 5000)\n",
    "print(four_calc_obj)"
   ]
  },
  {
   "cell_type": "code",
   "execution_count": 41,
   "metadata": {},
   "outputs": [
    {
     "data": {
      "text/plain": [
       "5104"
      ]
     },
     "execution_count": 41,
     "metadata": {},
     "output_type": "execute_result"
    }
   ],
   "source": [
    "four_calc_obj.add()"
   ]
  },
  {
   "cell_type": "code",
   "execution_count": 43,
   "metadata": {},
   "outputs": [
    {
     "data": {
      "text/plain": [
       "-4896"
      ]
     },
     "execution_count": 43,
     "metadata": {},
     "output_type": "execute_result"
    }
   ],
   "source": [
    "four_calc_obj.sub()"
   ]
  },
  {
   "cell_type": "code",
   "execution_count": 45,
   "metadata": {},
   "outputs": [
    {
     "data": {
      "text/plain": [
       "'first : 104, second : 5000, append add'"
      ]
     },
     "execution_count": 45,
     "metadata": {},
     "output_type": "execute_result"
    }
   ],
   "source": [
    "four_calc_obj.__repr__()"
   ]
  },
  {
   "cell_type": "code",
   "execution_count": 46,
   "metadata": {},
   "outputs": [],
   "source": [
    "test = FourCalc()"
   ]
  },
  {
   "cell_type": "code",
   "execution_count": 47,
   "metadata": {},
   "outputs": [
    {
     "data": {
      "text/plain": [
       "0"
      ]
     },
     "execution_count": 47,
     "metadata": {},
     "output_type": "execute_result"
    }
   ],
   "source": [
    "test.add()"
   ]
  },
  {
   "cell_type": "code",
   "execution_count": null,
   "metadata": {},
   "outputs": [],
   "source": []
  },
  {
   "cell_type": "markdown",
   "metadata": {},
   "source": [
    "### 생성자로 클래스 생성시 값 입력하기"
   ]
  },
  {
   "cell_type": "code",
   "execution_count": 63,
   "metadata": {},
   "outputs": [],
   "source": [
    "class FourCalc: #FourCalc\n",
    "    # def __init__(self):\n",
    "    #     self.first = 0\n",
    "    #     self.second = 0\n",
    "        \n",
    "    def __init__(self, first, second): # 스페셜 메서드 생성자 역할\n",
    "        self.set_data(first, second)\n",
    "        \n",
    "    def set_data(self, first, second):\n",
    "        self.first = first\n",
    "        self.second = second\n",
    "    \n",
    "    def add(self):\n",
    "        return self.first + self.second\n",
    "    \n",
    "    def __repr__(self): # 스페셜 메서드, 객체를 출력하면 나오는 문자열 정의 가능\n",
    "        return f\"first : {self.first}, second : {self.second}\""
   ]
  },
  {
   "cell_type": "code",
   "execution_count": 64,
   "metadata": {},
   "outputs": [
    {
     "ename": "TypeError",
     "evalue": "FourCalc.__init__() missing 2 required positional arguments: 'first' and 'second'",
     "output_type": "error",
     "traceback": [
      "\u001b[0;31m---------------------------------------------------------------------------\u001b[0m",
      "\u001b[0;31mTypeError\u001b[0m                                 Traceback (most recent call last)",
      "Cell \u001b[0;32mIn[64], line 1\u001b[0m\n\u001b[0;32m----> 1\u001b[0m four_calc_obj \u001b[38;5;241m=\u001b[39m \u001b[43mFourCalc\u001b[49m\u001b[43m(\u001b[49m\u001b[43m)\u001b[49m  \u001b[38;5;66;03m# 생성자를 구현했는데 값을 안써주면 에러\u001b[39;00m\n\u001b[1;32m      2\u001b[0m four_calc_obj\u001b[38;5;241m.\u001b[39mset_data(\u001b[38;5;241m104\u001b[39m, \u001b[38;5;241m5000\u001b[39m)\n\u001b[1;32m      3\u001b[0m \u001b[38;5;28mprint\u001b[39m(four_calc_obj)\n",
      "\u001b[0;31mTypeError\u001b[0m: FourCalc.__init__() missing 2 required positional arguments: 'first' and 'second'"
     ]
    }
   ],
   "source": [
    "four_calc_obj = FourCalc()  # 생성자를 구현했는데 값을 안써주면 에러\n",
    "four_calc_obj.set_data(104, 5000)\n",
    "print(four_calc_obj)"
   ]
  },
  {
   "cell_type": "code",
   "execution_count": 65,
   "metadata": {},
   "outputs": [
    {
     "name": "stdout",
     "output_type": "stream",
     "text": [
      "first : 4104, second : 5000\n"
     ]
    }
   ],
   "source": [
    "four_calc_obj = FourCalc(2, 4)  # 생성자를 구현했는데 값을 안써주면 에러\n",
    "four_calc_obj.set_data(4104, 5000) # 값을 덮어쓴다\n",
    "print(four_calc_obj)"
   ]
  },
  {
   "cell_type": "code",
   "execution_count": null,
   "metadata": {},
   "outputs": [],
   "source": []
  }
 ],
 "metadata": {
  "kernelspec": {
   "display_name": "Python 3 (ipykernel)",
   "language": "python",
   "name": "python3"
  },
  "language_info": {
   "codemirror_mode": {
    "name": "ipython",
    "version": 3
   },
   "file_extension": ".py",
   "mimetype": "text/x-python",
   "name": "python",
   "nbconvert_exporter": "python",
   "pygments_lexer": "ipython3",
   "version": "3.11.5"
  }
 },
 "nbformat": 4,
 "nbformat_minor": 4
}
