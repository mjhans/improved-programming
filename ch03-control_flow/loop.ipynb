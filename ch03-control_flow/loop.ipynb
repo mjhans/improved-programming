{
 "cells": [
  {
   "cell_type": "markdown",
   "id": "d5b2b273-c205-4fd1-abf2-1efa5fdc13f2",
   "metadata": {},
   "source": [
    "# while"
   ]
  },
  {
   "cell_type": "code",
   "execution_count": 2,
   "id": "3abacb52-4c34-4343-8e2c-c424b010c46b",
   "metadata": {},
   "outputs": [
    {
     "name": "stdout",
     "output_type": "stream",
     "text": [
      "나무를1번 찍었습니다.\n",
      "나무를2번 찍었습니다.\n",
      "나무를3번 찍었습니다.\n",
      "나무를4번 찍었습니다.\n",
      "나무를5번 찍었습니다.\n",
      "나무를6번 찍었습니다.\n",
      "나무를7번 찍었습니다.\n",
      "나무를8번 찍었습니다.\n",
      "나무를9번 찍었습니다.\n",
      "나무를10번 찍었습니다.\n",
      "나무넘어갑니다.\n"
     ]
    }
   ],
   "source": [
    "tree_hit = 0\n",
    "\n",
    "while tree_hit < 10:\n",
    "    tree_hit += 1 # treehit = tree_hit + 1 tree_hit++ (X)\n",
    "    \n",
    "    print(f\"나무를{tree_hit}번 찍었습니다.\")\n",
    "    if tree_hit == 10:\n",
    "        print(\"나무넘어갑니다.\")\n"
   ]
  },
  {
   "cell_type": "code",
   "execution_count": 5,
   "id": "46780739-01a7-4822-98ed-fba8fe665f17",
   "metadata": {},
   "outputs": [
    {
     "name": "stdout",
     "output_type": "stream",
     "text": [
      "나무를1번 찍었습니다.\n",
      "나무를2번 찍었습니다.\n",
      "나무를3번 찍었습니다.\n",
      "나무를4번 찍었습니다.\n",
      "나무를5번 찍었습니다.\n",
      "나무를6번 찍었습니다.\n",
      "나무를7번 찍었습니다.\n",
      "나무를8번 찍었습니다.\n",
      "나무를9번 찍었습니다.\n",
      "나무를10번 찍었습니다.\n",
      "나무넘어갑니다.\n"
     ]
    }
   ],
   "source": [
    "tree_hit = 0\n",
    "\n",
    "while True:\n",
    "    tree_hit += 1 # treehit = tree_hit + 1 tree_hit++ (X)\n",
    "    print(f\"나무를{tree_hit}번 찍었습니다.\")\n",
    "    if tree_hit == 10:\n",
    "        print(\"나무넘어갑니다.\")\n",
    "        break\n",
    " "
   ]
  },
  {
   "cell_type": "code",
   "execution_count": 6,
   "id": "827f7423-c348-47e0-a33c-ba4a433bee51",
   "metadata": {},
   "outputs": [
    {
     "name": "stdout",
     "output_type": "stream",
     "text": [
      "나무를1번 찍었습니다.\n",
      "나무를3번 찍었습니다.\n",
      "나무를5번 찍었습니다.\n",
      "나무를7번 찍었습니다.\n",
      "나무를9번 찍었습니다.\n",
      "나무를11번 찍었습니다.\n",
      "나무를13번 찍었습니다.\n",
      "나무를15번 찍었습니다.\n",
      "나무를17번 찍었습니다.\n",
      "나무를19번 찍었습니다.\n"
     ]
    }
   ],
   "source": [
    "tree_hit = 0\n",
    "\n",
    "while tree_hit < 20:\n",
    "    tree_hit += 1 # treehit = tree_hit + 1 tree_hit++ (X)\n",
    "    if tree_hit % 2 == 0:\n",
    "        continue\n",
    "    print(f\"나무를{tree_hit}번 찍었습니다.\")\n",
    "    if tree_hit == 20:\n",
    "        print(\"나무넘어갑니다.\")\n",
    "    "
   ]
  },
  {
   "cell_type": "code",
   "execution_count": null,
   "id": "4353e864-2782-4a8f-bf8d-950a56982d15",
   "metadata": {},
   "outputs": [],
   "source": []
  }
 ],
 "metadata": {
  "kernelspec": {
   "display_name": "Python 3 (ipykernel)",
   "language": "python",
   "name": "python3"
  },
  "language_info": {
   "codemirror_mode": {
    "name": "ipython",
    "version": 3
   },
   "file_extension": ".py",
   "mimetype": "text/x-python",
   "name": "python",
   "nbconvert_exporter": "python",
   "pygments_lexer": "ipython3",
   "version": "3.11.5"
  }
 },
 "nbformat": 4,
 "nbformat_minor": 5
}
