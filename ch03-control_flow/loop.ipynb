{
 "cells": [
  {
   "cell_type": "markdown",
   "id": "d5b2b273-c205-4fd1-abf2-1efa5fdc13f2",
   "metadata": {},
   "source": [
    "# while"
   ]
  },
  {
   "cell_type": "code",
   "execution_count": 2,
   "id": "3abacb52-4c34-4343-8e2c-c424b010c46b",
   "metadata": {},
   "outputs": [
    {
     "name": "stdout",
     "output_type": "stream",
     "text": [
      "나무를1번 찍었습니다.\n",
      "나무를2번 찍었습니다.\n",
      "나무를3번 찍었습니다.\n",
      "나무를4번 찍었습니다.\n",
      "나무를5번 찍었습니다.\n",
      "나무를6번 찍었습니다.\n",
      "나무를7번 찍었습니다.\n",
      "나무를8번 찍었습니다.\n",
      "나무를9번 찍었습니다.\n",
      "나무를10번 찍었습니다.\n",
      "나무넘어갑니다.\n"
     ]
    }
   ],
   "source": [
    "tree_hit = 0\n",
    "\n",
    "while tree_hit < 10:\n",
    "    tree_hit += 1 # treehit = tree_hit + 1 tree_hit++ (X)\n",
    "    \n",
    "    print(f\"나무를{tree_hit}번 찍었습니다.\")\n",
    "    if tree_hit == 10:\n",
    "        print(\"나무넘어갑니다.\")\n"
   ]
  },
  {
   "cell_type": "markdown",
   "id": "cfea4c8f",
   "metadata": {},
   "source": [
    "**while문의 동작 방법**\n",
    "\n",
    "|treeHit | 조건문 | 조건 판단 | 수행하는 문장 | while문 |\n",
    "|---     |---   |---      |---         |---     |\n",
    "|0 | 0 < 10\t | 참 |\t나무를 1번 찍었습니다. (treeHit += 1)\t| 반복 |\n",
    "|1 | 1 < 10\t | 참 |\t나무를 2번 찍었습니다. (treeHit += 1)\t| 반복 |\n",
    "|2 | 2 < 10\t | 참 |\t나무를 3번 찍었습니다. (treeHit += 1)\t| 반복 |\n",
    "|3 | 3 < 10\t | 참 |\t나무를 4번 찍었습니다. (treeHit += 1)\t| 반복 |\n",
    "|4 | 4 < 10\t | 참 |\t나무를 5번 찍었습니다. (treeHit += 1)\t| 반복 |\n",
    "|5 | 5 < 10\t | 참 |\t나무를 6번 찍었습니다. (treeHit += 1)\t| 반복 |\n",
    "|6 | 6 < 10\t | 참 |\t나무를 7번 찍었습니다. (treeHit += 1)\t| 반복 |\n",
    "|7 | 7 < 10\t | 참 |\t나무를 8번 찍었습니다. (treeHit += 1)\t| 반복 |\n",
    "|8 | 8 < 10\t | 참 |\t나무를 9번 찍었습니다. (treeHit += 1)\t| 반복 |\n",
    "|9 | 9 < 10\t | 참 |\t나무를 10번 찍었습니다. 나무 넘어갑니다. (treeHit += 1) | 반복 |\n",
    "|10 | 10 < 10 | 거짓 |\t| 종료 |"
   ]
  },
  {
   "cell_type": "code",
   "execution_count": 5,
   "id": "46780739-01a7-4822-98ed-fba8fe665f17",
   "metadata": {},
   "outputs": [
    {
     "name": "stdout",
     "output_type": "stream",
     "text": [
      "나무를1번 찍었습니다.\n",
      "나무를2번 찍었습니다.\n",
      "나무를3번 찍었습니다.\n",
      "나무를4번 찍었습니다.\n",
      "나무를5번 찍었습니다.\n",
      "나무를6번 찍었습니다.\n",
      "나무를7번 찍었습니다.\n",
      "나무를8번 찍었습니다.\n",
      "나무를9번 찍었습니다.\n",
      "나무를10번 찍었습니다.\n",
      "나무넘어갑니다.\n"
     ]
    }
   ],
   "source": [
    "tree_hit = 0\n",
    "\n",
    "while True:\n",
    "    tree_hit += 1 # treehit = tree_hit + 1 tree_hit++ (X)\n",
    "    print(f\"나무를{tree_hit}번 찍었습니다.\")\n",
    "    if tree_hit == 10:\n",
    "        print(\"나무넘어갑니다.\")\n",
    "        break\n",
    " "
   ]
  },
  {
   "cell_type": "code",
   "execution_count": 6,
   "id": "827f7423-c348-47e0-a33c-ba4a433bee51",
   "metadata": {},
   "outputs": [
    {
     "name": "stdout",
     "output_type": "stream",
     "text": [
      "나무를1번 찍었습니다.\n",
      "나무를3번 찍었습니다.\n",
      "나무를5번 찍었습니다.\n",
      "나무를7번 찍었습니다.\n",
      "나무를9번 찍었습니다.\n",
      "나무를11번 찍었습니다.\n",
      "나무를13번 찍었습니다.\n",
      "나무를15번 찍었습니다.\n",
      "나무를17번 찍었습니다.\n",
      "나무를19번 찍었습니다.\n"
     ]
    }
   ],
   "source": [
    "tree_hit = 0\n",
    "\n",
    "while tree_hit < 20:\n",
    "    tree_hit += 1 # treehit = tree_hit + 1 tree_hit++ (X)\n",
    "    if tree_hit % 2 == 0:\n",
    "        continue\n",
    "    print(f\"나무를{tree_hit}번 찍었습니다.\")\n",
    "    if tree_hit == 20:\n",
    "        print(\"나무넘어갑니다.\")\n",
    "    "
   ]
  },
  {
   "cell_type": "code",
   "execution_count": null,
   "id": "4353e864-2782-4a8f-bf8d-950a56982d15",
   "metadata": {},
   "outputs": [],
   "source": []
  }
 ],
 "metadata": {
  "kernelspec": {
   "display_name": "Python 3 (ipykernel)",
   "language": "python",
   "name": "python3"
  },
  "language_info": {
   "codemirror_mode": {
    "name": "ipython",
    "version": 3
   },
   "file_extension": ".py",
   "mimetype": "text/x-python",
   "name": "python",
   "nbconvert_exporter": "python",
   "pygments_lexer": "ipython3",
   "version": "3.11.5"
  }
 },
 "nbformat": 4,
 "nbformat_minor": 5
}
